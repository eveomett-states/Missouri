{
 "cells": [
  {
   "cell_type": "markdown",
   "id": "48a72edc-10d5-447e-bf59-a42b79b13098",
   "metadata": {},
   "source": [
    "# All the parameters that need to be changed"
   ]
  },
  {
   "cell_type": "code",
   "execution_count": 1,
   "id": "55545525-1a53-4366-88fa-4b4ecc94ecad",
   "metadata": {},
   "outputs": [],
   "source": [
    "# Missouri\n",
    "state_ab = \"mo\""
   ]
  },
  {
   "cell_type": "markdown",
   "id": "c3e1bdeb-55c5-4c10-83b5-de352e6d559d",
   "metadata": {
    "tags": []
   },
   "source": [
    "## Data\n",
    "1. Download all the data in directory \"mo_data\"\n",
    "2. Eextract them all"
   ]
  },
  {
   "cell_type": "code",
   "execution_count": 2,
   "id": "1cbb32f0-472b-4441-abf2-6af58699cb5f",
   "metadata": {},
   "outputs": [],
   "source": [
    "data_folder = state_ab + \"_data/\"\n",
    "population1_data = \"./{}{}_pl2020_b/{}_pl2020_p1_b.shp\".format(data_folder, state_ab, state_ab)\n",
    "population2_data = \"./{}{}_pl2020_b/{}_pl2020_p2_b.shp\".format(data_folder, state_ab, state_ab)\n",
    "vap_data =  \"./{}{}_pl2020_b/{}_pl2020_p4_b.shp\".format(data_folder, state_ab, state_ab)\n",
    "vest20_data = \"./{}{}_vest_20/{}_vest_20.shp\".format(data_folder, state_ab, state_ab)\n",
    "vest18_data = \"./{}{}_vest_18/{}_vest_18.shp\".format(data_folder, state_ab, state_ab)\n",
    "vest16_data = \"./{}{}_vest_16/{}_vest_16.shp\".format(data_folder, state_ab, state_ab)\n",
    "cd_data = \"./{}{}_cong_adopted_2022/5799H_02T.shp\".format(data_folder, state_ab)\n",
    "send_data = \"./{}{}_sldu_adopted_2022/2022_JRC_Senate_Redistricting_Plan.shp\".format(data_folder, state_ab)\n",
    "hdist_data = \"./{}{}_sldl_adopted_2022/HIBCC Final Apportionment Plan 2.shp\".format(data_folder, state_ab)\n",
    "county_data = \"./{}{}_pl2020_cnty/{}_pl2020_cnty.shp\".format(data_folder, state_ab, state_ab)"
   ]
  },
  {
   "cell_type": "markdown",
   "id": "2594a66a-efb1-443f-8b0a-b2c73257f1cc",
   "metadata": {},
   "source": [
    "## Parameters that needs to be manually checked\n",
    "\n",
    "### base vest data\n",
    "start_col = 5\\\n",
    "vest_base_data = vest20\\\n",
    "year = '20'\n",
    "\n",
    "### district data\n",
    "district column name of cong_df, send, hdist when calling add_dist()"
   ]
  },
  {
   "cell_type": "markdown",
   "id": "d9cfe42b-cfd8-4ad4-b255-31268cb35669",
   "metadata": {},
   "source": [
    "# Program starts"
   ]
  },
  {
   "cell_type": "code",
   "execution_count": 3,
   "id": "49a264d4-c255-4393-b5ae-74b6f7c645da",
   "metadata": {},
   "outputs": [],
   "source": [
    "import pandas as pd\n",
    "import geopandas as gpd\n",
    "import maup\n",
    "import time\n",
    "from maup import smart_repair\n",
    "from gerrychain import Graph\n",
    "import os\n",
    "\n",
    "maup.progress.enabled = True"
   ]
  },
  {
   "cell_type": "code",
   "execution_count": 4,
   "id": "f78d28b6-abb4-4444-aa7e-f0eb73dab3f2",
   "metadata": {},
   "outputs": [],
   "source": [
    "import warnings\n",
    "warnings.filterwarnings(\"ignore\")"
   ]
  },
  {
   "cell_type": "code",
   "execution_count": 5,
   "id": "378425b3-9819-41bd-8212-2e031b571cf2",
   "metadata": {},
   "outputs": [],
   "source": [
    "def do_smart_repair(df, min_rook_length = None, snap_precision = 10):\n",
    "    # change it to the UTM it needs for smart_repair\n",
    "    df = df.to_crs(df.estimate_utm_crs())\n",
    "    df = smart_repair(df, min_rook_length = min_rook_length, snap_precision = snap_precision)\n",
    "\n",
    "    if maup.doctor(df) == False:\n",
    "        raise Exception('maup.doctor failed')\n",
    "    \n",
    "    return df"
   ]
  },
  {
   "cell_type": "code",
   "execution_count": 6,
   "id": "df3945da-c3af-41a8-9511-a5aba33fef0b",
   "metadata": {},
   "outputs": [],
   "source": [
    "def add_district(dist_df, dist_name, election_df, col_name):\n",
    "    election_df = election_df.to_crs(election_df.estimate_utm_crs())\n",
    "    dist_df = dist_df.to_crs(dist_df.estimate_utm_crs())\n",
    "    # check if it needs to be smart_repair\n",
    "    if maup.doctor(dist_df) != True:\n",
    "        dist_df = do_smart_repair(dist_df)\n",
    "\n",
    "    # assign the pricincts\n",
    "    precincts_to_district_assignment = maup.assign(election_df.geometry, dist_df.geometry)\n",
    "    election_df[dist_name] = precincts_to_district_assignment\n",
    "    for precinct_index in range(len(election_df)):\n",
    "        election_df.at[precinct_index, dist_name] = dist_df.at[election_df.at[precinct_index, dist_name], col_name]\n",
    "\n",
    "    return election_df"
   ]
  },
  {
   "cell_type": "code",
   "execution_count": 7,
   "id": "29c38a31-6707-4ab3-a9e4-38d69ce6838c",
   "metadata": {},
   "outputs": [],
   "source": [
    "def rename(original, year):\n",
    "    party = original[6]\n",
    "    if party == 'R' or party == 'D':\n",
    "        return original[3:6] + year + original[6]\n",
    "    else:\n",
    "        return original[3:6] + year + 'O'"
   ]
  },
  {
   "cell_type": "code",
   "execution_count": 8,
   "id": "9cbd02f8-308e-4fe9-804a-6bc8474b749b",
   "metadata": {},
   "outputs": [],
   "source": [
    "def check_population(population, df):\n",
    "    pop_check = pd.DataFrame({\n",
    "        'pop_col': pop_col,\n",
    "        'population_df': population[pop_col].sum(), \n",
    "        'vest_base': df[pop_col].sum(),\n",
    "        'equal': [x == y for x, y in zip(population[pop_col].sum(), df[pop_col].sum())]\n",
    "    })\n",
    "    if pop_check['equal'].mean() < 1:\n",
    "        print(pop_check)\n",
    "        raise Exception(\"population doesn't agree\")\n",
    "\n",
    "    else:\n",
    "        print(\"population agrees\")"
   ]
  },
  {
   "cell_type": "code",
   "execution_count": 9,
   "id": "c4508baf-84cd-4a31-97ad-059164232e8e",
   "metadata": {},
   "outputs": [],
   "source": [
    "def add_vest(vest, df, year, population, start_col, snap_precision = 10):\n",
    "    df = df.to_crs(df.estimate_utm_crs())\n",
    "    vest = vest.to_crs(vest.estimate_utm_crs())\n",
    "    population = population.to_crs(population.estimate_utm_crs())\n",
    "    df_crs = df.crs\n",
    "    vest_crs = vest.crs\n",
    "    \n",
    "     # check if it needs to be smart_repair\n",
    "    if maup.doctor(vest) != True:\n",
    "        vest = do_smart_repair(vest, snap_precision = snap_precision)\n",
    "    \n",
    "    # rename the columns\n",
    "    original_col = vest.columns[start_col:-1]\n",
    "    new_col = [rename(i, year) for i in original_col]\n",
    "    rename_dict = dict(zip(original_col, new_col))\n",
    "    vest = vest.rename(columns=rename_dict)\n",
    "    vest = vest.groupby(level=0, axis=1).sum() # combine all the other party's vote into columns with sufix \"O\"\n",
    "    col_name = list(set(new_col))\n",
    "    col_name.sort()\n",
    "    \n",
    "    # make the blocks from precincts by weight\n",
    "    vest = gpd.GeoDataFrame(vest, crs=vest_crs)\n",
    "    election_in_block = population[[\"VAP\", 'geometry']] # population_df is in block scale\n",
    "    blocks_to_precincts_assignment = maup.assign(election_in_block.geometry, vest.geometry)\n",
    "    weights = election_in_block[\"VAP\"] / blocks_to_precincts_assignment.map(election_in_block[\"VAP\"].groupby(blocks_to_precincts_assignment).sum())\n",
    "    weights = weights.fillna(0)\n",
    "    prorated = maup.prorate(blocks_to_precincts_assignment, vest[col_name], weights)\n",
    "    election_in_block[col_name] = prorated\n",
    "    \n",
    "    # assign blocks to precincts\n",
    "    election_in_block = gpd.GeoDataFrame(election_in_block, crs=vest_crs)\n",
    "    df = gpd.GeoDataFrame(df, crs=df_crs)\n",
    "    block_to_pricinct_assginment = maup.assign(election_in_block.geometry, df.geometry)\n",
    "    df[col_name] = election_in_block[col_name].groupby(block_to_pricinct_assginment).sum()\n",
    "    df = df.groupby(level=0, axis=1).sum()\n",
    "    df = gpd.GeoDataFrame(df, crs = df_crs)\n",
    "    # check if population agrees\n",
    "    check_population(population, df)\n",
    "    \n",
    "    return df"
   ]
  },
  {
   "cell_type": "code",
   "execution_count": 10,
   "id": "0b9a9b59",
   "metadata": {},
   "outputs": [],
   "source": [
    "def add_vest_base(vest, start_col, year, county = None, min_rook_length = None, snap_precision = 10):\n",
    "    vest = vest.to_crs(vest.estimate_utm_crs())\n",
    "    vest_crs = vest.crs\n",
    "    original_col = vest.columns[start_col:-1]\n",
    "    new_col = [rename(i, year) for i in original_col]\n",
    "    rename_dict = dict(zip(original_col, new_col))\n",
    "    vest = vest.rename(columns=rename_dict)\n",
    "    vest = vest.groupby(level=0, axis=1).sum()\n",
    "    vest = gpd.GeoDataFrame(vest, crs=vest_crs)\n",
    "\n",
    "    if county is not None:\n",
    "        county = county.to_crs(county.estimate_utm_crs())\n",
    "        vest = smart_repair(vest, nest_within_regions = county, min_rook_length = min_rook_length, snap_precision = snap_precision) # nest precincts within counties\n",
    "\n",
    "    else:\n",
    "        vest = smart_repair(vest, min_rook_length = min_rook_length, snap_precision = snap_precision) \n",
    "    \n",
    "    return vest"
   ]
  },
  {
   "cell_type": "code",
   "execution_count": 11,
   "id": "1becef79",
   "metadata": {},
   "outputs": [],
   "source": [
    "def check_small_boundary_lengths(vest_base):\n",
    "    import copy\n",
    "    vest_base = vest_base.to_crs(vest_base.estimate_utm_crs())\n",
    "\n",
    "    boundaries = copy.deepcopy(vest_base)\n",
    "    boundaries[\"geometry\"] = boundaries.geometry.boundary  # get boundaries\n",
    "    neighbors = gpd.sjoin(boundaries, vest_base, predicate=\"intersects\") # find boundaries that intersect\n",
    "    neighbors = neighbors[neighbors.index != neighbors.index_right] # remove boundaries of a region with itself\n",
    "\n",
    "    # compute shared border length using intersection\n",
    "    borders = list(neighbors.apply(\n",
    "        lambda row: row.geometry.intersection(vest_base.loc[row.index_right, \"geometry\"]).length, axis=1\n",
    "    ))\n",
    "\n",
    "    borders.sort()\n",
    "    \n",
    "    return borders"
   ]
  },
  {
   "cell_type": "markdown",
   "id": "ab6ce8f5-f237-4d6c-8425-cd8a0b080f65",
   "metadata": {},
   "source": [
    "## Read the census data"
   ]
  },
  {
   "cell_type": "code",
   "execution_count": 12,
   "id": "185d2b84-d37f-4f24-86c1-1bcd0b4347e2",
   "metadata": {},
   "outputs": [],
   "source": [
    "population1_df = gpd.read_file(population1_data)\n",
    "population2_df = gpd.read_file(population2_data)\n",
    "vap_df = gpd.read_file(vap_data)\n",
    "county_df = gpd.read_file(county_data)"
   ]
  },
  {
   "cell_type": "code",
   "execution_count": 13,
   "id": "57b3b9bb-9721-469d-8eee-0dd5eb0e6015",
   "metadata": {},
   "outputs": [],
   "source": [
    "population2_df = population2_df.drop(columns=['SUMLEV', 'LOGRECNO', 'GEOID', 'COUNTY', 'geometry'])\n",
    "vap_df = vap_df.drop(columns=['SUMLEV', 'LOGRECNO', 'GEOID', 'COUNTY', 'geometry'])"
   ]
  },
  {
   "cell_type": "code",
   "execution_count": 14,
   "id": "daa935f7-bc02-4856-adb0-9cc9cf31ffca",
   "metadata": {},
   "outputs": [],
   "source": [
    "population_df = pd.merge(population1_df, population2_df, on='GEOID20')\n",
    "population_df = pd.merge(population_df, vap_df, on='GEOID20')\n",
    "population_df = population_df.to_crs(population_df.estimate_utm_crs())"
   ]
  },
  {
   "cell_type": "code",
   "execution_count": 15,
   "id": "f27b330e",
   "metadata": {},
   "outputs": [
    {
     "name": "stderr",
     "output_type": "stream",
     "text": [
      "100%|████████████████████████████████████████████████████████████| 253632/253632 [02:03<00:00, 2054.69it/s]\n"
     ]
    },
    {
     "data": {
      "text/plain": [
       "True"
      ]
     },
     "execution_count": 15,
     "metadata": {},
     "output_type": "execute_result"
    }
   ],
   "source": [
    "maup.doctor(population_df)"
   ]
  },
  {
   "cell_type": "code",
   "execution_count": 16,
   "id": "ac25e3ce",
   "metadata": {},
   "outputs": [],
   "source": [
    "rename_dict = {'P0020001': 'TOTPOP', 'P0020002': 'HISP', 'P0020005': 'NH_WHITE', 'P0020006': 'NH_BLACK', 'P0020007': 'NH_AMIN',\n",
    "               'P0020008': 'NH_ASIAN', 'P0020009': 'NH_NHPI', 'P0020010': 'NH_OTHER', 'P0020011': 'NH_2MORE',\n",
    "               'P0040001': 'VAP', 'P0040002': 'HVAP', 'P0040005': 'WVAP', 'P0040006': 'BVAP', 'P0040007': 'AMINVAP',\n",
    "               'P0040008': 'ASIANVAP', 'P0040009': 'NHPIVAP', 'P0040010': 'OTHERVAP', 'P0040011': '2MOREVAP'}"
   ]
  },
  {
   "cell_type": "code",
   "execution_count": 17,
   "id": "b096ad10",
   "metadata": {},
   "outputs": [],
   "source": [
    "population_df.rename(columns=rename_dict, inplace = True)"
   ]
  },
  {
   "cell_type": "code",
   "execution_count": 18,
   "id": "9550a841-5692-4d5f-a7f1-131d53eb9f12",
   "metadata": {},
   "outputs": [],
   "source": [
    "population_df['H_WHITE'] = population_df.apply(lambda t: t['P0010003'] - t['NH_WHITE'], 1)\n",
    "population_df['H_BLACK'] = population_df.apply(lambda t: t['P0010004'] - t['NH_BLACK'], 1)\n",
    "population_df['H_AMIN'] = population_df.apply(lambda t: t['P0010005'] - t['NH_AMIN'], 1)\n",
    "population_df['H_ASIAN'] = population_df.apply(lambda t: t['P0010006'] - t['NH_ASIAN'], 1)\n",
    "population_df['H_NHPI'] = population_df.apply(lambda t: t['P0010007'] - t['NH_NHPI'], 1)\n",
    "population_df['H_OTHER'] = population_df.apply(lambda t: t['P0010008'] - t['NH_OTHER'], 1)\n",
    "population_df['H_2MORE'] = population_df.apply(lambda t: t['P0010009'] - t['NH_2MORE'], 1)"
   ]
  },
  {
   "cell_type": "markdown",
   "id": "a6b7824e",
   "metadata": {},
   "source": [
    "Make sure that the County shapefile is clean:"
   ]
  },
  {
   "cell_type": "code",
   "execution_count": 19,
   "id": "f67bac62",
   "metadata": {},
   "outputs": [
    {
     "name": "stderr",
     "output_type": "stream",
     "text": [
      "100%|███████████████████████████████████████████████████████████████████| 115/115 [00:00<00:00, 333.35it/s]\n"
     ]
    },
    {
     "data": {
      "text/plain": [
       "True"
      ]
     },
     "execution_count": 19,
     "metadata": {},
     "output_type": "execute_result"
    }
   ],
   "source": [
    "maup.doctor(county_df)"
   ]
  },
  {
   "cell_type": "markdown",
   "id": "e1e89689-06e1-4937-9bee-b0442bfc33d5",
   "metadata": {},
   "source": [
    "# Read the base vest data\n",
    "Now using it as a \"base precinct\", but it could be vest 18 or vest 16 if vest 20 is not working"
   ]
  },
  {
   "cell_type": "markdown",
   "id": "bcfb3af1-db89-4463-98d8-3a0192067bb4",
   "metadata": {},
   "source": [
    "### Check if vest 20 can be used as base"
   ]
  },
  {
   "cell_type": "code",
   "execution_count": 20,
   "id": "397e9936-bfde-4b09-9dcb-207733dfb2dd",
   "metadata": {},
   "outputs": [],
   "source": [
    "vest20 = gpd.read_file(vest20_data)"
   ]
  },
  {
   "cell_type": "code",
   "execution_count": 21,
   "id": "2d744be1-7568-4b94-a383-17d219ac128b",
   "metadata": {},
   "outputs": [
    {
     "data": {
      "text/plain": [
       "Index(['STATEFP', 'COUNTYFP', 'NAME', 'G20PRERTRU', 'G20PREDBID', 'G20PRELJOR',\n",
       "       'G20PREGHAW', 'G20PRECBLA', 'G20GOVRPAR', 'G20GOVDGAL', 'G20GOVLCOM',\n",
       "       'G20GOVGBAU', 'G20LTGRKEH', 'G20LTGDCAN', 'G20LTGLSLA', 'G20LTGGDRA',\n",
       "       'G20ATGRSCH', 'G20ATGDFIN', 'G20ATGLBAB', 'G20SOSRASH', 'G20SOSDFAL',\n",
       "       'G20SOSLFRE', 'G20SOSGLEH', 'G20SOSCVEN', 'G20TRERFIT', 'G20TREDENG',\n",
       "       'G20TRELKAS', 'G20TREGCIV', 'geometry'],\n",
       "      dtype='object')"
      ]
     },
     "execution_count": 21,
     "metadata": {},
     "output_type": "execute_result"
    }
   ],
   "source": [
    "vest20.columns"
   ]
  },
  {
   "cell_type": "markdown",
   "id": "65620cab-599f-4232-818e-e85846d02694",
   "metadata": {},
   "source": [
    "## Parameters that need to be checked"
   ]
  },
  {
   "cell_type": "code",
   "execution_count": 22,
   "id": "4200a0f8-29dd-42f9-96e4-ff27188ce32a",
   "metadata": {},
   "outputs": [],
   "source": [
    "start_col = 3\n",
    "vest_base_data = vest20\n",
    "year = '20'"
   ]
  },
  {
   "cell_type": "code",
   "execution_count": 23,
   "id": "728420ec-9df2-4771-ae4c-1832fe3fb12f",
   "metadata": {},
   "outputs": [
    {
     "name": "stderr",
     "output_type": "stream",
     "text": [
      "100%|███████████████████████████████████████████████████████████████████| 115/115 [00:00<00:00, 392.05it/s]\n"
     ]
    },
    {
     "name": "stdout",
     "output_type": "stream",
     "text": [
      "Snapping all geometries to a grid with precision 10^( -5 ) to avoid GEOS errors.\n"
     ]
    },
    {
     "name": "stderr",
     "output_type": "stream",
     "text": [
      "100%|███████████████████████████████████████████████████████████████████| 115/115 [00:00<00:00, 160.55it/s]\n",
      "100%|███████████████████████████████████████████████████████████████████| 115/115 [00:00<00:00, 128.98it/s]\n"
     ]
    },
    {
     "name": "stdout",
     "output_type": "stream",
     "text": [
      "Identifying overlaps...\n"
     ]
    },
    {
     "name": "stderr",
     "output_type": "stream",
     "text": [
      "100%|██████████████████████████████████████████████████████████████| 12803/12803 [00:05<00:00, 2372.02it/s]\n"
     ]
    },
    {
     "name": "stdout",
     "output_type": "stream",
     "text": [
      "Resolving overlaps and filling gaps...\n"
     ]
    },
    {
     "name": "stderr",
     "output_type": "stream",
     "text": [
      "100%|███████████████████████████████████████████████████████████████████| 115/115 [00:00<00:00, 237.91it/s]\n",
      "100%|███████████████████████████████████████████████████████████████████| 115/115 [00:00<00:00, 140.87it/s]\n",
      "Gaps to simplify in region 0: 100%|████████████████████████████████████████| 12/12 [00:00<00:00, 38.23it/s]\n",
      "Gaps to fill in region 0: 100%|██████████████████████████████████████████████| 3/3 [00:00<00:00, 16.98it/s]\n",
      "Gaps to simplify in region 1: 100%|██████████████████████████████████████████| 5/5 [00:00<00:00, 70.98it/s]\n",
      "Gaps to fill: 0it [00:00, ?it/s]\n",
      "Gaps to simplify in region 2: 100%|██████████████████████████████████████████| 7/7 [00:00<00:00, 28.01it/s]\n",
      "Gaps to fill: 0it [00:00, ?it/s]\n",
      "Gaps to simplify in region 3: 100%|█████████████████████████████████████████| 6/6 [00:00<00:00, 110.09it/s]\n",
      "Gaps to fill: 0it [00:00, ?it/s]\n",
      "Gaps to simplify in region 4: 100%|█████████████████████████████████████████| 3/3 [00:00<00:00, 105.76it/s]\n",
      "Gaps to fill: 0it [00:00, ?it/s]\n",
      "Gaps to simplify in region 5: 100%|██████████████████████████████████████████| 1/1 [00:00<00:00, 92.45it/s]\n",
      "Gaps to fill: 0it [00:00, ?it/s]\n",
      "Gaps to simplify in region 6: 100%|████████████████████████████████████████| 59/59 [00:00<00:00, 86.68it/s]\n",
      "Gaps to fill: 0it [00:00, ?it/s]\n",
      "Gaps to simplify in region 7: 100%|██████████████████████████████████████| 347/347 [00:08<00:00, 41.48it/s]\n",
      "Gaps to fill in region 7: 100%|██████████████████████████████████████████████| 3/3 [00:00<00:00,  8.74it/s]\n",
      "Gaps to simplify in region 8: 100%|█████████████████████████████████████| 111/111 [00:00<00:00, 164.05it/s]\n",
      "Gaps to fill: 0it [00:00, ?it/s]\n",
      "Gaps to simplify in region 9: 100%|███████████████████████████████████████| 22/22 [00:00<00:00, 119.29it/s]\n",
      "Gaps to fill: 0it [00:00, ?it/s]\n",
      "Gaps to simplify in region 10: 100%|████████████████████████████████████████| 7/7 [00:00<00:00, 116.10it/s]\n",
      "Gaps to fill in region 10: 100%|█████████████████████████████████████████████| 2/2 [00:00<00:00, 90.46it/s]\n",
      "Gaps to simplify: 0it [00:00, ?it/s]\n",
      "Gaps to fill: 0it [00:00, ?it/s]\n",
      "Gaps to simplify: 0it [00:00, ?it/s]\n",
      "Gaps to fill: 0it [00:00, ?it/s]\n",
      "Gaps to simplify in region 13: 100%|█████████████████████████████████████████| 1/1 [00:00<00:00, 95.30it/s]\n",
      "Gaps to fill: 0it [00:00, ?it/s]\n",
      "Gaps to simplify in region 14: 100%|████████████████████████████████████████| 3/3 [00:00<00:00, 110.78it/s]\n",
      "Gaps to fill: 0it [00:00, ?it/s]\n",
      "Gaps to simplify in region 15: 100%|████████████████████████████████████| 107/107 [00:00<00:00, 134.67it/s]\n",
      "Gaps to fill in region 15: 100%|████████████████████████████████████████████| 1/1 [00:00<00:00, 107.32it/s]\n",
      "Gaps to simplify in region 16: 100%|██████████████████████████████████████| 53/53 [00:00<00:00, 122.42it/s]\n",
      "Gaps to fill in region 16: 100%|█████████████████████████████████████████████| 8/8 [00:00<00:00, 67.67it/s]\n",
      "Gaps to simplify in region 17: 100%|████████████████████████████████████████| 2/2 [00:00<00:00, 131.48it/s]\n",
      "Gaps to fill: 0it [00:00, ?it/s]\n",
      "Gaps to simplify in region 18: 100%|██████████████████████████████████████| 24/24 [00:00<00:00, 154.47it/s]\n",
      "Gaps to fill: 0it [00:00, ?it/s]\n",
      "Gaps to simplify in region 19: 100%|██████████████████████████████████████| 16/16 [00:00<00:00, 127.16it/s]\n",
      "Gaps to fill in region 19: 100%|█████████████████████████████████████████████| 1/1 [00:00<00:00, 55.69it/s]\n",
      "Gaps to simplify in region 20: 100%|███████████████████████████████████████| 55/55 [00:00<00:00, 83.53it/s]\n",
      "Gaps to fill in region 20: 100%|█████████████████████████████████████████████| 3/3 [00:00<00:00, 29.51it/s]\n",
      "Gaps to simplify in region 21: 100%|██████████████████████████████████████| 55/55 [00:00<00:00, 120.06it/s]\n",
      "Gaps to fill in region 21: 100%|█████████████████████████████████████████████| 1/1 [00:00<00:00, 37.64it/s]\n",
      "Gaps to simplify in region 22: 100%|█████████████████████████████████████| 105/105 [00:01<00:00, 98.84it/s]\n",
      "Gaps to fill in region 22: 100%|█████████████████████████████████████████████| 1/1 [00:00<00:00, 31.37it/s]\n",
      "Gaps to simplify in region 23: 100%|██████████████████████████████████████| 85/85 [00:00<00:00, 101.95it/s]\n",
      "Gaps to fill in region 23: 100%|████████████████████████████████████████████| 3/3 [00:00<00:00, 106.58it/s]\n",
      "Gaps to simplify in region 24: 100%|██████████████████████████████████████| 49/49 [00:00<00:00, 126.92it/s]\n",
      "Gaps to fill: 0it [00:00, ?it/s]\n",
      "Gaps to simplify in region 25: 100%|██████████████████████████████████████| 18/18 [00:00<00:00, 149.08it/s]\n",
      "Gaps to fill: 0it [00:00, ?it/s]\n",
      "Gaps to simplify in region 26: 100%|█████████████████████████████████████| 686/686 [00:09<00:00, 73.48it/s]\n",
      "Gaps to fill: 0it [00:00, ?it/s]\n",
      "Gaps to simplify: 0it [00:00, ?it/s]\n",
      "Gaps to fill: 0it [00:00, ?it/s]\n",
      "Gaps to simplify: 0it [00:00, ?it/s]\n",
      "Gaps to fill: 0it [00:00, ?it/s]\n",
      "Gaps to simplify: 0it [00:00, ?it/s]\n",
      "Gaps to fill: 0it [00:00, ?it/s]\n",
      "Gaps to simplify in region 30: 100%|████████████████████████████████████████| 1/1 [00:00<00:00, 121.01it/s]\n",
      "Gaps to fill: 0it [00:00, ?it/s]\n",
      "Gaps to simplify in region 31: 100%|████████████████████████████████████| 143/143 [00:01<00:00, 122.47it/s]\n",
      "Gaps to fill in region 31: 100%|█████████████████████████████████████████████| 1/1 [00:00<00:00, 67.33it/s]\n",
      "Gaps to simplify in region 32: 100%|██████████████████████████████████████| 29/29 [00:00<00:00, 122.97it/s]\n",
      "Gaps to fill in region 32: 100%|█████████████████████████████████████████████| 1/1 [00:00<00:00, 38.54it/s]\n",
      "Gaps to simplify in region 33: 100%|████████████████████████████████████████| 1/1 [00:00<00:00, 107.21it/s]\n",
      "Gaps to fill: 0it [00:00, ?it/s]\n",
      "Gaps to simplify in region 34: 100%|███████████████████████████████████████| 20/20 [00:00<00:00, 74.41it/s]\n",
      "Gaps to fill in region 34: 100%|█████████████████████████████████████████████| 1/1 [00:00<00:00, 26.65it/s]\n",
      "Gaps to simplify in region 35: 100%|█████████████████████████████████████| 224/224 [00:02<00:00, 95.25it/s]\n",
      "Gaps to fill: 0it [00:00, ?it/s]\n",
      "Gaps to simplify in region 36: 100%|████████████████████████████████████████| 1/1 [00:00<00:00, 136.87it/s]\n",
      "Gaps to fill: 0it [00:00, ?it/s]\n",
      "Gaps to simplify in region 37: 100%|████████████████████████████████████████| 2/2 [00:00<00:00, 108.65it/s]\n",
      "Gaps to fill: 0it [00:00, ?it/s]\n",
      "Gaps to simplify in region 38: 100%|██████████████████████████████████████| 58/58 [00:00<00:00, 122.51it/s]\n",
      "Gaps to fill: 0it [00:00, ?it/s]\n",
      "Gaps to simplify in region 39: 100%|████████████████████████████████████| 180/180 [00:01<00:00, 104.74it/s]\n",
      "Gaps to fill: 0it [00:00, ?it/s]\n",
      "Gaps to simplify in region 40: 100%|████████████████████████████████████| 181/181 [00:01<00:00, 109.95it/s]\n",
      "Gaps to fill in region 40: 100%|█████████████████████████████████████████████| 2/2 [00:00<00:00, 34.26it/s]\n",
      "Gaps to simplify in region 41: 100%|███████████████████████████████████████| 64/64 [00:00<00:00, 98.85it/s]\n",
      "Gaps to fill: 0it [00:00, ?it/s]\n",
      "Gaps to simplify in region 42: 100%|██████████████████████████████████████| 41/41 [00:00<00:00, 128.45it/s]\n",
      "Gaps to fill in region 42: 100%|█████████████████████████████████████████████| 6/6 [00:00<00:00, 87.76it/s]\n",
      "Gaps to simplify in region 43: 100%|█████████████████████████████████████| 156/156 [00:12<00:00, 12.50it/s]\n",
      "Gaps to fill in region 43: 100%|███████████████████████████████████████████| 62/62 [00:08<00:00,  7.32it/s]\n",
      "Gaps to simplify in region 44: 100%|█████████████████████████████████████| 116/116 [00:01<00:00, 75.63it/s]\n",
      "Gaps to fill in region 44: 100%|█████████████████████████████████████████████| 7/7 [00:00<00:00, 15.38it/s]\n",
      "Gaps to simplify in region 45: 100%|███████████████████████████████████████| 53/53 [00:00<00:00, 87.01it/s]\n",
      "Gaps to fill: 0it [00:00, ?it/s]\n",
      "Gaps to simplify in region 46: 100%|██████████████████████████████████████| 55/55 [00:00<00:00, 137.14it/s]\n",
      "Gaps to fill in region 46: 100%|█████████████████████████████████████████████| 1/1 [00:00<00:00, 56.22it/s]\n",
      "Gaps to simplify in region 47: 100%|██████████████████████████████████████| 19/19 [00:00<00:00, 113.82it/s]\n",
      "Gaps to fill in region 47: 100%|█████████████████████████████████████████████| 1/1 [00:00<00:00, 63.01it/s]\n",
      "Gaps to simplify in region 48: 100%|██████████████████████████████████████| 10/10 [00:00<00:00, 140.42it/s]\n",
      "Gaps to fill: 0it [00:00, ?it/s]\n",
      "Gaps to simplify in region 49: 100%|████████████████████████████████████| 217/217 [00:01<00:00, 127.27it/s]\n",
      "Gaps to fill in region 49: 100%|█████████████████████████████████████████████| 3/3 [00:00<00:00, 84.23it/s]\n",
      "Gaps to simplify in region 50: 100%|██████████████████████████████████████| 13/13 [00:00<00:00, 151.65it/s]\n",
      "Gaps to fill: 0it [00:00, ?it/s]\n",
      "Gaps to simplify in region 51: 100%|██████████████████████████████████████| 56/56 [00:00<00:00, 139.19it/s]\n",
      "Gaps to fill in region 51: 100%|███████████████████████████████████████████| 15/15 [00:00<00:00, 92.84it/s]\n",
      "Gaps to simplify in region 52: 100%|██████████████████████████████████████| 26/26 [00:00<00:00, 114.54it/s]\n",
      "Gaps to fill: 0it [00:00, ?it/s]\n",
      "Gaps to simplify in region 53: 100%|██████████████████████████████████████| 11/11 [00:00<00:00, 133.23it/s]\n",
      "Gaps to fill: 0it [00:00, ?it/s]\n",
      "Gaps to simplify in region 54: 100%|█████████████████████████████████████████| 1/1 [00:00<00:00, 73.56it/s]\n",
      "Gaps to fill: 0it [00:00, ?it/s]\n",
      "Gaps to simplify in region 55: 100%|██████████████████████████████████████| 12/12 [00:00<00:00, 105.78it/s]\n",
      "Gaps to fill in region 55: 100%|█████████████████████████████████████████████| 1/1 [00:00<00:00, 35.61it/s]\n",
      "Gaps to simplify in region 56: 100%|██████████████████████████████████████| 21/21 [00:00<00:00, 124.39it/s]\n",
      "Gaps to fill: 0it [00:00, ?it/s]\n",
      "Gaps to simplify in region 57: 100%|█████████████████████████████████████| 359/359 [00:04<00:00, 81.79it/s]\n",
      "Gaps to fill: 0it [00:00, ?it/s]\n",
      "Gaps to simplify in region 58: 100%|█████████████████████████████████████████| 6/6 [00:00<00:00, 88.64it/s]\n",
      "Gaps to fill: 0it [00:00, ?it/s]\n",
      "Gaps to simplify in region 59: 100%|█████████████████████████████████████| 121/121 [00:01<00:00, 76.35it/s]\n",
      "Gaps to fill in region 59: 100%|█████████████████████████████████████████████| 1/1 [00:00<00:00, 49.27it/s]\n",
      "Gaps to simplify in region 60: 100%|██████████████████████████████████████| 35/35 [00:00<00:00, 137.49it/s]\n",
      "Gaps to fill: 0it [00:00, ?it/s]\n",
      "Gaps to simplify in region 61: 100%|████████████████████████████████████████| 1/1 [00:00<00:00, 100.75it/s]\n",
      "Gaps to fill: 0it [00:00, ?it/s]\n",
      "Gaps to simplify in region 62: 100%|███████████████████████████████████████| 24/24 [00:00<00:00, 65.80it/s]\n",
      "Gaps to fill in region 62: 100%|█████████████████████████████████████████████| 1/1 [00:00<00:00, 53.36it/s]\n",
      "Gaps to simplify in region 63: 100%|█████████████████████████████████████| 508/508 [00:07<00:00, 72.33it/s]\n",
      "Gaps to fill in region 63: 100%|█████████████████████████████████████████████| 4/4 [00:00<00:00, 23.19it/s]\n",
      "Gaps to simplify in region 64: 100%|██████████████████████████████████████| 36/36 [00:00<00:00, 151.58it/s]\n",
      "Gaps to fill in region 64: 100%|█████████████████████████████████████████████| 1/1 [00:00<00:00, 41.59it/s]\n",
      "Gaps to simplify in region 65: 100%|████████████████████████████████████████| 4/4 [00:00<00:00, 129.95it/s]\n",
      "Gaps to fill: 0it [00:00, ?it/s]\n",
      "Gaps to simplify: 0it [00:00, ?it/s]\n",
      "Gaps to fill: 0it [00:00, ?it/s]\n",
      "Gaps to simplify: 0it [00:00, ?it/s]\n",
      "Gaps to fill: 0it [00:00, ?it/s]\n",
      "Gaps to simplify in region 68: 100%|███████████████████████████████████████| 18/18 [00:00<00:00, 47.00it/s]\n",
      "Gaps to fill: 0it [00:00, ?it/s]\n",
      "Gaps to simplify in region 69: 100%|████████████████████████████████████████| 1/1 [00:00<00:00, 113.34it/s]\n",
      "Gaps to fill: 0it [00:00, ?it/s]\n",
      "Gaps to simplify in region 70: 100%|██████████████████████████████████████| 12/12 [00:00<00:00, 110.24it/s]\n",
      "Gaps to fill: 0it [00:00, ?it/s]\n",
      "Gaps to simplify in region 71: 100%|█████████████████████████████████████| 183/183 [00:02<00:00, 80.19it/s]\n",
      "Gaps to fill in region 71: 100%|█████████████████████████████████████████████| 1/1 [00:00<00:00, 43.15it/s]\n",
      "Gaps to simplify in region 72: 100%|█████████████████████████████████████████| 1/1 [00:00<00:00, 35.08it/s]\n",
      "Gaps to fill: 0it [00:00, ?it/s]\n",
      "Gaps to simplify in region 73: 100%|███████████████████████████████████████| 15/15 [00:00<00:00, 97.71it/s]\n",
      "Gaps to fill: 0it [00:00, ?it/s]\n",
      "Gaps to simplify: 0it [00:00, ?it/s]\n",
      "Gaps to fill: 0it [00:00, ?it/s]\n",
      "Gaps to simplify in region 75: 100%|█████████████████████████████████████████| 6/6 [00:00<00:00, 71.20it/s]\n",
      "Gaps to fill: 0it [00:00, ?it/s]\n",
      "Gaps to simplify in region 76: 100%|████████████████████████████████████| 342/342 [00:03<00:00, 107.47it/s]\n",
      "Gaps to fill in region 76: 100%|█████████████████████████████████████████████| 1/1 [00:00<00:00, 29.88it/s]\n",
      "Gaps to simplify in region 77: 100%|██████████████████████████████████████| 15/15 [00:00<00:00, 109.45it/s]\n",
      "Gaps to fill: 0it [00:00, ?it/s]\n",
      "Gaps to simplify: 0it [00:00, ?it/s]\n",
      "Gaps to fill: 0it [00:00, ?it/s]\n",
      "Gaps to simplify: 0it [00:00, ?it/s]\n",
      "Gaps to fill: 0it [00:00, ?it/s]\n",
      "Gaps to simplify in region 80: 100%|████████████████████████████████████████| 7/7 [00:00<00:00, 101.07it/s]\n",
      "Gaps to fill: 0it [00:00, ?it/s]\n",
      "Gaps to simplify in region 81: 100%|██████████████████████████████████████| 69/69 [00:00<00:00, 112.72it/s]\n",
      "Gaps to fill: 0it [00:00, ?it/s]\n",
      "Gaps to simplify in region 82: 100%|█████████████████████████████████████████| 1/1 [00:00<00:00, 45.18it/s]\n",
      "Gaps to fill: 0it [00:00, ?it/s]\n",
      "Gaps to simplify in region 83: 100%|██████████████████████████████████████| 18/18 [00:00<00:00, 140.96it/s]\n",
      "Gaps to fill: 0it [00:00, ?it/s]\n",
      "Gaps to simplify in region 84: 100%|██████████████████████████████████████| 17/17 [00:00<00:00, 107.14it/s]\n",
      "Gaps to fill: 0it [00:00, ?it/s]\n",
      "Gaps to simplify in region 85: 100%|████████████████████████████████████████| 2/2 [00:00<00:00, 111.68it/s]\n",
      "Gaps to fill: 0it [00:00, ?it/s]\n",
      "Gaps to simplify in region 86: 100%|███████████████████████████████████████| 20/20 [00:00<00:00, 83.95it/s]\n",
      "Gaps to fill: 0it [00:00, ?it/s]\n",
      "Gaps to simplify in region 87: 100%|█████████████████████████████████████| 442/442 [00:06<00:00, 66.68it/s]\n",
      "Gaps to fill in region 87: 100%|█████████████████████████████████████████████| 3/3 [00:00<00:00, 60.52it/s]\n",
      "Gaps to simplify in region 88: 100%|█████████████████████████████████████| 401/401 [00:05<00:00, 78.85it/s]\n",
      "Gaps to fill in region 88: 100%|█████████████████████████████████████████████| 6/6 [00:00<00:00, 53.64it/s]\n",
      "Gaps to simplify in region 89: 100%|████████████████████████████████████████| 1/1 [00:00<00:00, 156.22it/s]\n",
      "Gaps to fill: 0it [00:00, ?it/s]\n",
      "Gaps to simplify in region 90: 100%|████████████████████████████████████████| 8/8 [00:00<00:00, 123.78it/s]\n",
      "Gaps to fill: 0it [00:00, ?it/s]\n",
      "Gaps to simplify in region 91: 100%|██████████████████████████████████████| 61/61 [00:00<00:00, 132.66it/s]\n",
      "Gaps to fill: 0it [00:00, ?it/s]\n",
      "Gaps to simplify: 0it [00:00, ?it/s]\n",
      "Gaps to fill: 0it [00:00, ?it/s]\n",
      "Gaps to simplify in region 93: 100%|█████████████████████████████████████████| 2/2 [00:00<00:00, 34.23it/s]\n",
      "Gaps to fill: 0it [00:00, ?it/s]\n",
      "Gaps to simplify in region 94: 100%|██████████████████████████████████████| 48/48 [00:00<00:00, 124.36it/s]\n",
      "Gaps to fill: 0it [00:00, ?it/s]\n",
      "Gaps to simplify in region 95: 100%|██████████████████████████████████████| 11/11 [00:00<00:00, 150.17it/s]\n",
      "Gaps to fill: 0it [00:00, ?it/s]\n",
      "Gaps to simplify in region 96: 100%|██████████████████████████████████████| 14/14 [00:00<00:00, 150.36it/s]\n",
      "Gaps to fill: 0it [00:00, ?it/s]\n",
      "Gaps to simplify in region 97: 100%|██████████████████████████████████████| 40/40 [00:00<00:00, 147.58it/s]\n",
      "Gaps to fill in region 97: 100%|████████████████████████████████████████████| 6/6 [00:00<00:00, 109.40it/s]\n",
      "Gaps to simplify in region 98: 100%|██████████████████████████████████████| 66/66 [00:00<00:00, 138.24it/s]\n",
      "Gaps to fill in region 98: 100%|█████████████████████████████████████████████| 2/2 [00:00<00:00, 33.10it/s]\n",
      "Gaps to simplify in region 99: 100%|████████████████████████████████████| 160/160 [00:01<00:00, 118.53it/s]\n",
      "Gaps to fill in region 99: 100%|█████████████████████████████████████████████| 1/1 [00:00<00:00, 22.49it/s]\n",
      "Gaps to simplify in region 100: 100%|█████████████████████████████████████| 12/12 [00:00<00:00, 116.27it/s]\n",
      "Gaps to fill: 0it [00:00, ?it/s]\n",
      "Gaps to simplify in region 101: 100%|███████████████████████████████████████| 1/1 [00:00<00:00, 123.35it/s]\n",
      "Gaps to fill: 0it [00:00, ?it/s]\n",
      "Gaps to simplify in region 102: 100%|█████████████████████████████████████| 20/20 [00:00<00:00, 108.32it/s]\n",
      "Gaps to fill in region 102: 100%|████████████████████████████████████████████| 1/1 [00:00<00:00, 39.37it/s]\n",
      "Gaps to simplify: 0it [00:00, ?it/s]\n",
      "Gaps to fill: 0it [00:00, ?it/s]\n",
      "Gaps to simplify in region 104: 100%|█████████████████████████████████████| 32/32 [00:00<00:00, 121.64it/s]\n",
      "Gaps to fill in region 104: 100%|███████████████████████████████████████████| 5/5 [00:00<00:00, 108.60it/s]\n",
      "Gaps to simplify in region 105: 100%|█████████████████████████████████████| 16/16 [00:00<00:00, 107.78it/s]\n",
      "Gaps to fill: 0it [00:00, ?it/s]\n",
      "Gaps to simplify in region 106: 100%|█████████████████████████████████████| 25/25 [00:00<00:00, 137.94it/s]\n",
      "Gaps to fill in region 106: 100%|████████████████████████████████████████████| 1/1 [00:00<00:00, 83.45it/s]\n",
      "Gaps to simplify in region 107: 100%|████████████████████████████████████████| 5/5 [00:00<00:00, 73.86it/s]\n",
      "Gaps to fill in region 107: 100%|████████████████████████████████████████████| 3/3 [00:00<00:00, 81.56it/s]\n",
      "Gaps to simplify in region 108: 100%|████████████████████████████████████████| 7/7 [00:00<00:00, 90.31it/s]\n",
      "Gaps to fill: 0it [00:00, ?it/s]\n",
      "Gaps to simplify in region 109: 100%|██████████████████████████████████████| 16/16 [00:00<00:00, 82.63it/s]\n",
      "Gaps to fill in region 109: 100%|████████████████████████████████████████████| 2/2 [00:00<00:00, 57.31it/s]\n",
      "Gaps to simplify: 0it [00:00, ?it/s]\n",
      "Gaps to fill: 0it [00:00, ?it/s]\n",
      "Gaps to simplify in region 111: 100%|█████████████████████████████████████| 58/58 [00:00<00:00, 150.83it/s]\n",
      "Gaps to fill: 0it [00:00, ?it/s]\n",
      "Gaps to simplify in region 112: 100%|███████████████████████████████████████| 9/9 [00:00<00:00, 116.67it/s]\n",
      "Gaps to fill: 0it [00:00, ?it/s]\n",
      "Gaps to simplify in region 113: 100%|█████████████████████████████████████| 23/23 [00:00<00:00, 122.42it/s]\n",
      "Gaps to fill: 0it [00:00, ?it/s]\n",
      "Gaps to simplify in region 114: 100%|███████████████████████████████████████| 6/6 [00:00<00:00, 141.32it/s]\n",
      "Gaps to fill: 0it [00:00, ?it/s]\n"
     ]
    }
   ],
   "source": [
    "# vest_base = add_vest_base(vest_base_data, start_col, year)\n",
    "vest_base = add_vest_base(vest_base_data, start_col, year, county = county_df)"
   ]
  },
  {
   "cell_type": "markdown",
   "id": "674f121d",
   "metadata": {},
   "source": [
    "Let's look at the border lengths.  If there's a clear reasonable cutoff for switching rook adjacencies to queen, we use that.  Otherwise, we can use 30.5 m (which is approximately 100 ft).  This is not a magic number, just a reasonable one."
   ]
  },
  {
   "cell_type": "code",
   "execution_count": 24,
   "id": "252f0d8c",
   "metadata": {},
   "outputs": [
    {
     "name": "stdout",
     "output_type": "stream",
     "text": [
      "[0.0, 0.0, 0.0, 0.0, 0.0, 0.0, 0.0, 0.0, 0.0, 0.0, 0.0, 0.0, 0.0, 0.0, 0.0, 0.0, 0.0, 0.0, 0.0, 0.0, 0.0, 0.0, 0.0, 0.0, 0.0, 0.0, 0.0, 0.0, 0.0, 0.0, 0.0, 0.0, 0.0, 0.0, 0.0, 0.0, 0.0, 0.0, 0.0, 0.0, 0.0, 0.0, 0.0, 0.0, 0.0, 0.0, 0.0, 0.0, 0.0, 0.0, 0.0, 0.0, 0.0, 0.0, 0.0, 0.0, 0.0, 0.0, 0.0, 0.0, 0.0, 0.0, 0.0, 0.0, 0.0, 0.0, 0.0, 0.0, 0.0, 0.0, 0.0, 0.0, 0.0, 0.0, 0.0, 0.0, 0.0, 0.0, 0.0, 0.0, 0.0, 0.0, 0.0, 0.0, 0.0, 0.0, 0.0, 0.0, 0.0, 0.0, 0.0, 0.0, 0.0, 0.0, 0.0, 0.0, 0.0, 0.0, 0.0, 0.0, 0.0, 0.0, 0.0, 0.0, 0.0, 0.0, 0.0, 0.0, 0.0, 0.0, 0.0, 0.0, 0.0, 0.0, 0.0, 0.0, 0.0, 0.0, 0.0, 0.0, 0.0, 0.0, 0.0, 0.0, 0.0, 0.0, 0.0, 0.0, 0.0, 0.0, 0.0, 0.0, 0.0, 0.0, 0.0, 0.0, 0.0, 0.0, 0.0, 0.0, 0.0, 0.0, 0.0, 0.0, 0.0, 0.0, 0.0, 0.0, 0.0, 0.0, 0.0, 0.0, 0.0, 0.0, 0.0, 0.0, 0.0, 0.0, 0.0, 0.0, 0.0, 0.0, 0.0, 0.0, 0.0, 0.0, 0.0, 0.0, 0.0, 0.0, 0.0, 0.0, 0.0, 0.0, 0.0, 0.0, 0.0, 0.0, 0.0, 0.0, 0.0, 0.0, 0.0, 0.0, 0.0, 0.0, 0.0, 0.0, 0.0, 0.0, 0.0, 0.0, 0.0, 0.0, 0.0, 0.0, 0.0, 0.0, 0.0, 0.0, 0.0, 0.0, 0.0, 0.0, 0.0, 0.0, 0.0, 0.0, 0.0, 0.0, 0.0, 0.0, 0.0, 0.0, 0.0, 0.0, 0.0, 0.0, 0.0, 0.0, 0.0, 0.0, 0.0, 0.0, 0.0, 0.0, 0.0, 0.0, 0.0, 0.0, 0.0, 0.0, 0.0, 0.0, 0.0, 0.0, 0.0, 0.0, 0.0, 0.0, 0.0, 0.0, 0.0, 0.0, 0.0, 0.0, 0.0, 0.0, 0.0, 0.0, 0.0, 0.0, 0.0, 0.0, 0.0, 0.0, 0.0, 0.0, 0.0, 0.0, 0.0, 0.0, 0.0, 0.0, 0.0, 0.0, 0.0, 0.0, 0.0, 0.0, 0.0, 0.0, 0.0, 0.0, 0.0, 0.0, 0.0, 0.0, 0.0, 0.0, 0.0, 0.0, 0.0, 0.0, 0.0, 0.0, 0.0, 0.0, 0.0, 0.0, 0.0, 0.0, 0.0, 0.0, 0.0, 0.0, 0.0, 0.0, 0.0, 0.0, 0.0, 0.0, 0.0, 0.0, 0.0, 0.0, 0.0, 0.0, 0.0, 0.0, 0.0, 0.0, 0.0, 0.0, 0.0, 0.0, 0.0, 0.0, 0.0, 0.0, 0.0, 0.0, 0.0, 0.0, 0.0, 0.0, 0.0, 0.0, 0.0, 0.0, 0.0, 0.0, 0.0, 0.0, 0.0, 0.0, 0.0, 0.0, 0.0, 0.0, 0.0, 0.0, 0.0, 0.0, 0.0, 0.0, 0.0, 0.0, 0.0, 0.0, 0.0, 0.0, 0.0, 0.0, 0.0, 0.0, 0.0, 0.0, 0.0, 0.0, 0.0, 0.0, 0.0, 0.0, 0.0, 0.0, 0.0, 0.0, 0.0, 0.0, 0.0, 0.0, 0.0, 0.0, 0.0, 0.0, 0.0, 0.0, 0.0, 0.0, 0.0, 0.0, 0.0, 0.0, 0.0, 0.0, 0.0, 0.0, 0.0, 0.0, 0.0, 0.0, 0.0, 0.0, 0.0, 0.0, 0.0, 0.0, 0.0, 0.0, 0.0, 0.0, 0.0, 0.0, 0.0, 0.0, 0.0, 0.0, 0.0, 0.0, 0.0, 0.0, 0.0, 0.0, 0.0, 0.0, 0.0, 0.0, 0.0, 0.0, 0.0, 0.0, 0.0, 0.0, 0.0, 0.0, 0.0, 0.0, 0.0, 0.0, 0.0, 0.0, 0.0, 0.0, 0.0, 0.0, 0.0, 0.0, 0.0, 0.0, 0.0, 0.0, 0.0, 0.0, 0.0, 0.0, 0.0, 0.0, 0.0, 0.0, 0.0, 0.0, 0.0, 0.0, 0.0, 0.0, 0.0, 0.0, 0.0, 0.0, 0.0, 0.0, 0.0, 0.0, 0.0, 0.0, 0.0, 0.0, 0.0, 0.0, 0.0, 0.0, 0.0, 0.0, 0.0, 0.0, 0.0, 0.0, 0.0, 0.0, 0.0, 0.0, 0.0, 0.0, 0.0, 0.0, 0.0, 0.0, 0.0, 0.0, 0.0, 0.0, 0.0, 0.0, 0.0, 0.0, 0.0, 0.0, 0.0, 0.0, 0.0, 0.0, 0.0, 0.0, 0.0, 0.0, 0.0, 0.0, 0.0, 0.0, 0.0, 0.0, 0.0, 0.0, 0.0, 0.0, 0.0, 0.0, 0.0, 0.0, 0.0, 0.0, 0.0, 0.0, 0.0, 0.0, 0.0, 0.0, 0.0, 0.0, 0.0, 0.0, 0.0, 0.0, 0.0, 0.0, 0.0, 0.0, 0.0, 0.0, 0.0, 0.0, 0.0, 0.0, 0.0, 0.0, 0.0, 0.0, 0.0, 0.0, 0.0, 0.0, 0.0, 0.0, 0.0, 0.0, 0.0, 0.0, 0.0, 0.0, 0.0, 0.0, 0.0, 0.0, 0.0, 0.0, 0.0, 0.0, 0.0, 0.0, 0.0, 0.0, 0.0, 0.0, 0.0, 0.0, 0.0, 0.0, 0.0, 0.0, 0.0, 0.0, 0.0, 0.0, 0.0, 0.0, 0.0, 0.0, 0.0, 0.0, 0.0, 0.0, 0.0, 0.0, 0.0, 0.0, 0.0, 0.0, 0.0, 0.0, 0.0, 0.0, 0.0, 0.0, 0.0, 0.0, 0.0, 0.0, 0.0, 0.0, 0.0, 0.0, 0.0, 0.0, 0.0, 0.0, 0.0, 0.0, 0.0, 0.0, 0.0, 0.0, 0.0, 0.0, 0.0, 0.0, 0.0, 0.0, 0.0, 0.0, 0.0, 0.0, 0.0, 0.0, 0.0, 0.0, 0.0, 0.0, 0.0, 0.0, 0.0, 0.0, 0.0, 0.0, 0.0, 0.0, 0.0, 0.0, 0.0, 0.0, 0.0, 0.0, 0.0, 0.0, 0.0, 0.0, 0.0, 0.0, 0.0, 0.0, 0.0, 0.0, 0.0, 0.0, 0.0, 0.0, 0.0, 0.0, 0.0, 0.0, 0.0, 0.0, 0.0, 0.0, 0.0, 0.0, 0.0, 0.0, 0.0, 0.0, 0.0, 0.0, 0.0, 0.0, 0.0, 0.0, 0.0, 0.0, 0.0, 0.0, 0.0, 0.0, 0.0, 0.0, 0.0, 0.0, 0.0, 0.0, 0.0, 0.0, 0.0, 0.0, 0.0, 0.0, 0.0, 0.0, 0.0, 0.0, 0.0, 0.0, 0.0, 0.0, 0.0, 0.0, 0.0, 0.0, 0.0, 0.0, 0.0, 0.0, 0.0, 0.0, 0.0, 0.0, 0.0, 0.0, 0.0, 0.0, 0.0, 0.0, 0.0, 0.0, 0.0, 0.0, 0.0, 0.0, 0.0, 0.0, 0.0, 0.0, 0.0, 0.0, 0.0, 0.0, 0.0, 0.0, 0.0, 0.0, 0.0, 0.0, 0.0, 0.0, 0.0, 0.0, 0.0, 0.0, 0.0, 0.0, 0.0, 0.0, 0.0, 0.0, 0.0, 0.0, 0.0, 0.0, 0.0, 0.0, 0.0, 0.0, 0.0, 0.0, 0.0, 0.0, 0.0, 0.0, 0.0, 0.0, 0.0, 0.0, 0.0, 0.0, 0.0, 0.0, 0.0, 0.0, 0.0, 0.0, 0.0, 0.0, 0.0, 0.0, 0.0, 0.0, 0.0, 0.0, 0.0, 0.0, 0.0, 0.0, 0.0, 0.0, 0.0, 0.0, 0.0, 0.0, 0.0, 0.0, 0.0, 0.0, 0.0, 0.0, 0.0, 0.0, 0.0, 0.0, 0.0, 0.0, 0.0, 0.0, 0.0, 0.0, 0.0, 0.0, 0.0, 0.0, 0.0, 0.0, 0.0, 0.0, 0.0, 0.0, 0.0, 0.0, 0.0, 0.0, 0.0, 0.0, 0.0, 0.0, 0.0, 0.0, 0.0, 0.0, 0.0, 0.0, 0.0, 0.0, 0.0, 0.0, 0.0, 0.0, 0.0, 0.0, 0.0, 0.0, 0.0, 0.0, 0.0, 0.0, 0.0, 0.0, 0.0, 0.0, 0.0, 0.0, 0.0, 0.0, 0.0, 0.0, 0.0, 0.0, 0.0, 0.0, 0.0, 0.0, 0.0, 0.0, 0.0, 0.0, 0.0, 0.0, 0.0, 0.0, 0.0, 0.0, 0.0, 0.0, 0.0, 0.0, 0.0, 0.0, 0.0, 0.0, 0.0, 0.0, 0.0, 0.0, 0.0, 0.0, 0.0, 0.0, 0.0, 0.0, 0.0, 0.0, 0.0, 0.0, 0.0, 0.0, 0.0, 0.0, 0.0, 0.0, 0.0, 0.0, 0.0, 0.0, 0.0, 0.0, 0.0, 0.0, 0.0, 0.0, 0.0, 0.0, 0.0, 0.0, 0.0, 0.0, 0.0, 0.0, 0.0, 0.0, 0.0, 0.0, 0.0, 0.0, 0.0, 0.0, 0.0, 0.0, 0.0, 0.0, 0.0, 0.0, 0.0, 0.0, 0.0, 0.0, 0.0, 0.0, 0.0, 0.0, 0.0, 0.0, 0.0, 0.0, 0.0, 0.0, 0.0, 0.0, 0.0, 0.0, 0.0, 0.0, 0.0, 0.0, 0.0, 0.0, 0.0, 0.0, 0.0, 0.0, 0.0, 0.0, 0.0, 0.0, 0.0, 0.0, 0.0, 0.0, 0.0, 0.0, 0.0, 0.0, 0.0, 0.0, 0.0, 0.0, 0.0, 0.0, 0.0, 0.0, 0.0, 0.0, 0.0, 0.0, 0.0, 0.0, 0.0, 0.0, 0.0, 0.0, 0.0, 0.0, 0.0, 0.0, 0.0, 0.0, 0.0, 0.0, 0.0, 0.0, 0.0, 0.0, 0.0, 0.0, 0.0, 0.0, 0.0, 0.0, 0.0, 0.0, 0.0, 0.0, 0.0, 0.0, 0.0, 0.0, 0.0, 0.0, 0.0, 0.0, 0.0, 0.0, 0.0, 0.0, 0.0, 0.0, 0.0, 0.0, 0.0, 0.0, 0.0, 0.0, 0.0, 0.0, 0.0, 0.0, 0.0, 0.0, 0.0, 0.0, 0.0, 0.0, 0.0, 0.0, 0.0, 0.0, 0.0, 0.0, 0.0, 0.0, 0.0, 0.0, 0.0, 0.0, 0.0, 0.0, 0.0, 0.0, 0.0, 0.0, 0.0, 0.0, 0.0, 0.0, 0.0, 0.0, 0.0, 0.0, 0.0, 0.0, 0.0, 0.0, 0.0, 0.0, 0.0, 0.0, 0.0, 0.0, 0.0, 0.0, 0.0, 0.0, 0.0, 0.0, 0.0, 0.0, 0.0, 0.0, 0.0, 0.0, 0.0, 0.0, 0.0, 0.0, 0.0, 0.0, 0.0, 0.0, 0.0, 0.0, 0.0, 0.0, 0.0, 0.0, 0.0, 0.0, 0.0, 0.0, 0.0, 0.0, 0.0, 0.0, 0.0, 0.0, 0.0, 0.0, 0.0, 0.0, 0.0, 0.0, 0.0, 0.0, 0.0, 0.0, 0.0, 0.0, 0.0, 0.0, 0.0, 0.0, 0.0, 0.0, 0.0, 0.0, 0.0, 0.0, 0.0, 0.0, 0.0, 0.0, 0.0, 0.0, 0.0, 0.0, 0.0, 0.0, 0.0, 0.0, 0.0, 0.0, 0.0, 0.0, 0.0, 0.0, 0.0, 0.0, 0.0, 0.0, 0.0, 0.0, 0.0, 0.0, 0.0, 0.0, 0.0, 0.0, 0.0, 0.0, 0.0, 0.0, 0.0, 0.0, 0.0, 0.0, 0.0, 0.0, 0.0, 0.0, 0.0, 0.0, 0.0, 0.0, 0.0, 0.0, 0.0, 0.0, 0.0, 0.0, 0.0, 0.0, 0.0, 0.0, 0.0, 0.0, 0.0, 0.0, 0.0, 0.0, 0.0, 0.0, 0.0, 0.0, 0.0, 0.0, 0.0, 0.0, 0.0, 0.0, 0.0, 0.0, 0.0, 0.0, 0.0, 0.0, 0.0, 0.0, 0.0, 0.0, 0.0, 0.0, 0.0, 0.0, 0.0, 0.0, 0.0, 0.0, 0.0, 0.0, 0.0, 0.0, 0.0, 0.0, 0.0, 0.0, 0.0, 0.0, 0.0, 0.0, 0.0, 0.0, 0.0, 0.0, 0.0, 0.0, 0.0, 0.0, 0.0, 0.0, 0.0, 0.0, 0.0, 0.0, 0.0, 0.0, 0.0, 0.0, 0.0, 0.0, 0.0, 0.0, 0.0, 0.0, 0.0, 0.0, 0.0, 0.0, 0.0, 0.0, 0.0, 0.0, 0.0, 0.0, 0.0, 0.0, 0.0, 0.0, 0.0, 0.0, 0.0, 0.0, 0.0, 0.0, 0.0, 0.0, 0.0, 0.0, 0.0, 0.0, 0.0, 0.0, 0.0, 0.0, 0.0, 0.0, 0.0, 0.0, 0.0, 0.0, 0.0, 0.0, 0.0, 0.0, 0.0, 0.0, 0.0, 0.0, 0.0, 0.0, 0.0, 0.0, 0.0, 0.0, 0.0, 0.0, 0.0, 0.0, 0.0, 0.0, 0.0, 0.0, 0.0, 0.0, 0.0, 0.0, 0.0, 0.0, 0.0, 0.0, 0.0, 0.0, 0.0, 0.0, 0.0, 0.0, 0.0, 0.0, 0.0, 0.0, 0.0, 0.0, 0.0, 0.0, 0.0, 0.0, 0.0, 0.0, 0.0, 0.0, 0.0, 0.0, 0.0, 0.0, 0.0, 0.0, 0.0, 0.0, 0.0, 0.0, 0.0, 0.0, 0.0, 0.0, 0.0, 0.0, 0.0, 0.0, 0.0, 0.0, 0.0, 0.0, 0.0, 0.0, 0.0, 0.0, 0.0, 0.0, 0.0, 0.0, 0.0, 0.0, 0.0, 0.0, 0.0, 0.0, 0.0, 0.0, 0.0, 0.0, 0.0, 0.0, 0.0, 0.0, 0.0, 0.0, 0.0, 0.0, 0.0, 0.0, 0.0, 0.0, 0.0, 0.0, 0.0, 0.0, 0.0, 0.0, 0.0, 0.0, 0.0, 0.0, 0.0, 0.0, 0.0, 0.0, 0.0, 0.0, 0.0, 0.0, 0.0, 0.0, 0.0, 0.0, 0.0, 0.0, 0.0, 0.0, 0.0, 0.0, 0.0, 0.0, 0.0, 0.0, 0.0, 0.0, 0.0, 0.0, 0.0, 0.0, 0.0, 0.0, 0.0, 0.0, 0.0, 0.0, 0.0, 0.0, 0.0, 0.0, 0.0, 0.0, 0.0, 0.0, 0.0, 0.0, 0.0, 0.0, 0.0, 0.0, 0.0, 0.0, 0.0, 0.0, 0.0, 0.0, 0.0, 0.0, 0.0, 0.0, 0.0, 0.0, 0.0, 0.0, 0.0, 0.0, 0.0, 0.0, 0.0, 0.0, 0.0, 0.0, 0.0, 0.0, 0.0, 0.0, 0.0, 0.0, 0.0, 0.0, 0.0, 0.0, 0.0, 0.0, 0.0, 0.0, 0.0, 0.0, 0.0, 0.0, 0.0, 0.0, 0.0, 0.0, 0.0, 0.0, 0.0, 0.0, 0.0, 0.0, 0.0, 0.0, 0.0, 0.0, 0.0, 0.0, 0.0, 0.0, 0.0, 0.0, 0.0, 0.0, 0.0, 0.0, 0.0, 0.0, 0.0, 0.0, 0.0, 0.0, 0.0, 0.0, 0.0, 0.0, 0.0, 0.0, 0.0, 0.0, 0.0, 0.0, 0.0, 0.0, 0.0, 0.0, 0.0, 0.0, 0.0, 0.0, 0.0, 0.0, 0.0, 0.0, 0.0, 0.0, 0.0, 0.0, 0.0, 0.0, 0.0, 0.0, 0.0, 0.0, 0.0, 0.0, 0.0, 0.0, 0.0, 0.0, 0.0, 0.0, 0.0, 0.0, 0.0, 0.0, 0.0, 0.0, 0.0, 0.0, 0.0, 0.0, 0.0, 0.0, 0.0, 0.0, 0.0, 0.0, 0.0, 0.0, 0.0, 0.0, 0.0, 0.0, 0.0, 0.0, 0.0, 0.0, 0.0, 0.0, 0.0, 0.0, 0.0, 0.0, 0.0, 0.0, 0.0, 0.0, 0.0, 0.0, 0.0, 0.0, 0.0, 0.0, 0.0, 0.0, 0.0, 0.0, 0.0, 0.0, 0.0, 0.0, 0.0, 0.0, 0.0, 0.0, 0.0, 0.0, 0.0, 0.0, 0.0, 0.0, 0.0, 0.0, 0.0, 0.0, 0.0, 0.0, 0.0, 0.0, 0.0, 0.0, 0.0, 0.0, 0.0, 0.0, 0.0, 0.0, 0.0, 0.0, 0.0, 0.0, 0.0, 0.0, 0.0, 0.0, 0.0, 0.0, 0.0, 0.0, 0.0, 0.0, 0.0, 0.0, 0.0, 0.0, 0.0, 0.0, 0.0, 0.0, 0.0, 0.0, 0.0, 0.0, 0.0, 0.0, 0.0, 0.0, 0.0, 0.0, 0.0, 0.0, 0.0, 0.0, 0.0, 0.0, 0.0, 0.0, 0.0, 0.0, 0.0, 0.0, 0.0, 0.0, 0.0, 0.0, 0.0, 0.0, 0.0, 0.0, 0.0, 0.0, 0.0, 0.0, 0.0, 0.0, 0.0, 0.0, 0.0, 0.0, 0.0, 0.0, 0.0, 0.0, 0.0, 0.0, 0.0, 0.0, 0.0, 0.0, 0.0, 0.0, 0.0, 0.0, 0.0, 0.0, 0.0, 0.0, 0.0, 0.0, 0.0, 0.0, 0.0, 0.0, 0.0, 0.0, 0.0, 0.0, 0.0, 0.0, 0.0, 0.0, 0.0, 0.0, 0.0, 0.0, 0.0, 0.0, 0.0, 0.0, 0.0, 0.0, 0.0, 0.0, 0.0, 0.0, 2.38051629379151e-06, 2.38051629379151e-06, 0.15706256975172544, 0.15706256975172544, 0.2170410035934644, 0.2170410035934644, 0.23228565173333185, 0.23228565173333185, 0.2689351870008058, 0.2689351870008058, 0.2937233261420379, 0.2937233261420379, 0.32218624642460425, 0.32218624642460425, 0.34560556263551606, 0.34560556263551606, 0.35438471197034704, 0.35438471197034704, 0.3676160813884245, 0.3676160813884245, 0.37038957839259457, 0.37038957839259457, 0.3850899438558039, 0.3850899438558039, 0.4327534971071885, 0.4327534971071885, 0.48499261630330803, 0.48499261630330803, 0.5370980635357722, 0.5370980635357722, 0.5441829121441117, 0.5441829121441117, 0.6067109305615169, 0.6067109305615169, 0.6372403359915585, 0.6372403359915585, 0.6450015635831369, 0.6450015635831369, 0.6573429291421209, 0.6573429291421209, 0.7012500160025086, 0.7012500160025086, 0.7178408353696147, 0.7178408353696147, 0.7488546823659051, 0.7488546823659051, 0.7572063419154107, 0.7572063419154107, 0.7756009633816522, 0.7756009633816522, 0.78008153926134, 0.78008153926134, 0.9156033176052427, 0.9156033176052427, 0.9338333182662732, 0.9338333182662732, 0.9558282869210455, 0.9558282869210455, 0.9791202400802202, 0.9791202400802202, 1.0879721469805093, 1.0879721469805093, 1.2466267986183275, 1.2466267986183275, 1.4919839307396074, 1.4919839307396074, 1.5157883980644702, 1.5157883980644702, 1.5193734663682772, 1.5193734663682772, 1.6435535934231935, 1.6435535934231935, 1.7413924994089585, 1.7413924994089585, 1.889084392531307, 1.889084392531307, 1.9214208615216155, 1.9214208615216155, 2.0153180601196983, 2.0153180601196983, 2.020365436230986, 2.020365436230986, 2.192614503947659, 2.192614503947659, 2.2171611343869126, 2.2171611343869126, 2.2455731841138844, 2.2455731841138844, 2.4669130940955553, 2.4669130940955553, 2.526053177899461, 2.526053177899461, 2.5534272860215825, 2.5534272860215825, 2.6097556918680107, 2.6097556918680107, 2.611153761866267, 2.611153761866267, 2.6726396035315996, 2.6726396035315996, 2.753367815039336, 2.753367815039336, 2.7888632182564086, 2.7888632182564086, 2.9368271608202825, 2.9368271608202825, 3.1197491557763852, 3.1197491557763852, 3.2299179437641596, 3.2299179437641596, 3.2856160890509924, 3.2856160890509924, 3.331415194417743, 3.331415194417743, 3.3748614348183916, 3.3748614348183916, 3.3847918276674807, 3.3847918276674807, 3.4124551210900225, 3.4124551210900225, 3.6477386020536553, 3.6477386020536553, 3.654056071668791, 3.654056071668791, 3.9054825326555567, 3.9054825326555567, 3.9066245548898433, 3.9066245548898433, 3.9989996300446764, 3.9989996300446764, 4.0034030290117375, 4.0034030290117375, 4.036958076060639, 4.036958076060639, 4.039010629412439, 4.039010629412439, 4.060293576712623, 4.060293576712623, 4.089781744851429, 4.089781744851429, 4.095669475502665, 4.095669475502665, 4.278636160286522, 4.278636160286522, 4.321200466630256, 4.321200466630256, 4.361579050749281, 4.361579050749281, 4.567289439367085, 4.567289439367085, 4.59830043185993, 4.59830043185993, 4.732025120669295, 4.732025120669295, 4.962171449383109, 4.962171449383109, 5.0059663937053225, 5.0059663937053225, 5.101562194923854, 5.101562194923854, 5.510892821505165, 5.510892821505165, 5.516041280688274, 5.516041280688274, 5.7205201168050275, 5.7205201168050275, 5.990671650237943, 5.990671650237943, 6.098975556110379, 6.098975556110379, 6.419084736779461, 6.419084736779461, 6.451378640099952, 6.451378640099952, 6.599110197618646, 6.599110197618646, 6.714871166447672, 6.714871166447672, 6.7906417537743025, 6.7906417537743025, 6.93548433703841, 6.93548433703841, 7.019546226347142, 7.019546226347142, 7.06608922740537, 7.06608922740537, 7.236122580845852, 7.236122580845852, 7.349562122957161, 7.3495621229571615, 7.428540508435477, 7.428540508435477, 7.453111412686985, 7.453111412686985, 7.770978406122662, 7.770978406122662, 7.971412682809087, 7.971412682809087, 8.009949029853146, 8.009949029853146, 8.156286593456931, 8.156286593456931, 8.19609149699347, 8.19609149699347, 8.308282400026412, 8.308282400026412, 8.365897976186442, 8.365897976186442, 8.468558297967375, 8.468558297967375, 8.546182223133208, 8.546182223133208, 8.696855982075798, 8.696855982075798, 8.721522968562809, 8.721522968562809, 9.037101404858445, 9.037101404858445, 9.154895726012906, 9.154895726012906, 9.229320096447486, 9.229320096447486, 9.37884454964056, 9.37884454964056, 9.446260316173822, 9.446260316173822, 9.505392594721993, 9.505392594721993, 9.58037847162185, 9.58037847162185, 9.597668893474793, 9.597668893474793, 9.697034599941539, 9.69703459994154, 9.782928215786145, 9.782928215786145, 9.863089096295997, 9.863089096295997, 9.933658800343078, 9.933658800343078, 10.055990493782359, 10.055990493782359, 10.134499477619167, 10.134499477619167, 10.150297667553838, 10.150297667553838, 10.41215957698171, 10.41215957698171, 10.448298709438548, 10.448298709438548, 10.448612065655663, 10.448612065655663, 10.673835332808332, 10.673835332808332, 10.879697846612036, 10.879697846612036, 10.938557848221837, 10.938557848221837, 11.0136131982976, 11.0136131982976, 11.081800190732675, 11.081800190732675, 11.210849616334889, 11.210849616334889, 11.463925091880084, 11.463925091880084, 11.575405048393929, 11.575405048393929, 11.598578101035317, 11.598578101035317, 11.735071379222441, 11.735071379222441, 11.802331556084031, 11.802331556084033, 11.842918547411672, 11.842918547411672, 11.871413334793568, 11.871413334793568, 12.05388611800183, 12.05388611800183, 12.093263658934275, 12.093263658934275, 12.130668890317386, 12.130668890317386, 12.230313388420003, 12.230313388420003, 12.251289779864468, 12.251289779864468, 12.266993461050127, 12.266993461050127, 12.389037780250948, 12.389037780250948, 12.680551338291071, 12.680551338291071, 12.763681759802322, 12.763681759802322, 13.262013658296231, 13.262013658296231, 13.448225992797312, 13.448225992797312, 13.87509322042438, 13.87509322042438, 13.942016487189868, 13.942016487189868, 14.317868348063618, 14.317868348063618, 14.34492761888851, 14.34492761888851, 14.431030067742302, 14.431030067742302, 14.482571865868644, 14.482571865868644, 14.662468473204296, 14.662468473204296, 14.69116119050922, 14.691161190509222, 14.7161545555005, 14.7161545555005, 14.803155610072197, 14.803155610072197, 15.078626971460887, 15.078626971460887, 15.182756208636647, 15.182756208636647, 15.187680595817156, 15.187680595817156, 15.205228190450228, 15.205228190450228, 15.321862865532381, 15.321862865532381, 15.448128172627008, 15.448128172627008, 15.449510118625538, 15.449510118625538, 15.547388098040752, 15.547388098040752, 15.714853747497122, 15.714853747497122, 15.74412555987044, 15.74412555987044, 15.991552140510434, 15.991552140510434, 16.492658662221345, 16.492658662221345, 16.49608825621056, 16.49608825621056, 16.516268743548412, 16.516268743548412, 16.689000503333226, 16.689000503333226, 16.701096517100297, 16.701096517100297, 16.703815489440345, 16.703815489440345, 16.76361274242393, 16.76361274242393, 16.80733595580242, 16.80733595580242, 16.811710091102633, 16.811710091102636, 16.975989105247983, 16.975989105247983, 17.242125869865934, 17.242125869865934, 17.336761735173813, 17.336761735173813, 17.364166981350767, 17.364166981350767, 17.586873333525332, 17.586873333525332, 17.721957628327512, 17.721957628327512, 17.746119932667675, 17.746119932667675, 17.806899895536503, 17.806899895536503, 18.055554838398308, 18.055554838398308, 18.09501110427535, 18.09501110427535, 18.457387596917126, 18.457387596917126, 18.607471537611772, 18.607471537611772, 18.66332105022654, 18.66332105022654, 19.15293642063303, 19.152936420633033, 19.62078463601238, 19.62078463601238, 19.94821370477012, 19.94821370477012, 20.364576016821243, 20.364576016821243, 20.517456736051226, 20.517456736051226, 20.55189206988735, 20.55189206988735, 20.613573436748098, 20.613573436748098, 20.636452469842293, 20.636452469842293, 20.910777654112117, 20.910777654112117, 21.32310807988394, 21.32310807988394, 21.36748355935601, 21.36748355935601, 21.49863624301543, 21.49863624301543, 21.71350726237438, 21.71350726237438, 21.795319952298225, 21.795319952298225, 21.883754256705437, 21.883754256705437, 22.12929638299887, 22.129296382998874, 22.130539265372153, 22.130539265372153, 22.607642632877663, 22.607642632877663, 22.64481226633719, 22.64481226633719, 22.907740010203295, 22.907740010203295, 23.186418606684967, 23.186418606684967, 23.206895988909345, 23.206895988909345, 23.43793512843573, 23.43793512843573, 23.533786735353306, 23.533786735353306, 23.67879861162677, 23.67879861162677, 23.753008327497625, 23.753008327497625, 23.898235565216165, 23.89823556521617, 24.009249145259695, 24.009249145259695, 24.091676220183476, 24.091676220183476, 24.171467406159785, 24.171467406159785, 24.27434800380818, 24.27434800380818, 24.275723006376968, 24.275723006376968, 24.443166859938497, 24.443166859938497, 24.4836727643038, 24.4836727643038, 24.59614523463145, 24.59614523463145, 24.653585969431113, 24.653585969431116, 24.70757868489824, 24.70757868489824, 25.330569351623854, 25.330569351623854, 25.35698430160122, 25.35698430160122, 25.45198273100068, 25.45198273100068, 25.56557501848775, 25.56557501848775, 25.844686344946158, 25.844686344946158, 25.937843735127434, 25.937843735127434, 26.12249984702818, 26.12249984702818, 27.550805819348653, 27.550805819348653, 27.970541780424913, 27.970541780424917, 28.12273131686189, 28.122731316861895, 28.749824767664652, 28.749824767664656, 28.868243140602175, 28.868243140602175, 29.15915814259158, 29.15915814259158, 29.209394494292987, 29.209394494292987, 29.21888117607007, 29.21888117607007, 29.29270805807665, 29.29270805807665, 29.47798008345897, 29.47798008345897, 29.626578911919836, 29.62657891191984, 29.812625945167184, 29.812625945167184, 29.968503622140897, 29.968503622140897, 30.14313105221717, 30.14313105221717, 30.38177068246902, 30.38177068246902, 31.027690699684786, 31.027690699684786, 31.053829521477482, 31.053829521477482, 31.057002203877115, 31.057002203877115, 31.331813758398788, 31.331813758398788, 31.534081024403566, 31.534081024403566, 31.659388699527845, 31.65938869952785, 32.19492337062856, 32.19492337062856, 32.55786447764598, 32.55786447764598, 32.680596407979166, 32.680596407979166, 33.34129972908296, 33.34129972908296, 33.35629583712557, 33.35629583712557, 33.45199073196854, 33.45199073196854, 33.54156319719455, 33.54156319719455, 33.63185070411265, 33.63185070411265, 33.74580327969847, 33.74580327969847, 33.79483696808277, 33.79483696808277, 34.05185171345523, 34.05185171345523, 34.18432566870301, 34.18432566870301, 34.52955531575608, 34.52955531575608, 34.6503883962442, 34.6503883962442, 34.69327893203989, 34.69327893203989, 34.84840223579961, 34.84840223579961, 34.96856532327604, 34.968565323276046, 34.997388725392526, 34.997388725392526, 35.48202106371384, 35.48202106371384, 35.5366776220286, 35.5366776220286, 35.537721420514465, 35.537721420514465, 35.59708858522033, 35.59708858522033, 35.697978505518066, 35.697978505518066, 36.0052430223576, 36.005243022357604, 36.156010070011135, 36.156010070011135, 36.49481088506884, 36.49481088506884, 36.625068052160444, 36.62506805216045, 36.728286634298726, 36.728286634298726, 36.85338904830275, 36.85338904830275, 37.16105585806371, 37.16105585806371, 37.50793616258508, 37.50793616258508, 37.855597870301295, 37.855597870301295, 38.24981563322212, 38.24981563322212, 38.45587614438632, 38.45587614438632, 38.49044968997637, 38.49044968997638, 38.66010573595503, 38.660105735955035, 38.80502252178134, 38.80502252178134, 38.86202718090975, 38.86202718090975, 38.93288046667945, 38.93288046667945, 39.203849987999604, 39.203849987999604, 39.30326429097855, 39.30326429097855, 39.44336052541382, 39.44336052541382, 39.59088037611673, 39.59088037611673, 39.67431434985478, 39.67431434985478, 39.74631567363936, 39.74631567363936, 39.76524384414778, 39.76524384414778, 40.33173052502167, 40.33173052502167, 40.344631998550035, 40.344631998550035, 40.49939886279745, 40.49939886279745, 40.625181056324784, 40.625181056324784, 40.71470811387806, 40.71470811387806, 40.94536670788166, 40.94536670788166, 41.16974343998619, 41.16974343998619, 41.32508507821229, 41.32508507821229, 41.61421080192294, 41.61421080192294, 41.858104279933805, 41.85810427993381, 42.02635541806192, 42.02635541806192, 42.035263482163586, 42.035263482163586, 42.12934931462938, 42.12934931462938, 42.69398313636018, 42.69398313636019, 42.71339923321795, 42.713399233217956, 42.835593333124876, 42.835593333124876, 42.8805737106706, 42.8805737106706, 43.17045915158281, 43.17045915158281, 43.40208532484125, 43.40208532484125, 43.46996999112336, 43.46996999112336, 43.68833818257696, 43.68833818257696, 44.01958605688442, 44.01958605688442, 44.22573494281127, 44.22573494281127, 44.29617018276809, 44.29617018276809, 44.73866624311451, 44.73866624311451, 44.88982274574862, 44.889822745748624, 44.973477711642424, 44.973477711642424, 44.99980988885811, 44.99980988885811, 45.14165255067639, 45.14165255067639, 45.20302688973616, 45.20302688973616, 45.4133131517888, 45.4133131517888, 45.485862878535436, 45.485862878535436, 45.488468739522325, 45.488468739522325, 45.76392084611882, 45.76392084611882, 45.83055122783668, 45.83055122783668, 45.85267687114826, 45.85267687114826, 46.761502933850515, 46.761502933850515, 46.79396489193236, 46.79396489193236, 46.807674458204396, 46.807674458204396, 46.85994243744889, 46.85994243744889, 46.86235601546962, 46.86235601546962, 46.93302319749044, 46.93302319749044, 46.953352047195224, 46.953352047195224, 46.97054021368883, 46.97054021368883, 47.28394753730133, 47.28394753730133, 47.36334657440944, 47.36334657440945, 47.58396390134437, 47.58396390134437, 47.627489582380484, 47.627489582380484, 47.8712240849822, 47.8712240849822, 47.88825113703676, 47.88825113703676, 48.117967119292295, 48.117967119292295, 48.57658748434454, 48.57658748434455, 48.628851967809894, 48.628851967809894, 48.751546047034566, 48.751546047034566, 48.93654287958409, 48.93654287958409, 49.2455638017202, 49.2455638017202, 49.258122719719594, 49.258122719719594, 49.27827457975556, 49.27827457975556, 49.8463714013814, 49.846371401381404, 49.86508348697216, 49.86508348697216, 50.138515597766656, 50.138515597766656, 50.22475779941976, 50.22475779941976, 50.25536296946433, 50.25536296946433, 50.36059396171569, 50.3605939617157, 50.643580320188676, 50.643580320188676, 50.75270257470485, 50.75270257470485, 50.80342353701197, 50.80342353701197, 50.89813746650327, 50.89813746650327, 51.37960749513576, 51.37960749513576, 51.590262954598764, 51.590262954598764, 51.618029830764684, 51.618029830764684, 51.655689582446776, 51.655689582446776, 51.7136482657122, 51.7136482657122, 51.8572893819719, 51.85728938197191, 51.95855269350517, 51.95855269350517, 52.03682249212332, 52.03682249212332, 52.077807384161375, 52.077807384161375, 52.24518501177387, 52.24518501177387, 52.41038938444114, 52.41038938444114, 52.69528710738349, 52.69528710738349, 52.75468359822209, 52.75468359822209, 52.755322915178915, 52.755322915178915, 52.823336285832056, 52.823336285832056, 52.869550952068515, 52.869550952068515, 52.90885046463571, 52.90885046463571, 53.01419231615321, 53.01419231615321, 53.16846295528072, 53.16846295528072, 53.23160317685738, 53.23160317685738, 53.53734636292191, 53.53734636292191, 53.59683813747678, 53.59683813747678, 53.60469524227026, 53.60469524227026, 53.61187552271617, 53.61187552271617, 53.802549339164926, 53.802549339164926, 54.086519323165795, 54.086519323165795, 54.26633156317433, 54.26633156317433, 54.32585296946879, 54.32585296946879, 54.332110610456525, 54.332110610456525, 54.43144218603013, 54.43144218603013, 54.78231097413165, 54.78231097413165, 54.78757273859541, 54.78757273859541, 55.056541108959415, 55.05654110895942, 55.484907873074874, 55.484907873074874, 55.50549277842963, 55.50549277842963, 55.61386247973681, 55.61386247973681, 55.64299893556452, 55.64299893556452, 55.7356197502102, 55.7356197502102, 55.81624003652293, 55.81624003652293, 55.915068911981706, 55.915068911981706, 55.97434621995985, 55.97434621995985, 56.063010761686485, 56.063010761686485, 56.33071235206225, 56.33071235206226, 56.34948759471332, 56.349487594713324, 56.35900577949215, 56.35900577949216, 56.714194864713924, 56.714194864713924, 56.76703829946095, 56.76703829946095, 56.8351682465231, 56.8351682465231, 57.044719452139546, 57.044719452139546, 57.04626047830338, 57.04626047830338, 57.14543168682791, 57.14543168682791, 57.28499191019766, 57.28499191019766, 57.59482997909568, 57.59482997909568, 57.925843185714385, 57.925843185714385, 57.93440328233926, 57.93440328233926, 57.98249842949857, 57.98249842949857, 58.06273038523788, 58.06273038523788, 58.11163861499996, 58.11163861499997, 58.2564336570013, 58.2564336570013, 58.31586718269513, 58.31586718269513, 58.5388371516211, 58.5388371516211, 58.77763321014182, 58.77763321014182, 58.952337149928915, 58.952337149928915, 59.181608790940246, 59.18160879094026, 59.21994056040823, 59.21994056040823, 59.60245555210363, 59.60245555210363, 59.68907391928424, 59.68907391928424, 60.06758254997621, 60.06758254997621, 60.11454865647787, 60.11454865647787, 60.34219140746058, 60.34219140746058, 60.64198330652044, 60.64198330652044, 60.73893652284894, 60.73893652284894, 60.754320423656466, 60.754320423656466, 60.772951789636615, 60.772951789636615, 60.85810851582235, 60.85810851582235, 60.89326453347381, 60.89326453347381, 61.35354497660951, 61.35354497660951, 61.52103459256249, 61.52103459256249, 61.65118664321431, 61.65118664321431, 61.70728310260855, 61.70728310260855, 61.74380447654414, 61.74380447654414, 61.8813419754545, 61.8813419754545, 62.12953899733091, 62.12953899733091, 62.668734404664285, 62.668734404664285, 62.90714932878696, 62.90714932878696, 63.142029809344116, 63.142029809344116, 63.289897729043474, 63.289897729043474, 63.486954753513196, 63.486954753513196, 63.546898272289646, 63.546898272289646, 63.56584127081803, 63.56584127081803, 63.614165295630336, 63.614165295630336, 63.992941590260195, 63.992941590260195, 64.1173252443505, 64.1173252443505, 64.16529273764357, 64.16529273764357, 64.1727349834213, 64.1727349834213, 64.27772492966338, 64.27772492966338, 64.41175585103379, 64.41175585103379, 64.4265785797682, 64.42657857976822, 64.50098193254097, 64.50098193254097, 64.63825980244592, 64.63825980244592, 64.88756608148377, 64.88756608148378, 65.11404550404211, 65.11404550404211, 65.15719882361054, 65.15719882361054, 65.35032605277806, 65.35032605277806, 65.6367813107223, 65.6367813107223, 65.97763655979664, 65.97763655979664, 66.11469726204703, 66.11469726204703, 66.22952846453686, 66.22952846453686, 66.30679233688312, 66.30679233688313, 66.47214856126533, 66.47214856126533, 66.58448497993497, 66.58448497993497, 66.69617436789395, 66.69617436789395, 67.02300002373634, 67.02300002373634, 67.33986759542695, 67.33986759542695, 67.43933205426481, 67.43933205426481, 67.98195604504481, 67.98195604504481, 68.26329203781074, 68.26329203781074, 68.39702861181347, 68.39702861181348, 68.69087131963101, 68.69087131963101, 68.86705581973798, 68.86705581973798, 69.17879320497781, 69.17879320497781, 69.19846671232357, 69.19846671232357, 69.21484665786394, 69.21484665786394, 69.60008449349482, 69.60008449349482, 70.02646379398965, 70.02646379398965, 70.86606296623155, 70.86606296623155, 70.97986794195347, 70.97986794195347, 71.09997751596774, 71.09997751596774, 71.22792920940097, 71.22792920940097, 71.2652813316911, 71.2652813316911, 71.49726047526119, 71.4972604752612, 71.53010752368995, 71.53010752368995, 71.97812082351018, 71.97812082351018, 72.07890122458488, 72.07890122458488, 72.1768138084312, 72.1768138084312, 72.62357834371282, 72.62357834371284, 72.8527276457293, 72.8527276457293, 73.02162856176737, 73.02162856176737, 73.04703324857678, 73.04703324857678, 73.557055749587, 73.557055749587, 73.65559296980867, 73.65559296980867, 73.6663223321811, 73.6663223321811, 74.11697110121221, 74.11697110121221, 74.27303543457789, 74.27303543457789, 74.57111434711659, 74.57111434711659, 74.61568129772675, 74.61568129772675, 74.73872899492558, 74.73872899492558, 74.82892301497098, 74.828923014971, 75.06674929539832, 75.06674929539832, 75.87460313397358, 75.87460313397358, 76.04411381226596, 76.04411381226596, 76.1138035376374, 76.11380353763741, 76.32345444004822, 76.32345444004824, 76.76904548566884, 76.76904548566884, 76.98028219290927, 76.98028219290927, 77.0645730780518, 77.0645730780518, 77.24960778582899, 77.249607785829, 77.57697692168296, 77.57697692168296, 77.92184918328742, 77.92184918328742, 78.1575729710221, 78.1575729710221, 78.4147856189335, 78.4147856189335, 78.4866085547012, 78.4866085547012, 78.67234070789395, 78.67234070789395, 78.79347989806404, 78.79347989806404, 78.83273185997155, 78.83273185997156, 79.37822017875015, 79.37822017875015, 79.70997937186894, 79.70997937186894, 79.74547300337058, 79.74547300337058, 79.9587315713185, 79.9587315713185, 79.96274610978762, 79.96274610978762, 80.0214291319732, 80.02142913197322, 80.08035610063021, 80.08035610063021, 80.59276752916269, 80.59276752916269, 80.84552871758612, 80.84552871758612, 81.0015824127755, 81.0015824127755, 81.00871628482287, 81.00871628482287, 81.0349278784828, 81.03492787848282, 81.03813918522656, 81.03813918522656, 81.07963915517065, 81.07963915517065, 81.2539713700825, 81.2539713700825, 81.58699316218646, 81.58699316218646, 81.66828583386919, 81.66828583386919, 82.17882286401297, 82.17882286401299, 82.31916525253115, 82.31916525253115, 82.32781249563513, 82.32781249563513, 82.42046223970304, 82.42046223970304, 82.66670958521877, 82.66670958521877, 82.86672791814944, 82.86672791814944, 83.00884717084976, 83.00884717084976, 83.05116610721154, 83.05116610721154, 83.29105479893788, 83.29105479893789, 83.39856509525049, 83.3985650952505, 83.51683372403738, 83.51683372403738, 83.5676236807953, 83.5676236807953, 83.5679756679003, 83.5679756679003, 83.73232797434883, 83.73232797434885, 83.76915003873732, 83.76915003873734, 83.89307293783624, 83.89307293783624, 83.97383905376724, 83.97383905376724, 84.2747850905593, 84.27478509055932, 84.32082084039246, 84.32082084039246, 85.09782864080329, 85.0978286408033, 85.11218120966738, 85.1121812096674, 85.12448045564426, 85.12448045564426, 85.20736613845048, 85.20736613845048, 85.37769074256965, 85.37769074256965, 85.5175221769859, 85.5175221769859, 85.54897779082064, 85.54897779082064, 85.85162473370663, 85.85162473370663, 85.8644162864437, 85.86441628644371, 86.13927797252047, 86.13927797252047, 86.18561451150211, 86.18561451150211, 86.44216159561458, 86.44216159561458, 86.6496330391382, 86.6496330391382, 86.71233120892543, 86.71233120892543, 86.81570722657601, 86.81570722657601, 86.8277416607082, 86.8277416607082, 87.64672249854281, 87.64672249854281, 88.33963342238717, 88.33963342238718, 88.53286536207699, 88.53286536207699, 88.9638320154184, 88.9638320154184, 89.07533228621843, 89.07533228621843, 89.18550965644462, 89.18550965644462, 89.39848122627608, 89.39848122627609, 89.44988735191828, 89.44988735191828, 89.66769211288992, 89.66769211288992, 89.77351158734655, 89.77351158734655, 90.40753056993968, 90.40753056993968, 90.55655086398536, 90.55655086398536, 91.04894944853898, 91.04894944853898, 91.16252480643819, 91.1625248064382, 91.28776418866063, 91.28776418866063, 91.71245175348024, 91.71245175348024, 91.89010091635873, 91.89010091635873, 92.01687701174271, 92.01687701174271, 92.38153668138811, 92.38153668138813, 92.64857200111904, 92.64857200111904, 92.84805451389545, 92.84805451389545, 92.88252457181741, 92.88252457181741, 93.02279643402379, 93.02279643402379, 93.04452375946286, 93.04452375946288, 93.24186874649865, 93.24186874649865, 93.25600555310831, 93.25600555310831, 93.68041048279386, 93.68041048279386, 93.79898863261324, 93.79898863261324]\n"
     ]
    }
   ],
   "source": [
    "borders = check_small_boundary_lengths(vest_base)\n",
    "print(borders[:3000])"
   ]
  },
  {
   "cell_type": "markdown",
   "id": "c9799c84",
   "metadata": {},
   "source": [
    "It's not clear what the cutoff should be here; let's use 30.5."
   ]
  },
  {
   "cell_type": "code",
   "execution_count": 25,
   "id": "5f2d81d8",
   "metadata": {},
   "outputs": [
    {
     "name": "stdout",
     "output_type": "stream",
     "text": [
      "Snapping all geometries to a grid with precision 10^( -5 ) to avoid GEOS errors.\n",
      "Identifying overlaps...\n"
     ]
    },
    {
     "name": "stderr",
     "output_type": "stream",
     "text": [
      "100%|████████████████████████████████████████████████████████████████| 4301/4301 [00:01<00:00, 3181.06it/s]\n"
     ]
    },
    {
     "name": "stdout",
     "output_type": "stream",
     "text": [
      "Resolving overlaps...\n",
      "Assigning order 2 pieces...\n",
      "Assigning order 3 pieces...\n",
      "Filling gaps...\n"
     ]
    },
    {
     "name": "stderr",
     "output_type": "stream",
     "text": [
      "Gaps to simplify: 0it [00:00, ?it/s]\n",
      "Gaps to fill: 0it [00:00, ?it/s]\n"
     ]
    },
    {
     "name": "stdout",
     "output_type": "stream",
     "text": [
      "Converting small rook adjacencies to queen...\n"
     ]
    },
    {
     "name": "stderr",
     "output_type": "stream",
     "text": [
      "100%|████████████████████████████████████████████████████████████████| 3733/3733 [00:02<00:00, 1254.97it/s]\n",
      "100%|██████████████████████████████████████████████████████████████████████| 4/4 [00:00<00:00, 2722.25it/s]\n",
      "100%|██████████████████████████████████████████████████████████████████████| 4/4 [00:00<00:00, 2971.52it/s]\n",
      "100%|██████████████████████████████████████████████████████████████████████| 4/4 [00:00<00:00, 2747.66it/s]\n",
      "100%|██████████████████████████████████████████████████████████████████████| 4/4 [00:00<00:00, 2987.40it/s]\n",
      "100%|██████████████████████████████████████████████████████████████████████| 4/4 [00:00<00:00, 2888.14it/s]\n",
      "100%|██████████████████████████████████████████████████████████████████████| 4/4 [00:00<00:00, 2984.74it/s]\n",
      "100%|██████████████████████████████████████████████████████████████████████| 4/4 [00:00<00:00, 2913.22it/s]\n",
      "100%|██████████████████████████████████████████████████████████████████████| 4/4 [00:00<00:00, 2833.03it/s]\n",
      "100%|██████████████████████████████████████████████████████████████████████| 4/4 [00:00<00:00, 2569.25it/s]\n",
      "100%|██████████████████████████████████████████████████████████████████████| 4/4 [00:00<00:00, 2616.13it/s]\n",
      "100%|██████████████████████████████████████████████████████████████████████| 4/4 [00:00<00:00, 2981.03it/s]\n",
      "100%|██████████████████████████████████████████████████████████████████████| 4/4 [00:00<00:00, 3007.21it/s]\n",
      "100%|██████████████████████████████████████████████████████████████████████| 4/4 [00:00<00:00, 3112.66it/s]\n",
      "100%|██████████████████████████████████████████████████████████████████████| 4/4 [00:00<00:00, 3145.33it/s]\n",
      "100%|██████████████████████████████████████████████████████████████████████| 5/5 [00:00<00:00, 3185.22it/s]\n",
      "100%|██████████████████████████████████████████████████████████████████████| 4/4 [00:00<00:00, 2954.26it/s]\n",
      "100%|██████████████████████████████████████████████████████████████████████| 4/4 [00:00<00:00, 3130.08it/s]\n",
      "100%|██████████████████████████████████████████████████████████████████████| 5/5 [00:00<00:00, 2992.08it/s]\n",
      "100%|██████████████████████████████████████████████████████████████████████| 4/4 [00:00<00:00, 2460.00it/s]\n",
      "100%|██████████████████████████████████████████████████████████████████████| 5/5 [00:00<00:00, 3119.37it/s]\n",
      "100%|██████████████████████████████████████████████████████████████████████| 4/4 [00:00<00:00, 2791.55it/s]\n",
      "100%|██████████████████████████████████████████████████████████████████████| 5/5 [00:00<00:00, 3121.23it/s]\n",
      "100%|██████████████████████████████████████████████████████████████████████| 6/6 [00:00<00:00, 3336.76it/s]\n",
      "100%|██████████████████████████████████████████████████████████████████████| 4/4 [00:00<00:00, 2919.81it/s]\n",
      "100%|██████████████████████████████████████████████████████████████████████| 6/6 [00:00<00:00, 3271.69it/s]\n",
      "100%|██████████████████████████████████████████████████████████████████████| 4/4 [00:00<00:00, 3067.13it/s]\n",
      "100%|██████████████████████████████████████████████████████████████████████| 4/4 [00:00<00:00, 2983.15it/s]\n",
      "100%|██████████████████████████████████████████████████████████████████████| 4/4 [00:00<00:00, 3176.90it/s]\n",
      "100%|██████████████████████████████████████████████████████████████████████| 4/4 [00:00<00:00, 2746.76it/s]\n",
      "100%|██████████████████████████████████████████████████████████████████████| 5/5 [00:00<00:00, 2484.78it/s]\n",
      "100%|██████████████████████████████████████████████████████████████████████| 5/5 [00:00<00:00, 2527.91it/s]\n",
      "100%|██████████████████████████████████████████████████████████████████████| 4/4 [00:00<00:00, 2313.46it/s]\n",
      "100%|██████████████████████████████████████████████████████████████████████| 4/4 [00:00<00:00, 2638.76it/s]\n",
      "100%|██████████████████████████████████████████████████████████████████████| 4/4 [00:00<00:00, 2371.00it/s]\n",
      "100%|██████████████████████████████████████████████████████████████████████| 5/5 [00:00<00:00, 3035.39it/s]\n",
      "100%|██████████████████████████████████████████████████████████████████████| 4/4 [00:00<00:00, 2991.66it/s]\n",
      "100%|██████████████████████████████████████████████████████████████████████| 3/3 [00:00<00:00, 2833.35it/s]\n",
      "100%|██████████████████████████████████████████████████████████████████████| 4/4 [00:00<00:00, 2881.69it/s]\n",
      "100%|██████████████████████████████████████████████████████████████████████| 4/4 [00:00<00:00, 2994.33it/s]\n",
      "100%|██████████████████████████████████████████████████████████████████████| 4/4 [00:00<00:00, 2975.74it/s]\n",
      "100%|██████████████████████████████████████████████████████████████████████| 4/4 [00:00<00:00, 2898.12it/s]\n",
      "100%|██████████████████████████████████████████████████████████████████████| 4/4 [00:00<00:00, 2773.55it/s]\n",
      "100%|██████████████████████████████████████████████████████████████████████| 5/5 [00:00<00:00, 3089.95it/s]\n",
      "100%|██████████████████████████████████████████████████████████████████████| 5/5 [00:00<00:00, 3084.50it/s]\n",
      "100%|██████████████████████████████████████████████████████████████████████| 6/6 [00:00<00:00, 3468.28it/s]\n",
      "100%|██████████████████████████████████████████████████████████████████████| 4/4 [00:00<00:00, 2865.45it/s]\n",
      "100%|██████████████████████████████████████████████████████████████████████| 4/4 [00:00<00:00, 2998.07it/s]\n",
      "100%|██████████████████████████████████████████████████████████████████████| 4/4 [00:00<00:00, 3093.71it/s]\n",
      "100%|██████████████████████████████████████████████████████████████████████| 4/4 [00:00<00:00, 2921.84it/s]\n",
      "100%|██████████████████████████████████████████████████████████████████████| 4/4 [00:00<00:00, 2476.71it/s]\n",
      "100%|██████████████████████████████████████████████████████████████████████| 6/6 [00:00<00:00, 3470.19it/s]\n",
      "100%|██████████████████████████████████████████████████████████████████████| 5/5 [00:00<00:00, 2890.23it/s]\n",
      "100%|██████████████████████████████████████████████████████████████████████| 5/5 [00:00<00:00, 2736.72it/s]\n",
      "100%|██████████████████████████████████████████████████████████████████████| 4/4 [00:00<00:00, 2963.13it/s]\n",
      "100%|██████████████████████████████████████████████████████████████████████| 3/3 [00:00<00:00, 2961.38it/s]\n",
      "100%|██████████████████████████████████████████████████████████████████████| 4/4 [00:00<00:00, 2803.21it/s]\n",
      "100%|██████████████████████████████████████████████████████████████████████| 4/4 [00:00<00:00, 2818.75it/s]\n",
      "100%|██████████████████████████████████████████████████████████████████████| 4/4 [00:00<00:00, 2881.69it/s]\n",
      "100%|██████████████████████████████████████████████████████████████████████| 4/4 [00:00<00:00, 2763.96it/s]\n",
      "100%|██████████████████████████████████████████████████████████████████████| 4/4 [00:00<00:00, 2310.91it/s]\n",
      "100%|██████████████████████████████████████████████████████████████████████| 6/6 [00:00<00:00, 3013.87it/s]\n",
      "100%|██████████████████████████████████████████████████████████████████████| 5/5 [00:00<00:00, 3080.42it/s]\n",
      "100%|██████████████████████████████████████████████████████████████████████| 4/4 [00:00<00:00, 2793.87it/s]\n",
      "100%|██████████████████████████████████████████████████████████████████████| 4/4 [00:00<00:00, 2903.13it/s]\n",
      "100%|██████████████████████████████████████████████████████████████████████| 5/5 [00:00<00:00, 3001.08it/s]\n",
      "100%|██████████████████████████████████████████████████████████████████████| 5/5 [00:00<00:00, 3128.68it/s]\n",
      "100%|██████████████████████████████████████████████████████████████████████| 6/6 [00:00<00:00, 2822.23it/s]\n",
      "100%|██████████████████████████████████████████████████████████████████████| 4/4 [00:00<00:00, 2915.24it/s]\n",
      "100%|██████████████████████████████████████████████████████████████████████| 3/3 [00:00<00:00, 2629.11it/s]\n",
      "100%|██████████████████████████████████████████████████████████████████████| 4/4 [00:00<00:00, 2831.60it/s]\n",
      "100%|██████████████████████████████████████████████████████████████████████| 5/5 [00:00<00:00, 3111.50it/s]\n",
      "100%|██████████████████████████████████████████████████████████████████████| 4/4 [00:00<00:00, 2934.62it/s]\n",
      "100%|██████████████████████████████████████████████████████████████████████| 4/4 [00:00<00:00, 3002.37it/s]\n",
      "100%|██████████████████████████████████████████████████████████████████████| 5/5 [00:00<00:00, 3150.77it/s]\n",
      "100%|██████████████████████████████████████████████████████████████████████| 4/4 [00:00<00:00, 2969.42it/s]\n",
      "100%|██████████████████████████████████████████████████████████████████████| 4/4 [00:00<00:00, 2892.12it/s]\n",
      "100%|██████████████████████████████████████████████████████████████████████| 4/4 [00:00<00:00, 2932.57it/s]\n",
      "100%|██████████████████████████████████████████████████████████████████████| 4/4 [00:00<00:00, 2823.02it/s]\n",
      "100%|██████████████████████████████████████████████████████████████████████| 5/5 [00:00<00:00, 3067.36it/s]\n",
      "100%|██████████████████████████████████████████████████████████████████████| 4/4 [00:00<00:00, 2142.68it/s]\n",
      "100%|██████████████████████████████████████████████████████████████████████| 4/4 [00:00<00:00, 2799.47it/s]\n",
      "100%|██████████████████████████████████████████████████████████████████████| 4/4 [00:00<00:00, 2727.12it/s]\n",
      "100%|██████████████████████████████████████████████████████████████████████| 6/6 [00:00<00:00, 3109.19it/s]\n",
      "100%|██████████████████████████████████████████████████████████████████████| 4/4 [00:00<00:00, 3014.77it/s]\n",
      "100%|███████████████████████████████████████████████████████████████████████| 4/4 [00:00<00:00, 183.53it/s]\n",
      "100%|██████████████████████████████████████████████████████████████████████| 4/4 [00:00<00:00, 2100.57it/s]\n",
      "100%|██████████████████████████████████████████████████████████████████████| 4/4 [00:00<00:00, 1584.10it/s]\n",
      "100%|██████████████████████████████████████████████████████████████████████| 5/5 [00:00<00:00, 1016.90it/s]\n",
      "100%|███████████████████████████████████████████████████████████████████████| 7/7 [00:00<00:00, 922.03it/s]\n",
      "100%|██████████████████████████████████████████████████████████████████████| 4/4 [00:00<00:00, 2291.03it/s]\n",
      "100%|██████████████████████████████████████████████████████████████████████| 5/5 [00:00<00:00, 2925.71it/s]\n",
      "100%|██████████████████████████████████████████████████████████████████████| 4/4 [00:00<00:00, 2675.79it/s]\n",
      "100%|██████████████████████████████████████████████████████████████████████| 4/4 [00:00<00:00, 2768.52it/s]\n",
      "100%|██████████████████████████████████████████████████████████████████████| 4/4 [00:00<00:00, 2803.21it/s]\n",
      "100%|██████████████████████████████████████████████████████████████████████| 4/4 [00:00<00:00, 2661.78it/s]\n",
      "100%|██████████████████████████████████████████████████████████████████████| 5/5 [00:00<00:00, 2962.08it/s]\n",
      "100%|██████████████████████████████████████████████████████████████████████| 4/4 [00:00<00:00, 2829.21it/s]\n",
      "100%|██████████████████████████████████████████████████████████████████████| 5/5 [00:00<00:00, 2946.27it/s]\n",
      "100%|██████████████████████████████████████████████████████████████████████| 4/4 [00:00<00:00, 2904.64it/s]\n",
      "100%|██████████████████████████████████████████████████████████████████████| 4/4 [00:00<00:00, 2517.21it/s]\n",
      "100%|██████████████████████████████████████████████████████████████████████| 4/4 [00:00<00:00, 2612.87it/s]\n",
      "100%|██████████████████████████████████████████████████████████████████████| 4/4 [00:00<00:00, 2743.62it/s]\n",
      "100%|██████████████████████████████████████████████████████████████████████| 4/4 [00:00<00:00, 2733.78it/s]\n",
      "100%|██████████████████████████████████████████████████████████████████████| 4/4 [00:00<00:00, 2673.66it/s]\n",
      "100%|██████████████████████████████████████████████████████████████████████| 4/4 [00:00<00:00, 2688.23it/s]\n",
      "100%|██████████████████████████████████████████████████████████████████████| 6/6 [00:00<00:00, 3260.67it/s]\n",
      "100%|██████████████████████████████████████████████████████████████████████| 4/4 [00:00<00:00, 2792.94it/s]\n",
      "100%|███████████████████████████████████████████████████████████████████████| 4/4 [00:00<00:00, 319.13it/s]\n",
      "100%|██████████████████████████████████████████████████████████████████████| 4/4 [00:00<00:00, 2643.33it/s]\n",
      "100%|██████████████████████████████████████████████████████████████████████| 5/5 [00:00<00:00, 3071.40it/s]\n",
      "100%|██████████████████████████████████████████████████████████████████████| 5/5 [00:00<00:00, 3134.76it/s]\n",
      "100%|██████████████████████████████████████████████████████████████████████| 4/4 [00:00<00:00, 2610.83it/s]\n",
      "100%|██████████████████████████████████████████████████████████████████████| 4/4 [00:00<00:00, 1964.55it/s]\n",
      "100%|██████████████████████████████████████████████████████████████████████| 4/4 [00:00<00:00, 1749.63it/s]\n",
      "100%|██████████████████████████████████████████████████████████████████████| 5/5 [00:00<00:00, 2951.66it/s]\n",
      "100%|██████████████████████████████████████████████████████████████████████| 4/4 [00:00<00:00, 2917.78it/s]\n",
      "100%|██████████████████████████████████████████████████████████████████████| 5/5 [00:00<00:00, 2718.98it/s]\n",
      "100%|██████████████████████████████████████████████████████████████████████| 5/5 [00:00<00:00, 3141.33it/s]\n",
      "100%|██████████████████████████████████████████████████████████████████████| 4/4 [00:00<00:00, 2861.05it/s]\n",
      "100%|██████████████████████████████████████████████████████████████████████| 4/4 [00:00<00:00, 2919.30it/s]\n",
      "100%|██████████████████████████████████████████████████████████████████████| 4/4 [00:00<00:00, 1863.72it/s]\n",
      "100%|██████████████████████████████████████████████████████████████████████| 4/4 [00:00<00:00, 1785.76it/s]\n",
      "100%|██████████████████████████████████████████████████████████████████████| 4/4 [00:00<00:00, 1238.81it/s]\n",
      "100%|███████████████████████████████████████████████████████████████████████| 4/4 [00:00<00:00, 753.46it/s]\n",
      "100%|███████████████████████████████████████████████████████████████████████| 4/4 [00:00<00:00, 697.45it/s]\n",
      "100%|███████████████████████████████████████████████████████████████████████| 4/4 [00:00<00:00, 245.99it/s]\n",
      "100%|███████████████████████████████████████████████████████████████████████| 4/4 [00:00<00:00, 711.11it/s]\n",
      "100%|██████████████████████████████████████████████████████████████████████| 6/6 [00:00<00:00, 2417.47it/s]\n",
      "100%|██████████████████████████████████████████████████████████████████████| 5/5 [00:00<00:00, 1722.93it/s]\n",
      "100%|██████████████████████████████████████████████████████████████████████| 4/4 [00:00<00:00, 2456.76it/s]\n",
      "100%|██████████████████████████████████████████████████████████████████████| 4/4 [00:00<00:00, 2655.88it/s]\n",
      "100%|██████████████████████████████████████████████████████████████████████| 6/6 [00:00<00:00, 3311.29it/s]\n",
      "100%|██████████████████████████████████████████████████████████████████████| 5/5 [00:00<00:00, 2379.88it/s]\n",
      "100%|██████████████████████████████████████████████████████████████████████| 6/6 [00:00<00:00, 3176.70it/s]\n",
      "100%|██████████████████████████████████████████████████████████████████████| 5/5 [00:00<00:00, 2878.33it/s]\n",
      "100%|██████████████████████████████████████████████████████████████████████| 4/4 [00:00<00:00, 2927.96it/s]\n",
      "100%|██████████████████████████████████████████████████████████████████████| 4/4 [00:00<00:00, 2064.13it/s]\n",
      "100%|██████████████████████████████████████████████████████████████████████| 4/4 [00:00<00:00, 2680.92it/s]\n",
      "100%|██████████████████████████████████████████████████████████████████████| 4/4 [00:00<00:00, 2917.78it/s]\n",
      "100%|██████████████████████████████████████████████████████████████████████| 5/5 [00:00<00:00, 2915.55it/s]\n",
      "100%|██████████████████████████████████████████████████████████████████████| 6/6 [00:00<00:00, 2141.41it/s]\n",
      "100%|██████████████████████████████████████████████████████████████████████| 4/4 [00:00<00:00, 2739.58it/s]\n",
      "100%|██████████████████████████████████████████████████████████████████████| 5/5 [00:00<00:00, 2840.90it/s]\n",
      "100%|██████████████████████████████████████████████████████████████████████| 4/4 [00:00<00:00, 2851.33it/s]\n",
      "100%|██████████████████████████████████████████████████████████████████████| 4/4 [00:00<00:00, 2833.03it/s]\n",
      "100%|██████████████████████████████████████████████████████████████████████| 5/5 [00:00<00:00, 3017.48it/s]\n",
      "100%|██████████████████████████████████████████████████████████████████████| 4/4 [00:00<00:00, 2464.70it/s]\n",
      "100%|██████████████████████████████████████████████████████████████████████| 4/4 [00:00<00:00, 2774.01it/s]\n",
      "100%|██████████████████████████████████████████████████████████████████████| 4/4 [00:00<00:00, 2642.08it/s]\n",
      "100%|██████████████████████████████████████████████████████████████████████| 5/5 [00:00<00:00, 2455.97it/s]\n",
      "100%|██████████████████████████████████████████████████████████████████████| 4/4 [00:00<00:00, 2289.15it/s]\n",
      "100%|██████████████████████████████████████████████████████████████████████| 4/4 [00:00<00:00, 2162.29it/s]\n",
      "100%|██████████████████████████████████████████████████████████████████████| 4/4 [00:00<00:00, 2156.18it/s]\n",
      "100%|██████████████████████████████████████████████████████████████████████| 5/5 [00:00<00:00, 3093.60it/s]\n",
      "100%|██████████████████████████████████████████████████████████████████████| 5/5 [00:00<00:00, 3326.70it/s]\n",
      "100%|██████████████████████████████████████████████████████████████████████| 5/5 [00:00<00:00, 2762.68it/s]\n",
      "100%|██████████████████████████████████████████████████████████████████████| 4/4 [00:00<00:00, 2692.11it/s]\n",
      "100%|██████████████████████████████████████████████████████████████████████| 5/5 [00:00<00:00, 3229.87it/s]\n",
      "100%|██████████████████████████████████████████████████████████████████████| 5/5 [00:00<00:00, 3020.96it/s]\n",
      "100%|██████████████████████████████████████████████████████████████████████| 6/6 [00:00<00:00, 3271.69it/s]\n",
      "100%|██████████████████████████████████████████████████████████████████████| 5/5 [00:00<00:00, 2481.25it/s]\n",
      "100%|██████████████████████████████████████████████████████████████████████| 5/5 [00:00<00:00, 2999.36it/s]\n",
      "100%|██████████████████████████████████████████████████████████████████████| 4/4 [00:00<00:00, 2635.03it/s]\n",
      "100%|██████████████████████████████████████████████████████████████████████| 4/4 [00:00<00:00, 2747.21it/s]\n",
      "100%|██████████████████████████████████████████████████████████████████████| 4/4 [00:00<00:00, 2991.12it/s]\n",
      "100%|██████████████████████████████████████████████████████████████████████| 5/5 [00:00<00:00, 2967.53it/s]\n",
      "100%|██████████████████████████████████████████████████████████████████████| 7/7 [00:00<00:00, 3202.46it/s]\n",
      "100%|██████████████████████████████████████████████████████████████████████| 5/5 [00:00<00:00, 3101.84it/s]\n",
      "100%|██████████████████████████████████████████████████████████████████████| 4/4 [00:00<00:00, 2673.66it/s]\n",
      "100%|██████████████████████████████████████████████████████████████████████| 4/4 [00:00<00:00, 2760.32it/s]\n",
      "100%|██████████████████████████████████████████████████████████████████████| 6/6 [00:00<00:00, 2995.57it/s]\n",
      "100%|██████████████████████████████████████████████████████████████████████| 4/4 [00:00<00:00, 2909.18it/s]\n",
      "100%|██████████████████████████████████████████████████████████████████████| 4/4 [00:00<00:00, 2086.46it/s]\n",
      "100%|██████████████████████████████████████████████████████████████████████| 5/5 [00:00<00:00, 2967.53it/s]\n",
      "100%|██████████████████████████████████████████████████████████████████████| 4/4 [00:00<00:00, 2828.73it/s]\n",
      "100%|██████████████████████████████████████████████████████████████████████| 4/4 [00:00<00:00, 2826.83it/s]\n",
      "100%|██████████████████████████████████████████████████████████████████████| 4/4 [00:00<00:00, 2833.03it/s]\n",
      "100%|██████████████████████████████████████████████████████████████████████| 5/5 [00:00<00:00, 3032.32it/s]\n",
      "100%|██████████████████████████████████████████████████████████████████████| 5/5 [00:00<00:00, 3182.32it/s]\n",
      "100%|██████████████████████████████████████████████████████████████████████| 4/4 [00:00<00:00, 2582.30it/s]\n",
      "100%|██████████████████████████████████████████████████████████████████████| 5/5 [00:00<00:00, 3101.84it/s]\n",
      "100%|██████████████████████████████████████████████████████████████████████| 4/4 [00:00<00:00, 2426.91it/s]\n",
      "100%|██████████████████████████████████████████████████████████████████████| 4/4 [00:00<00:00, 2689.52it/s]\n",
      "100%|██████████████████████████████████████████████████████████████████████| 4/4 [00:00<00:00, 2956.34it/s]\n",
      "100%|██████████████████████████████████████████████████████████████████████| 4/4 [00:00<00:00, 2836.86it/s]\n",
      "100%|██████████████████████████████████████████████████████████████████████| 5/5 [00:00<00:00, 1695.35it/s]\n",
      "100%|██████████████████████████████████████████████████████████████████████| 5/5 [00:00<00:00, 2401.41it/s]\n",
      "100%|██████████████████████████████████████████████████████████████████████| 4/4 [00:00<00:00, 2816.86it/s]\n",
      "100%|██████████████████████████████████████████████████████████████████████| 5/5 [00:00<00:00, 3324.59it/s]\n",
      "100%|██████████████████████████████████████████████████████████████████████| 4/4 [00:00<00:00, 2679.21it/s]\n",
      "100%|██████████████████████████████████████████████████████████████████████| 4/4 [00:00<00:00, 2785.52it/s]\n",
      "100%|██████████████████████████████████████████████████████████████████████| 4/4 [00:00<00:00, 2708.62it/s]\n",
      "100%|██████████████████████████████████████████████████████████████████████| 4/4 [00:00<00:00, 2934.11it/s]\n",
      "100%|██████████████████████████████████████████████████████████████████████| 4/4 [00:00<00:00, 3005.05it/s]\n",
      "100%|██████████████████████████████████████████████████████████████████████| 4/4 [00:00<00:00, 2601.12it/s]\n",
      "100%|██████████████████████████████████████████████████████████████████████| 4/4 [00:00<00:00, 2969.42it/s]\n",
      "100%|██████████████████████████████████████████████████████████████████████| 5/5 [00:00<00:00, 1999.95it/s]\n",
      "100%|██████████████████████████████████████████████████████████████████████| 5/5 [00:00<00:00, 2902.23it/s]\n",
      "100%|██████████████████████████████████████████████████████████████████████| 6/6 [00:00<00:00, 3573.17it/s]\n",
      "100%|██████████████████████████████████████████████████████████████████████| 6/6 [00:00<00:00, 3097.71it/s]\n",
      "100%|██████████████████████████████████████████████████████████████████████| 4/4 [00:00<00:00, 2806.49it/s]\n",
      "100%|██████████████████████████████████████████████████████████████████████| 4/4 [00:00<00:00, 2666.86it/s]\n",
      "100%|██████████████████████████████████████████████████████████████████████| 4/4 [00:00<00:00, 2699.04it/s]\n",
      "100%|██████████████████████████████████████████████████████████████████████| 4/4 [00:00<00:00, 2626.36it/s]\n",
      "100%|██████████████████████████████████████████████████████████████████████| 5/5 [00:00<00:00, 2850.94it/s]\n",
      "100%|██████████████████████████████████████████████████████████████████████| 5/5 [00:00<00:00, 2734.94it/s]\n",
      "100%|███████████████████████████████████████████████████████████████████████| 4/4 [00:00<00:00, 834.69it/s]\n",
      "100%|██████████████████████████████████████████████████████████████████████| 5/5 [00:00<00:00, 3030.57it/s]\n",
      "100%|██████████████████████████████████████████████████████████████████████| 5/5 [00:00<00:00, 2819.89it/s]\n",
      "100%|██████████████████████████████████████████████████████████████████████| 4/4 [00:00<00:00, 3016.40it/s]\n",
      "100%|██████████████████████████████████████████████████████████████████████| 4/4 [00:00<00:00, 2570.43it/s]\n",
      "100%|██████████████████████████████████████████████████████████████████████| 5/5 [00:00<00:00, 3283.47it/s]\n",
      "100%|██████████████████████████████████████████████████████████████████████| 4/4 [00:00<00:00, 2609.62it/s]\n",
      "100%|██████████████████████████████████████████████████████████████████████| 4/4 [00:00<00:00, 2732.45it/s]\n",
      "100%|██████████████████████████████████████████████████████████████████████| 4/4 [00:00<00:00, 2963.13it/s]\n",
      "100%|██████████████████████████████████████████████████████████████████████| 5/5 [00:00<00:00, 2741.02it/s]\n",
      "100%|██████████████████████████████████████████████████████████████████████| 4/4 [00:00<00:00, 2834.95it/s]\n",
      "100%|██████████████████████████████████████████████████████████████████████| 6/6 [00:00<00:00, 3208.70it/s]\n",
      "100%|██████████████████████████████████████████████████████████████████████| 4/4 [00:00<00:00, 2412.60it/s]\n",
      "100%|██████████████████████████████████████████████████████████████████████| 5/5 [00:00<00:00, 2969.21it/s]\n",
      "100%|██████████████████████████████████████████████████████████████████████| 5/5 [00:00<00:00, 2976.37it/s]\n",
      "100%|██████████████████████████████████████████████████████████████████████| 4/4 [00:00<00:00, 2157.56it/s]\n",
      "100%|██████████████████████████████████████████████████████████████████████| 4/4 [00:00<00:00, 2687.79it/s]\n",
      "100%|██████████████████████████████████████████████████████████████████████| 5/5 [00:00<00:00, 2942.55it/s]\n",
      "100%|██████████████████████████████████████████████████████████████████████| 4/4 [00:00<00:00, 2651.27it/s]\n",
      "100%|██████████████████████████████████████████████████████████████████████| 4/4 [00:00<00:00, 2881.69it/s]\n",
      "100%|██████████████████████████████████████████████████████████████████████| 4/4 [00:00<00:00, 2720.48it/s]\n",
      "100%|██████████████████████████████████████████████████████████████████████| 5/5 [00:00<00:00, 2873.60it/s]\n",
      "100%|██████████████████████████████████████████████████████████████████████| 5/5 [00:00<00:00, 3028.38it/s]\n",
      "100%|██████████████████████████████████████████████████████████████████████| 4/4 [00:00<00:00, 2607.59it/s]\n",
      "100%|███████████████████████████████████████████████████████████████████████| 4/4 [00:00<00:00, 238.05it/s]\n",
      "100%|██████████████████████████████████████████████████████████████████████| 4/4 [00:00<00:00, 3067.13it/s]\n",
      "100%|██████████████████████████████████████████████████████████████████████| 4/4 [00:00<00:00, 2958.42it/s]\n",
      "100%|██████████████████████████████████████████████████████████████████████| 4/4 [00:00<00:00, 2699.04it/s]\n",
      "100%|██████████████████████████████████████████████████████████████████████| 6/6 [00:00<00:00, 2898.62it/s]\n",
      "100%|██████████████████████████████████████████████████████████████████████| 5/5 [00:00<00:00, 2951.24it/s]\n",
      "100%|██████████████████████████████████████████████████████████████████████| 6/6 [00:00<00:00, 3141.41it/s]\n",
      "100%|████████████████████████████████████████████████████████████████| 3733/3733 [00:02<00:00, 1260.44it/s]\n"
     ]
    }
   ],
   "source": [
    "vest_base = do_smart_repair(vest_base, min_rook_length = 30.5)"
   ]
  },
  {
   "cell_type": "code",
   "execution_count": 26,
   "id": "4066a12a",
   "metadata": {},
   "outputs": [
    {
     "name": "stderr",
     "output_type": "stream",
     "text": [
      "100%|████████████████████████████████████████████████████████████████| 3733/3733 [00:03<00:00, 1191.29it/s]\n"
     ]
    },
    {
     "data": {
      "text/plain": [
       "True"
      ]
     },
     "execution_count": 26,
     "metadata": {},
     "output_type": "execute_result"
    }
   ],
   "source": [
    "maup.doctor(vest_base)"
   ]
  },
  {
   "cell_type": "markdown",
   "id": "9f38f172",
   "metadata": {},
   "source": [
    "### If it is true for maup doctor, we will use it as the base vest data."
   ]
  },
  {
   "cell_type": "code",
   "execution_count": 27,
   "id": "10e48467-d392-4312-b15f-bf18106f354c",
   "metadata": {},
   "outputs": [
    {
     "name": "stderr",
     "output_type": "stream",
     "text": [
      "100%|█████████████████████████████████████████████████████████████████| 3733/3733 [00:04<00:00, 909.83it/s]\n",
      "100%|█████████████████████████████████████████████████████████████████| 3733/3733 [00:19<00:00, 196.30it/s]\n"
     ]
    }
   ],
   "source": [
    "# vap and population have the same GEOID20\n",
    "blocks_to_precincts_assignment = maup.assign(population_df.geometry, vest_base.geometry)"
   ]
  },
  {
   "cell_type": "code",
   "execution_count": 28,
   "id": "ac015a92-391c-48c4-b26a-5c511b58e3ab",
   "metadata": {},
   "outputs": [],
   "source": [
    "pop_col = ['TOTPOP', 'HISP', 'NH_WHITE', 'NH_BLACK', 'NH_AMIN', 'NH_ASIAN', 'NH_NHPI', 'NH_OTHER', 'NH_2MORE', 'H_WHITE', 'H_BLACK', 'H_AMIN', 'H_ASIAN', 'H_NHPI', 'H_OTHER', 'H_2MORE', 'VAP', 'HVAP', 'WVAP', 'BVAP', 'AMINVAP', 'ASIANVAP', 'NHPIVAP', 'OTHERVAP', '2MOREVAP']"
   ]
  },
  {
   "cell_type": "code",
   "execution_count": 29,
   "id": "f91b6866-727d-40c9-9d43-4a0e6ae8c0e2",
   "metadata": {},
   "outputs": [],
   "source": [
    "vest_base[pop_col] = population_df[pop_col].groupby(blocks_to_precincts_assignment).sum()"
   ]
  },
  {
   "cell_type": "code",
   "execution_count": 30,
   "id": "ead5880d-f5f1-44f0-8024-ff4789ff2f15",
   "metadata": {},
   "outputs": [],
   "source": [
    "# election_df = gpd.GeoDataFrame(vest_base, crs=\"EPSG:4269\")\n",
    "election_df = gpd.GeoDataFrame(vest_base)"
   ]
  },
  {
   "cell_type": "markdown",
   "id": "cf1aefdb-30e0-4d1f-9261-01a513f4e1d3",
   "metadata": {},
   "source": [
    "### Check if the population agrees"
   ]
  },
  {
   "cell_type": "code",
   "execution_count": 31,
   "id": "d6ff200d-d1d6-4f7d-ba3b-142cddc0eb85",
   "metadata": {},
   "outputs": [
    {
     "name": "stdout",
     "output_type": "stream",
     "text": [
      "population agrees\n"
     ]
    }
   ],
   "source": [
    "check_population(population_df, vest_base)"
   ]
  },
  {
   "cell_type": "markdown",
   "id": "2b677d1a-cbe3-47aa-ae8a-761d0dfc7ad1",
   "metadata": {},
   "source": [
    "# Add more vest data"
   ]
  },
  {
   "cell_type": "code",
   "execution_count": 32,
   "id": "a404637a-46a1-41f4-bd81-6842a9a7274c",
   "metadata": {},
   "outputs": [],
   "source": [
    "vest18 = gpd.read_file(vest18_data)"
   ]
  },
  {
   "cell_type": "code",
   "execution_count": 33,
   "id": "d94c3765-b784-4e9b-9b29-0c8a3bbdbf0d",
   "metadata": {},
   "outputs": [
    {
     "data": {
      "text/plain": [
       "Index(['STATEFP', 'COUNTYFP', 'NAME', 'G18USSRHAW', 'G18USSDMCC', 'G18USSLCAM',\n",
       "       'G18USSGCRA', 'G18USSIODE', 'G18AUDRMCD', 'G18AUDDGAL', 'G18AUDLOTO',\n",
       "       'G18AUDGFIT', 'G18AUDCLUE', 'geometry'],\n",
       "      dtype='object')"
      ]
     },
     "execution_count": 33,
     "metadata": {},
     "output_type": "execute_result"
    }
   ],
   "source": [
    "vest18.columns"
   ]
  },
  {
   "cell_type": "code",
   "execution_count": 34,
   "id": "5528f64a-1b5c-4b9f-b7cf-aefa45d4d25f",
   "metadata": {},
   "outputs": [
    {
     "name": "stderr",
     "output_type": "stream",
     "text": [
      "100%|████████████████████████████████████████████████████████████████| 3274/3274 [00:02<00:00, 1096.46it/s]\n"
     ]
    },
    {
     "name": "stdout",
     "output_type": "stream",
     "text": [
      "There are 8 overlaps.\n",
      "Snapping all geometries to a grid with precision 10^( -5 ) to avoid GEOS errors.\n",
      "Identifying overlaps...\n"
     ]
    },
    {
     "name": "stderr",
     "output_type": "stream",
     "text": [
      "100%|████████████████████████████████████████████████████████████████| 3974/3974 [00:01<00:00, 3711.25it/s]\n"
     ]
    },
    {
     "name": "stdout",
     "output_type": "stream",
     "text": [
      "Resolving overlaps...\n",
      "Assigning order 2 pieces...\n",
      "Filling gaps...\n"
     ]
    },
    {
     "name": "stderr",
     "output_type": "stream",
     "text": [
      "Gaps to simplify: 100%|██████████████████████████████████████████████████████| 1/1 [00:00<00:00,  4.37it/s]\n",
      "Gaps to fill: 0it [00:00, ?it/s]\n",
      "100%|█████████████████████████████████████████████████████████████████| 3274/3274 [00:03<00:00, 973.00it/s]\n",
      "100%|█████████████████████████████████████████████████████████████████| 3274/3274 [00:04<00:00, 723.62it/s]\n",
      "100%|█████████████████████████████████████████████████████████████████| 3274/3274 [00:19<00:00, 168.15it/s]\n",
      "100%|█████████████████████████████████████████████████████████████████| 3733/3733 [00:04<00:00, 794.77it/s]\n",
      "100%|█████████████████████████████████████████████████████████████████| 3733/3733 [00:17<00:00, 209.01it/s]\n"
     ]
    },
    {
     "name": "stdout",
     "output_type": "stream",
     "text": [
      "population agrees\n"
     ]
    }
   ],
   "source": [
    "# check the result here\n",
    "start_col = 3\n",
    "election_df = add_vest(vest18, election_df, '18', population_df, start_col)"
   ]
  },
  {
   "cell_type": "markdown",
   "id": "404986b1-549a-4014-8d2a-0fefe7c7179a",
   "metadata": {},
   "source": [
    "### vest 16"
   ]
  },
  {
   "cell_type": "code",
   "execution_count": 35,
   "id": "4d7476dd-c003-4fa5-ab9b-8ed6f75bed39",
   "metadata": {
    "tags": []
   },
   "outputs": [
    {
     "data": {
      "text/plain": [
       "Index(['STATEFP', 'COUNTYFP', 'NAME', 'G16PRERTRU', 'G16PREDCLI', 'G16PRELJOH',\n",
       "       'G16PREGSTE', 'G16PRECCAS', 'G16USSRBLU', 'G16USSDKAN', 'G16USSLDIN',\n",
       "       'G16USSGMCF', 'G16USSCRYM', 'G16GOVRGRE', 'G16GOVDKOS', 'G16GOVLSPR',\n",
       "       'G16GOVGFIT', 'G16GOVITUR', 'G16LTGRPAR', 'G16LTGDCAR', 'G16LTGLHED',\n",
       "       'G16LTGGLEA', 'G16ATGRHAW', 'G16ATGDHEN', 'G16TRERSCH', 'G16TREDBAK',\n",
       "       'G16TRELOTO', 'G16TREGHEX', 'G16SOSRASH', 'G16SOSDSMI', 'G16SOSLMOR',\n",
       "       'geometry'],\n",
       "      dtype='object')"
      ]
     },
     "execution_count": 35,
     "metadata": {},
     "output_type": "execute_result"
    }
   ],
   "source": [
    "vest16 = gpd.read_file(vest16_data)\n",
    "vest16.columns"
   ]
  },
  {
   "cell_type": "code",
   "execution_count": 36,
   "id": "579d1844-0a2c-4bf4-889d-a2234738cd2a",
   "metadata": {},
   "outputs": [
    {
     "name": "stderr",
     "output_type": "stream",
     "text": [
      "100%|████████████████████████████████████████████████████████████████| 3324/3324 [00:02<00:00, 1172.77it/s]\n"
     ]
    },
    {
     "name": "stdout",
     "output_type": "stream",
     "text": [
      "There are 83 overlaps.\n",
      "Snapping all geometries to a grid with precision 10^( -5 ) to avoid GEOS errors.\n",
      "Identifying overlaps...\n"
     ]
    },
    {
     "name": "stderr",
     "output_type": "stream",
     "text": [
      "100%|████████████████████████████████████████████████████████████████| 4113/4113 [00:01<00:00, 3581.48it/s]\n"
     ]
    },
    {
     "name": "stdout",
     "output_type": "stream",
     "text": [
      "Resolving overlaps...\n",
      "Assigning order 2 pieces...\n",
      "Assigning order 3 pieces...\n",
      "Filling gaps...\n"
     ]
    },
    {
     "name": "stderr",
     "output_type": "stream",
     "text": [
      "Gaps to simplify: 100%|██████████████████████████████████████████████████████| 1/1 [00:00<00:00,  4.18it/s]\n",
      "Gaps to fill: 0it [00:00, ?it/s]\n",
      "100%|████████████████████████████████████████████████████████████████| 3324/3324 [00:02<00:00, 1205.34it/s]\n",
      "100%|█████████████████████████████████████████████████████████████████| 3324/3324 [00:04<00:00, 768.46it/s]\n",
      "100%|█████████████████████████████████████████████████████████████████| 3324/3324 [00:18<00:00, 177.29it/s]\n",
      "100%|█████████████████████████████████████████████████████████████████| 3733/3733 [00:06<00:00, 609.13it/s]\n",
      "100%|█████████████████████████████████████████████████████████████████| 3733/3733 [00:18<00:00, 205.42it/s]\n"
     ]
    },
    {
     "name": "stdout",
     "output_type": "stream",
     "text": [
      "population agrees\n"
     ]
    }
   ],
   "source": [
    "start_col = 3\n",
    "election_df = add_vest(vest16, election_df, '16', population_df, start_col)"
   ]
  },
  {
   "cell_type": "markdown",
   "id": "10cf83d4-6005-485b-8193-c0149869a97e",
   "metadata": {},
   "source": [
    "## Add the district data"
   ]
  },
  {
   "cell_type": "code",
   "execution_count": 37,
   "id": "a0ccb606-7fe4-4b0a-998b-337d31f4abc5",
   "metadata": {},
   "outputs": [],
   "source": [
    "cong_df = gpd.read_file(cd_data)\n",
    "cong_df = cong_df.to_crs(cong_df.estimate_utm_crs())\n",
    "send = gpd.read_file(send_data)\n",
    "send = send.to_crs(send.estimate_utm_crs())\n",
    "hdist = gpd.read_file(hdist_data)\n",
    "hdist = hdist.to_crs(hdist.estimate_utm_crs())"
   ]
  },
  {
   "cell_type": "code",
   "execution_count": 38,
   "id": "dd5dba22-3d02-4361-9408-db49f0a1ac4d",
   "metadata": {},
   "outputs": [
    {
     "data": {
      "text/html": [
       "<div>\n",
       "<style scoped>\n",
       "    .dataframe tbody tr th:only-of-type {\n",
       "        vertical-align: middle;\n",
       "    }\n",
       "\n",
       "    .dataframe tbody tr th {\n",
       "        vertical-align: top;\n",
       "    }\n",
       "\n",
       "    .dataframe thead th {\n",
       "        text-align: right;\n",
       "    }\n",
       "</style>\n",
       "<table border=\"1\" class=\"dataframe\">\n",
       "  <thead>\n",
       "    <tr style=\"text-align: right;\">\n",
       "      <th></th>\n",
       "      <th>ID</th>\n",
       "      <th>AREA</th>\n",
       "      <th>DISTRICT</th>\n",
       "      <th>MEMBERS</th>\n",
       "      <th>LOCKED</th>\n",
       "      <th>NAME</th>\n",
       "      <th>POPULATION</th>\n",
       "      <th>IDEAL_VALU</th>\n",
       "      <th>DEVIATION</th>\n",
       "      <th>F_DEVIATIO</th>\n",
       "      <th>DISTRICT_L</th>\n",
       "      <th>geometry</th>\n",
       "    </tr>\n",
       "  </thead>\n",
       "  <tbody>\n",
       "    <tr>\n",
       "      <th>0</th>\n",
       "      <td>1</td>\n",
       "      <td>258.333252</td>\n",
       "      <td>1</td>\n",
       "      <td>1.0</td>\n",
       "      <td>None</td>\n",
       "      <td>None</td>\n",
       "      <td>769364</td>\n",
       "      <td>769364.0</td>\n",
       "      <td>0.0</td>\n",
       "      <td>0.0</td>\n",
       "      <td>1|0%</td>\n",
       "      <td>POLYGON ((724277.586 4283686.068, 724274.779 4...</td>\n",
       "    </tr>\n",
       "    <tr>\n",
       "      <th>1</th>\n",
       "      <td>2</td>\n",
       "      <td>1819.885010</td>\n",
       "      <td>2</td>\n",
       "      <td>1.0</td>\n",
       "      <td>None</td>\n",
       "      <td>None</td>\n",
       "      <td>769364</td>\n",
       "      <td>769364.0</td>\n",
       "      <td>0.0</td>\n",
       "      <td>0.0</td>\n",
       "      <td>2|0%</td>\n",
       "      <td>POLYGON ((701455.029 4293272.208, 701452.376 4...</td>\n",
       "    </tr>\n",
       "    <tr>\n",
       "      <th>2</th>\n",
       "      <td>3</td>\n",
       "      <td>7692.436030</td>\n",
       "      <td>3</td>\n",
       "      <td>1.0</td>\n",
       "      <td>None</td>\n",
       "      <td>None</td>\n",
       "      <td>769364</td>\n",
       "      <td>769364.0</td>\n",
       "      <td>0.0</td>\n",
       "      <td>0.0</td>\n",
       "      <td>3|0%</td>\n",
       "      <td>POLYGON ((702548.398 4312073.906, 702579.992 4...</td>\n",
       "    </tr>\n",
       "    <tr>\n",
       "      <th>3</th>\n",
       "      <td>4</td>\n",
       "      <td>14654.767500</td>\n",
       "      <td>4</td>\n",
       "      <td>1.0</td>\n",
       "      <td>None</td>\n",
       "      <td>None</td>\n",
       "      <td>769364</td>\n",
       "      <td>769364.0</td>\n",
       "      <td>0.0</td>\n",
       "      <td>0.0</td>\n",
       "      <td>4|0%</td>\n",
       "      <td>POLYGON ((526619.724 4230493.997, 526488.229 4...</td>\n",
       "    </tr>\n",
       "    <tr>\n",
       "      <th>4</th>\n",
       "      <td>5</td>\n",
       "      <td>431.047668</td>\n",
       "      <td>5</td>\n",
       "      <td>1.0</td>\n",
       "      <td>None</td>\n",
       "      <td>None</td>\n",
       "      <td>769364</td>\n",
       "      <td>769364.0</td>\n",
       "      <td>0.0</td>\n",
       "      <td>0.0</td>\n",
       "      <td>5|0%</td>\n",
       "      <td>POLYGON ((389062.782 4299248.855, 388244.676 4...</td>\n",
       "    </tr>\n",
       "  </tbody>\n",
       "</table>\n",
       "</div>"
      ],
      "text/plain": [
       "   ID          AREA DISTRICT  MEMBERS LOCKED  NAME  POPULATION  IDEAL_VALU  \\\n",
       "0   1    258.333252        1      1.0   None  None      769364    769364.0   \n",
       "1   2   1819.885010        2      1.0   None  None      769364    769364.0   \n",
       "2   3   7692.436030        3      1.0   None  None      769364    769364.0   \n",
       "3   4  14654.767500        4      1.0   None  None      769364    769364.0   \n",
       "4   5    431.047668        5      1.0   None  None      769364    769364.0   \n",
       "\n",
       "   DEVIATION  F_DEVIATIO DISTRICT_L  \\\n",
       "0        0.0         0.0       1|0%   \n",
       "1        0.0         0.0       2|0%   \n",
       "2        0.0         0.0       3|0%   \n",
       "3        0.0         0.0       4|0%   \n",
       "4        0.0         0.0       5|0%   \n",
       "\n",
       "                                            geometry  \n",
       "0  POLYGON ((724277.586 4283686.068, 724274.779 4...  \n",
       "1  POLYGON ((701455.029 4293272.208, 701452.376 4...  \n",
       "2  POLYGON ((702548.398 4312073.906, 702579.992 4...  \n",
       "3  POLYGON ((526619.724 4230493.997, 526488.229 4...  \n",
       "4  POLYGON ((389062.782 4299248.855, 388244.676 4...  "
      ]
     },
     "execution_count": 38,
     "metadata": {},
     "output_type": "execute_result"
    }
   ],
   "source": [
    "cong_df.head()"
   ]
  },
  {
   "cell_type": "code",
   "execution_count": 39,
   "id": "72749f5b-c569-4a6b-a068-663267c845e6",
   "metadata": {},
   "outputs": [
    {
     "data": {
      "text/html": [
       "<div>\n",
       "<style scoped>\n",
       "    .dataframe tbody tr th:only-of-type {\n",
       "        vertical-align: middle;\n",
       "    }\n",
       "\n",
       "    .dataframe tbody tr th {\n",
       "        vertical-align: top;\n",
       "    }\n",
       "\n",
       "    .dataframe thead th {\n",
       "        text-align: right;\n",
       "    }\n",
       "</style>\n",
       "<table border=\"1\" class=\"dataframe\">\n",
       "  <thead>\n",
       "    <tr style=\"text-align: right;\">\n",
       "      <th></th>\n",
       "      <th>ID</th>\n",
       "      <th>AREA</th>\n",
       "      <th>DISTRICT</th>\n",
       "      <th>MEMBERS</th>\n",
       "      <th>LOCKED</th>\n",
       "      <th>NAME</th>\n",
       "      <th>POPULATION</th>\n",
       "      <th>IDEAL_VALU</th>\n",
       "      <th>DEVIATION</th>\n",
       "      <th>F_DEVIATIO</th>\n",
       "      <th>...</th>\n",
       "      <th>F_PERFINDE</th>\n",
       "      <th>PERFINDEX1</th>\n",
       "      <th>F_PERFIND1</th>\n",
       "      <th>PERFINDEX2</th>\n",
       "      <th>PERFINDEX3</th>\n",
       "      <th>F_PERFIND2</th>\n",
       "      <th>PERFINDEX4</th>\n",
       "      <th>F_PERFIND3</th>\n",
       "      <th>PERFINDEX5</th>\n",
       "      <th>geometry</th>\n",
       "    </tr>\n",
       "  </thead>\n",
       "  <tbody>\n",
       "    <tr>\n",
       "      <th>0</th>\n",
       "      <td>2</td>\n",
       "      <td>80.03</td>\n",
       "      <td>SD14</td>\n",
       "      <td>1.0</td>\n",
       "      <td>None</td>\n",
       "      <td>None</td>\n",
       "      <td>185861</td>\n",
       "      <td>181027.0</td>\n",
       "      <td>4834.0</td>\n",
       "      <td>0.0267</td>\n",
       "      <td>...</td>\n",
       "      <td>0.7887</td>\n",
       "      <td>160258.5738</td>\n",
       "      <td>0.2113</td>\n",
       "      <td>758581.3127</td>\n",
       "      <td>376688.6996</td>\n",
       "      <td>0.7817</td>\n",
       "      <td>105199.5418</td>\n",
       "      <td>0.2183</td>\n",
       "      <td>481888.2414</td>\n",
       "      <td>POLYGON ((736396.121 4288963.569, 736373.196 4...</td>\n",
       "    </tr>\n",
       "    <tr>\n",
       "      <th>1</th>\n",
       "      <td>4</td>\n",
       "      <td>83.23</td>\n",
       "      <td>SD13</td>\n",
       "      <td>1.0</td>\n",
       "      <td>None</td>\n",
       "      <td>None</td>\n",
       "      <td>185863</td>\n",
       "      <td>181027.0</td>\n",
       "      <td>4836.0</td>\n",
       "      <td>0.0267</td>\n",
       "      <td>...</td>\n",
       "      <td>0.8166</td>\n",
       "      <td>140598.1802</td>\n",
       "      <td>0.1834</td>\n",
       "      <td>766789.8417</td>\n",
       "      <td>393529.0964</td>\n",
       "      <td>0.8131</td>\n",
       "      <td>90441.8049</td>\n",
       "      <td>0.1869</td>\n",
       "      <td>483970.9013</td>\n",
       "      <td>POLYGON ((736264.894 4288133.156, 736233.396 4...</td>\n",
       "    </tr>\n",
       "    <tr>\n",
       "      <th>2</th>\n",
       "      <td>8</td>\n",
       "      <td>45.07</td>\n",
       "      <td>SD5</td>\n",
       "      <td>1.0</td>\n",
       "      <td>None</td>\n",
       "      <td>None</td>\n",
       "      <td>180730</td>\n",
       "      <td>181027.0</td>\n",
       "      <td>-297.0</td>\n",
       "      <td>-0.0016</td>\n",
       "      <td>...</td>\n",
       "      <td>0.9115</td>\n",
       "      <td>57341.6639</td>\n",
       "      <td>0.0885</td>\n",
       "      <td>647598.4425</td>\n",
       "      <td>363370.7868</td>\n",
       "      <td>0.9035</td>\n",
       "      <td>38809.0459</td>\n",
       "      <td>0.0965</td>\n",
       "      <td>402179.8327</td>\n",
       "      <td>POLYGON ((746182.472 4295370.706, 746174.577 4...</td>\n",
       "    </tr>\n",
       "    <tr>\n",
       "      <th>3</th>\n",
       "      <td>10</td>\n",
       "      <td>34.31</td>\n",
       "      <td>SD4</td>\n",
       "      <td>1.0</td>\n",
       "      <td>None</td>\n",
       "      <td>None</td>\n",
       "      <td>184241</td>\n",
       "      <td>181027.0</td>\n",
       "      <td>3214.0</td>\n",
       "      <td>0.0178</td>\n",
       "      <td>...</td>\n",
       "      <td>0.7292</td>\n",
       "      <td>217849.0733</td>\n",
       "      <td>0.2708</td>\n",
       "      <td>804505.1674</td>\n",
       "      <td>395167.0106</td>\n",
       "      <td>0.7315</td>\n",
       "      <td>145053.8345</td>\n",
       "      <td>0.2685</td>\n",
       "      <td>540220.8451</td>\n",
       "      <td>POLYGON ((740384.202 4276517.298, 740467.557 4...</td>\n",
       "    </tr>\n",
       "    <tr>\n",
       "      <th>4</th>\n",
       "      <td>12</td>\n",
       "      <td>59.94</td>\n",
       "      <td>SD1</td>\n",
       "      <td>1.0</td>\n",
       "      <td>None</td>\n",
       "      <td>None</td>\n",
       "      <td>184853</td>\n",
       "      <td>181027.0</td>\n",
       "      <td>3826.0</td>\n",
       "      <td>0.0211</td>\n",
       "      <td>...</td>\n",
       "      <td>0.5449</td>\n",
       "      <td>374550.2798</td>\n",
       "      <td>0.4551</td>\n",
       "      <td>823017.8952</td>\n",
       "      <td>301769.0488</td>\n",
       "      <td>0.5374</td>\n",
       "      <td>259731.8251</td>\n",
       "      <td>0.4626</td>\n",
       "      <td>561500.8739</td>\n",
       "      <td>POLYGON ((728278.587 4263539.062, 728280.525 4...</td>\n",
       "    </tr>\n",
       "  </tbody>\n",
       "</table>\n",
       "<p>5 rows × 25 columns</p>\n",
       "</div>"
      ],
      "text/plain": [
       "   ID   AREA DISTRICT  MEMBERS LOCKED  NAME  POPULATION  IDEAL_VALU  \\\n",
       "0   2  80.03     SD14      1.0   None  None      185861    181027.0   \n",
       "1   4  83.23     SD13      1.0   None  None      185863    181027.0   \n",
       "2   8  45.07      SD5      1.0   None  None      180730    181027.0   \n",
       "3  10  34.31      SD4      1.0   None  None      184241    181027.0   \n",
       "4  12  59.94      SD1      1.0   None  None      184853    181027.0   \n",
       "\n",
       "   DEVIATION  F_DEVIATIO  ...  F_PERFINDE   PERFINDEX1  F_PERFIND1  \\\n",
       "0     4834.0      0.0267  ...      0.7887  160258.5738      0.2113   \n",
       "1     4836.0      0.0267  ...      0.8166  140598.1802      0.1834   \n",
       "2     -297.0     -0.0016  ...      0.9115   57341.6639      0.0885   \n",
       "3     3214.0      0.0178  ...      0.7292  217849.0733      0.2708   \n",
       "4     3826.0      0.0211  ...      0.5449  374550.2798      0.4551   \n",
       "\n",
       "    PERFINDEX2   PERFINDEX3  F_PERFIND2   PERFINDEX4  F_PERFIND3   PERFINDEX5  \\\n",
       "0  758581.3127  376688.6996      0.7817  105199.5418      0.2183  481888.2414   \n",
       "1  766789.8417  393529.0964      0.8131   90441.8049      0.1869  483970.9013   \n",
       "2  647598.4425  363370.7868      0.9035   38809.0459      0.0965  402179.8327   \n",
       "3  804505.1674  395167.0106      0.7315  145053.8345      0.2685  540220.8451   \n",
       "4  823017.8952  301769.0488      0.5374  259731.8251      0.4626  561500.8739   \n",
       "\n",
       "                                            geometry  \n",
       "0  POLYGON ((736396.121 4288963.569, 736373.196 4...  \n",
       "1  POLYGON ((736264.894 4288133.156, 736233.396 4...  \n",
       "2  POLYGON ((746182.472 4295370.706, 746174.577 4...  \n",
       "3  POLYGON ((740384.202 4276517.298, 740467.557 4...  \n",
       "4  POLYGON ((728278.587 4263539.062, 728280.525 4...  \n",
       "\n",
       "[5 rows x 25 columns]"
      ]
     },
     "execution_count": 39,
     "metadata": {},
     "output_type": "execute_result"
    }
   ],
   "source": [
    "send.head()"
   ]
  },
  {
   "cell_type": "code",
   "execution_count": 40,
   "id": "9d988b70-56a2-4b00-9b81-36384c278f37",
   "metadata": {},
   "outputs": [
    {
     "data": {
      "text/html": [
       "<div>\n",
       "<style scoped>\n",
       "    .dataframe tbody tr th:only-of-type {\n",
       "        vertical-align: middle;\n",
       "    }\n",
       "\n",
       "    .dataframe tbody tr th {\n",
       "        vertical-align: top;\n",
       "    }\n",
       "\n",
       "    .dataframe thead th {\n",
       "        text-align: right;\n",
       "    }\n",
       "</style>\n",
       "<table border=\"1\" class=\"dataframe\">\n",
       "  <thead>\n",
       "    <tr style=\"text-align: right;\">\n",
       "      <th></th>\n",
       "      <th>ID</th>\n",
       "      <th>AREA</th>\n",
       "      <th>DISTRICT</th>\n",
       "      <th>MEMBERS</th>\n",
       "      <th>LOCKED</th>\n",
       "      <th>NAME</th>\n",
       "      <th>POPULATION</th>\n",
       "      <th>IDEAL_VALU</th>\n",
       "      <th>DEVIATION</th>\n",
       "      <th>F_DEVIATIO</th>\n",
       "      <th>DISTRICT_L</th>\n",
       "      <th>Dist_Num</th>\n",
       "      <th>Class</th>\n",
       "      <th>geometry</th>\n",
       "    </tr>\n",
       "  </thead>\n",
       "  <tbody>\n",
       "    <tr>\n",
       "      <th>0</th>\n",
       "      <td>1</td>\n",
       "      <td>2387.352050</td>\n",
       "      <td>1</td>\n",
       "      <td>1.0</td>\n",
       "      <td>None</td>\n",
       "      <td>None</td>\n",
       "      <td>36931</td>\n",
       "      <td>37760.0</td>\n",
       "      <td>-829.0</td>\n",
       "      <td>-0.021954</td>\n",
       "      <td>1|-2.2%</td>\n",
       "      <td>1</td>\n",
       "      <td>1</td>\n",
       "      <td>POLYGON ((361855.540 4492456.329, 361830.526 4...</td>\n",
       "    </tr>\n",
       "    <tr>\n",
       "      <th>1</th>\n",
       "      <td>2</td>\n",
       "      <td>23.070000</td>\n",
       "      <td>10</td>\n",
       "      <td>1.0</td>\n",
       "      <td>None</td>\n",
       "      <td>None</td>\n",
       "      <td>37451</td>\n",
       "      <td>37760.0</td>\n",
       "      <td>-309.0</td>\n",
       "      <td>-0.008200</td>\n",
       "      <td>10|-0.82%</td>\n",
       "      <td>10</td>\n",
       "      <td>2</td>\n",
       "      <td>POLYGON ((339394.602 4409561.901, 339518.218 4...</td>\n",
       "    </tr>\n",
       "    <tr>\n",
       "      <th>2</th>\n",
       "      <td>3</td>\n",
       "      <td>11.047083</td>\n",
       "      <td>100</td>\n",
       "      <td>1.0</td>\n",
       "      <td>None</td>\n",
       "      <td>None</td>\n",
       "      <td>37955</td>\n",
       "      <td>37760.0</td>\n",
       "      <td>195.0</td>\n",
       "      <td>0.005164</td>\n",
       "      <td>100|0.52%</td>\n",
       "      <td>100</td>\n",
       "      <td>1</td>\n",
       "      <td>POLYGON ((712638.891 4274406.918, 712624.069 4...</td>\n",
       "    </tr>\n",
       "    <tr>\n",
       "      <th>3</th>\n",
       "      <td>4</td>\n",
       "      <td>26.420000</td>\n",
       "      <td>101</td>\n",
       "      <td>1.0</td>\n",
       "      <td>None</td>\n",
       "      <td>None</td>\n",
       "      <td>37597</td>\n",
       "      <td>37760.0</td>\n",
       "      <td>-163.0</td>\n",
       "      <td>-0.004300</td>\n",
       "      <td>101|-0.43%</td>\n",
       "      <td>101</td>\n",
       "      <td>2</td>\n",
       "      <td>POLYGON ((701966.660 4282321.634, 701979.733 4...</td>\n",
       "    </tr>\n",
       "    <tr>\n",
       "      <th>4</th>\n",
       "      <td>5</td>\n",
       "      <td>201.246994</td>\n",
       "      <td>102</td>\n",
       "      <td>1.0</td>\n",
       "      <td>None</td>\n",
       "      <td>None</td>\n",
       "      <td>36867</td>\n",
       "      <td>37760.0</td>\n",
       "      <td>-893.0</td>\n",
       "      <td>-0.023649</td>\n",
       "      <td>102|-2.36%</td>\n",
       "      <td>102</td>\n",
       "      <td>1</td>\n",
       "      <td>POLYGON ((705493.564 4292427.049, 705595.415 4...</td>\n",
       "    </tr>\n",
       "  </tbody>\n",
       "</table>\n",
       "</div>"
      ],
      "text/plain": [
       "   ID         AREA DISTRICT  MEMBERS LOCKED  NAME  POPULATION  IDEAL_VALU  \\\n",
       "0   1  2387.352050        1      1.0   None  None       36931     37760.0   \n",
       "1   2    23.070000       10      1.0   None  None       37451     37760.0   \n",
       "2   3    11.047083      100      1.0   None  None       37955     37760.0   \n",
       "3   4    26.420000      101      1.0   None  None       37597     37760.0   \n",
       "4   5   201.246994      102      1.0   None  None       36867     37760.0   \n",
       "\n",
       "   DEVIATION  F_DEVIATIO  DISTRICT_L  Dist_Num  Class  \\\n",
       "0     -829.0   -0.021954     1|-2.2%         1      1   \n",
       "1     -309.0   -0.008200   10|-0.82%        10      2   \n",
       "2      195.0    0.005164   100|0.52%       100      1   \n",
       "3     -163.0   -0.004300  101|-0.43%       101      2   \n",
       "4     -893.0   -0.023649  102|-2.36%       102      1   \n",
       "\n",
       "                                            geometry  \n",
       "0  POLYGON ((361855.540 4492456.329, 361830.526 4...  \n",
       "1  POLYGON ((339394.602 4409561.901, 339518.218 4...  \n",
       "2  POLYGON ((712638.891 4274406.918, 712624.069 4...  \n",
       "3  POLYGON ((701966.660 4282321.634, 701979.733 4...  \n",
       "4  POLYGON ((705493.564 4292427.049, 705595.415 4...  "
      ]
     },
     "execution_count": 40,
     "metadata": {},
     "output_type": "execute_result"
    }
   ],
   "source": [
    "hdist.head()"
   ]
  },
  {
   "cell_type": "code",
   "execution_count": 41,
   "id": "2b8fbf45-f392-4996-9dc6-e9ee67d0e715",
   "metadata": {
    "tags": []
   },
   "outputs": [
    {
     "name": "stderr",
     "output_type": "stream",
     "text": [
      "100%|███████████████████████████████████████████████████████████████████████| 8/8 [00:00<00:00, 108.45it/s]\n",
      "100%|████████████████████████████████████████████████████████████████████████| 8/8 [00:00<00:00, 86.09it/s]\n",
      "100%|████████████████████████████████████████████████████████████████████████| 8/8 [00:00<00:00, 10.20it/s]\n"
     ]
    }
   ],
   "source": [
    "election_df = add_district(cong_df, \"CD\", election_df, \"DISTRICT\")"
   ]
  },
  {
   "cell_type": "code",
   "execution_count": 42,
   "id": "a9fe98af-f37e-4200-835e-f96695f68e41",
   "metadata": {
    "tags": []
   },
   "outputs": [
    {
     "name": "stderr",
     "output_type": "stream",
     "text": [
      "100%|█████████████████████████████████████████████████████████████████████| 34/34 [00:00<00:00, 168.51it/s]\n",
      "100%|█████████████████████████████████████████████████████████████████████| 34/34 [00:00<00:00, 305.05it/s]\n",
      "100%|██████████████████████████████████████████████████████████████████████| 34/34 [00:01<00:00, 32.60it/s]\n"
     ]
    }
   ],
   "source": [
    "election_df = add_district(send, \"SEND\", election_df, \"DISTRICT\")"
   ]
  },
  {
   "cell_type": "code",
   "execution_count": 43,
   "id": "da4c6235-1028-43d0-adde-affe669c3f20",
   "metadata": {
    "tags": []
   },
   "outputs": [
    {
     "name": "stderr",
     "output_type": "stream",
     "text": [
      "100%|███████████████████████████████████████████████████████████████████| 163/163 [00:00<00:00, 321.69it/s]\n",
      "100%|██████████████████████████████████████████████████████████████████| 163/163 [00:00<00:00, 1025.58it/s]\n",
      "100%|████████████████████████████████████████████████████████████████████| 163/163 [00:03<00:00, 52.84it/s]\n"
     ]
    }
   ],
   "source": [
    "election_df = add_district(hdist, \"HDIST\", election_df, \"DISTRICT\")"
   ]
  },
  {
   "cell_type": "code",
   "execution_count": 44,
   "id": "aaee6a30-6a18-473e-bd02-7881c1e94e68",
   "metadata": {},
   "outputs": [
    {
     "data": {
      "text/plain": [
       "['2MOREVAP',\n",
       " 'AMINVAP',\n",
       " 'ASIANVAP',\n",
       " 'ATG16D',\n",
       " 'ATG16R',\n",
       " 'ATG20D',\n",
       " 'ATG20O',\n",
       " 'ATG20R',\n",
       " 'AUD18D',\n",
       " 'AUD18O',\n",
       " 'AUD18R',\n",
       " 'BVAP',\n",
       " 'COUNTYFP',\n",
       " 'GOV16D',\n",
       " 'GOV16O',\n",
       " 'GOV16R',\n",
       " 'GOV20D',\n",
       " 'GOV20O',\n",
       " 'GOV20R',\n",
       " 'HISP',\n",
       " 'HVAP',\n",
       " 'H_2MORE',\n",
       " 'H_AMIN',\n",
       " 'H_ASIAN',\n",
       " 'H_BLACK',\n",
       " 'H_NHPI',\n",
       " 'H_OTHER',\n",
       " 'H_WHITE',\n",
       " 'LTG16D',\n",
       " 'LTG16O',\n",
       " 'LTG16R',\n",
       " 'LTG20D',\n",
       " 'LTG20O',\n",
       " 'LTG20R',\n",
       " 'NAME',\n",
       " 'NHPIVAP',\n",
       " 'NH_2MORE',\n",
       " 'NH_AMIN',\n",
       " 'NH_ASIAN',\n",
       " 'NH_BLACK',\n",
       " 'NH_NHPI',\n",
       " 'NH_OTHER',\n",
       " 'NH_WHITE',\n",
       " 'OTHERVAP',\n",
       " 'PRE16D',\n",
       " 'PRE16O',\n",
       " 'PRE16R',\n",
       " 'PRE20D',\n",
       " 'PRE20O',\n",
       " 'PRE20R',\n",
       " 'SOS16D',\n",
       " 'SOS16O',\n",
       " 'SOS16R',\n",
       " 'SOS20D',\n",
       " 'SOS20O',\n",
       " 'SOS20R',\n",
       " 'STATEFP',\n",
       " 'TOTPOP',\n",
       " 'TRE16D',\n",
       " 'TRE16O',\n",
       " 'TRE16R',\n",
       " 'TRE20D',\n",
       " 'TRE20O',\n",
       " 'TRE20R',\n",
       " 'USS16D',\n",
       " 'USS16O',\n",
       " 'USS16R',\n",
       " 'USS18D',\n",
       " 'USS18O',\n",
       " 'USS18R',\n",
       " 'VAP',\n",
       " 'WVAP',\n",
       " 'geometry',\n",
       " 'CD',\n",
       " 'SEND',\n",
       " 'HDIST']"
      ]
     },
     "execution_count": 44,
     "metadata": {},
     "output_type": "execute_result"
    }
   ],
   "source": [
    "list(election_df.columns)"
   ]
  },
  {
   "cell_type": "markdown",
   "id": "0bba365b-7d46-45ea-9b8b-400fc162a82f",
   "metadata": {},
   "source": [
    "### Put the base precinct year after the precinct information column"
   ]
  },
  {
   "cell_type": "code",
   "execution_count": 45,
   "id": "7086205b-49f4-44a7-be19-9eeac924e07b",
   "metadata": {},
   "outputs": [],
   "source": [
    "base_columns = {}\n",
    "if 'COUNTYFP' + year not in election_df.columns:\n",
    "    base_columns = {\n",
    "        'STATEFP':'STATEFP'+year,\n",
    "        'COUNTYFP':'COUNTYFP'+year,\n",
    "        'PRECINCT':'PRECINCT'+year,\n",
    "        'GEOID':'GEOID'+year,\n",
    "        'NAME':'NAME'+year}\n",
    "election_df.rename(columns=base_columns, inplace = True)"
   ]
  },
  {
   "cell_type": "code",
   "execution_count": 46,
   "id": "3ea62760-cc32-4fcc-8475-c3ba956cb901",
   "metadata": {},
   "outputs": [],
   "source": [
    "# reorder the columns\n",
    "fixed_columns = [\n",
    "    'STATEFP'+year,\n",
    "    'COUNTYFP'+year,\n",
    "    # 'PRECINCT'+year,\n",
    "    # 'GEOID'+year,\n",
    "    'NAME'+year,\n",
    "    'CD',\n",
    "    'SEND',\n",
    "    'HDIST',\n",
    "    'TOTPOP',\n",
    "    'NH_2MORE',\n",
    "    'NH_AMIN',\n",
    "    'NH_ASIAN',\n",
    "    'NH_BLACK',\n",
    "    'NH_NHPI',\n",
    "    'NH_OTHER',\n",
    "    'NH_WHITE',\n",
    "    'HISP',\n",
    "    'H_AMIN',\n",
    "    'H_ASIAN',\n",
    "    'H_BLACK',\n",
    "    'H_NHPI',\n",
    "    'H_OTHER',\n",
    "    'H_WHITE',\n",
    "    'H_2MORE',\n",
    "    'VAP',\n",
    "    'HVAP',\n",
    "    'WVAP',\n",
    "    'BVAP',\n",
    "    'AMINVAP',\n",
    "    'ASIANVAP',\n",
    "    'NHPIVAP',\n",
    "    'OTHERVAP',\n",
    "    '2MOREVAP']\n",
    "\n",
    "election_columns = [col for col in election_df.columns if col not in fixed_columns]\n",
    "final_col = fixed_columns + election_columns\n",
    "election_df = election_df[final_col]"
   ]
  },
  {
   "cell_type": "code",
   "execution_count": 47,
   "id": "fd2b8af8-fac1-44f2-84eb-b2870384daaf",
   "metadata": {},
   "outputs": [
    {
     "data": {
      "text/plain": [
       "['STATEFP20',\n",
       " 'COUNTYFP20',\n",
       " 'NAME20',\n",
       " 'CD',\n",
       " 'SEND',\n",
       " 'HDIST',\n",
       " 'TOTPOP',\n",
       " 'NH_2MORE',\n",
       " 'NH_AMIN',\n",
       " 'NH_ASIAN',\n",
       " 'NH_BLACK',\n",
       " 'NH_NHPI',\n",
       " 'NH_OTHER',\n",
       " 'NH_WHITE',\n",
       " 'HISP',\n",
       " 'H_AMIN',\n",
       " 'H_ASIAN',\n",
       " 'H_BLACK',\n",
       " 'H_NHPI',\n",
       " 'H_OTHER',\n",
       " 'H_WHITE',\n",
       " 'H_2MORE',\n",
       " 'VAP',\n",
       " 'HVAP',\n",
       " 'WVAP',\n",
       " 'BVAP',\n",
       " 'AMINVAP',\n",
       " 'ASIANVAP',\n",
       " 'NHPIVAP',\n",
       " 'OTHERVAP',\n",
       " '2MOREVAP',\n",
       " 'ATG16D',\n",
       " 'ATG16R',\n",
       " 'ATG20D',\n",
       " 'ATG20O',\n",
       " 'ATG20R',\n",
       " 'AUD18D',\n",
       " 'AUD18O',\n",
       " 'AUD18R',\n",
       " 'GOV16D',\n",
       " 'GOV16O',\n",
       " 'GOV16R',\n",
       " 'GOV20D',\n",
       " 'GOV20O',\n",
       " 'GOV20R',\n",
       " 'LTG16D',\n",
       " 'LTG16O',\n",
       " 'LTG16R',\n",
       " 'LTG20D',\n",
       " 'LTG20O',\n",
       " 'LTG20R',\n",
       " 'PRE16D',\n",
       " 'PRE16O',\n",
       " 'PRE16R',\n",
       " 'PRE20D',\n",
       " 'PRE20O',\n",
       " 'PRE20R',\n",
       " 'SOS16D',\n",
       " 'SOS16O',\n",
       " 'SOS16R',\n",
       " 'SOS20D',\n",
       " 'SOS20O',\n",
       " 'SOS20R',\n",
       " 'TRE16D',\n",
       " 'TRE16O',\n",
       " 'TRE16R',\n",
       " 'TRE20D',\n",
       " 'TRE20O',\n",
       " 'TRE20R',\n",
       " 'USS16D',\n",
       " 'USS16O',\n",
       " 'USS16R',\n",
       " 'USS18D',\n",
       " 'USS18O',\n",
       " 'USS18R',\n",
       " 'geometry']"
      ]
     },
     "execution_count": 47,
     "metadata": {},
     "output_type": "execute_result"
    }
   ],
   "source": [
    "list(election_df.columns)"
   ]
  },
  {
   "cell_type": "code",
   "execution_count": 48,
   "id": "1b198042-dbd4-408e-bfd4-4494f2b49245",
   "metadata": {
    "tags": []
   },
   "outputs": [],
   "source": [
    "# store the result in directory \"mo\"\n",
    "os.makedirs(\"./{}\".format(state_ab), exist_ok=True)\n",
    "election_df.to_file(\"./{}/{}.shp\".format(state_ab, state_ab))\n",
    "election_df.to_file('./{}/{}.geojson'.format(state_ab, state_ab), driver='GeoJSON')\n",
    "\n",
    "# Only do once to build json and read from file when generating ensembles\n",
    "graph = Graph.from_file(\"./{}/{}.shp\".format(state_ab, state_ab), ignore_errors=True)\n",
    "graph.to_json(\"./{}/{}.json\".format(state_ab, state_ab))"
   ]
  },
  {
   "cell_type": "code",
   "execution_count": 49,
   "id": "a8ba4789-8282-428a-90d4-e59ee50f4064",
   "metadata": {},
   "outputs": [
    {
     "data": {
      "text/plain": [
       "<Axes: >"
      ]
     },
     "execution_count": 49,
     "metadata": {},
     "output_type": "execute_result"
    },
    {
     "data": {
      "image/png": "[encoded data removed]",
      "text/plain": [
       "<Figure size 640x480 with 1 Axes>"
      ]
     },
     "metadata": {},
     "output_type": "display_data"
    }
   ],
   "source": [
    "shapefile_path = \"./{}/{}.shp\".format(state_ab, state_ab)\n",
    "shape=gpd.read_file(shapefile_path)\n",
    "shape.plot()"
   ]
  }
 ],
 "metadata": {
  "kernelspec": {
   "display_name": "gerry",
   "language": "python",
   "name": "gerry"
  },
  "language_info": {
   "codemirror_mode": {
    "name": "ipython",
    "version": 3
   },
   "file_extension": ".py",
   "mimetype": "text/x-python",
   "name": "python",
   "nbconvert_exporter": "python",
   "pygments_lexer": "ipython3",
   "version": "3.11.4"
  }
 },
 "nbformat": 4,
 "nbformat_minor": 5
}

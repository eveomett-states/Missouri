{
 "cells": [
  {
   "cell_type": "markdown",
   "id": "48a72edc-10d5-447e-bf59-a42b79b13098",
   "metadata": {},
   "source": [
    "# All the parameters that need to be changed"
   ]
  },
  {
   "cell_type": "code",
   "execution_count": 1,
   "id": "55545525-1a53-4366-88fa-4b4ecc94ecad",
   "metadata": {},
   "outputs": [],
   "source": [
    "# Missouri\n",
    "state_ab = \"mo\""
   ]
  },
  {
   "cell_type": "markdown",
   "id": "c3e1bdeb-55c5-4c10-83b5-de352e6d559d",
   "metadata": {
    "tags": []
   },
   "source": [
    "## Data\n",
    "1. Download all the data in directory \"il_data\"\n",
    "2. Eextract them all"
   ]
  },
  {
   "cell_type": "code",
   "execution_count": 2,
   "id": "1cbb32f0-472b-4441-abf2-6af58699cb5f",
   "metadata": {},
   "outputs": [],
   "source": [
    "data_folder = state_ab + \"_data/\"\n",
    "population1_data = \"./{}{}_pl2020_b/{}_pl2020_p1_b.shp\".format(data_folder, state_ab, state_ab)\n",
    "population2_data = \"./{}{}_pl2020_b/{}_pl2020_p2_b.shp\".format(data_folder, state_ab, state_ab)\n",
    "vap_data =  \"./{}{}_pl2020_b/{}_pl2020_p4_b.shp\".format(data_folder, state_ab, state_ab)\n",
    "vest20_data = \"./{}{}_vest_20/{}_vest_20.shp\".format(data_folder, state_ab, state_ab)\n",
    "vest18_data = \"./{}{}_vest_18/{}_vest_18.shp\".format(data_folder, state_ab, state_ab)\n",
    "vest16_data = \"./{}{}_vest_16/{}_vest_16.shp\".format(data_folder, state_ab, state_ab)\n",
    "cd_data = \"./{}{}_cong_adopted_2022/5799H_02T.shp\".format(data_folder, state_ab)\n",
    "send_data = \"./{}{}_sldu_adopted_2022/2022_JRC_Senate_Redistricting_Plan.shp\".format(data_folder, state_ab)\n",
    "hdist_data = \"./{}{}_sldl_adopted_2022/HIBCC Final Apportionment Plan 2.shp\".format(data_folder, state_ab)\n",
    "county_data = \"./{}{}_cvap_2022_cnty/{}_cvap_2022_cnty.shp\".format(data_folder, state_ab, state_ab)"
   ]
  },
  {
   "cell_type": "markdown",
   "id": "2594a66a-efb1-443f-8b0a-b2c73257f1cc",
   "metadata": {},
   "source": [
    "## Parameters that needs to be manually checked\n",
    "\n",
    "### base vest data\n",
    "start_col = 5\\\n",
    "vest_base_data = vest20\\\n",
    "year = '20'\n",
    "\n",
    "### district data\n",
    "district column name of cong_df, send, hdist when calling add_dist()"
   ]
  },
  {
   "cell_type": "markdown",
   "id": "d9cfe42b-cfd8-4ad4-b255-31268cb35669",
   "metadata": {},
   "source": [
    "# Program starts"
   ]
  },
  {
   "cell_type": "code",
   "execution_count": 3,
   "id": "49a264d4-c255-4393-b5ae-74b6f7c645da",
   "metadata": {},
   "outputs": [],
   "source": [
    "import pandas as pd\n",
    "import geopandas as gpd\n",
    "import maup\n",
    "import time\n",
    "from maup import smart_repair\n",
    "from gerrychain import Graph\n",
    "import os\n",
    "\n",
    "maup.progress.enabled = True"
   ]
  },
  {
   "cell_type": "code",
   "execution_count": 4,
   "id": "f78d28b6-abb4-4444-aa7e-f0eb73dab3f2",
   "metadata": {},
   "outputs": [],
   "source": [
    "import warnings\n",
    "warnings.filterwarnings(\"ignore\")"
   ]
  },
  {
   "cell_type": "code",
   "execution_count": 5,
   "id": "378425b3-9819-41bd-8212-2e031b571cf2",
   "metadata": {},
   "outputs": [],
   "source": [
    "def do_smart_repair(df, min_rook_length = None, snap_precision = 10):\n",
    "    # change it to the UTM it needs for smart_repair\n",
    "    df = df.to_crs(df.estimate_utm_crs())\n",
    "    df = smart_repair(df, min_rook_length = min_rook_length)\n",
    "\n",
    "    if maup.doctor(df) == False:\n",
    "        raise Exception('maup.doctor failed')\n",
    "    \n",
    "    return df"
   ]
  },
  {
   "cell_type": "code",
   "execution_count": 6,
   "id": "df3945da-c3af-41a8-9511-a5aba33fef0b",
   "metadata": {},
   "outputs": [],
   "source": [
    "def add_district(dist_df, dist_name, election_df, col_name):\n",
    "    election_df = election_df.to_crs(election_df.estimate_utm_crs())\n",
    "    dist_df = dist_df.to_crs(dist_df.estimate_utm_crs())\n",
    "    # check if it needs to be smart_repair\n",
    "    if maup.doctor(dist_df) != True:\n",
    "        dist_df = do_smart_repair(dist_df)\n",
    "\n",
    "    # assign the pricincts\n",
    "    precincts_to_district_assignment = maup.assign(election_df.geometry, dist_df.geometry)\n",
    "    election_df[dist_name] = precincts_to_district_assignment\n",
    "    for precinct_index in range(len(election_df)):\n",
    "        election_df.at[precinct_index, dist_name] = dist_df.at[election_df.at[precinct_index, dist_name], col_name]\n",
    "\n",
    "    return election_df"
   ]
  },
  {
   "cell_type": "code",
   "execution_count": 7,
   "id": "29c38a31-6707-4ab3-a9e4-38d69ce6838c",
   "metadata": {},
   "outputs": [],
   "source": [
    "def rename(original, year):\n",
    "    party = original[6]\n",
    "    if party == 'R' or party == 'D':\n",
    "        return original[3:6] + year + original[6]\n",
    "    else:\n",
    "        return original[3:6] + year + 'O'"
   ]
  },
  {
   "cell_type": "code",
   "execution_count": 8,
   "id": "9cbd02f8-308e-4fe9-804a-6bc8474b749b",
   "metadata": {},
   "outputs": [],
   "source": [
    "def check_population(population, df):\n",
    "    pop_check = pd.DataFrame({\n",
    "        'pop_col': pop_col,\n",
    "        'population_df': population[pop_col].sum(), \n",
    "        'vest_base': df[pop_col].sum(),\n",
    "        'equal': [x == y for x, y in zip(population[pop_col].sum(), df[pop_col].sum())]\n",
    "    })\n",
    "    if pop_check['equal'].mean() < 1:\n",
    "        print(pop_check)\n",
    "        raise Exception(\"population doesn't agree\")\n",
    "\n",
    "    else:\n",
    "        print(\"population agrees\")"
   ]
  },
  {
   "cell_type": "code",
   "execution_count": 9,
   "id": "c4508baf-84cd-4a31-97ad-059164232e8e",
   "metadata": {},
   "outputs": [],
   "source": [
    "def add_vest(vest, df, year, population, start_col, snap_precision = 10):\n",
    "    df = df.to_crs(df.estimate_utm_crs())\n",
    "    vest = vest.to_crs(vest.estimate_utm_crs())\n",
    "    population = population.to_crs(population.estimate_utm_crs())\n",
    "    df_crs = df.crs\n",
    "    vest_crs = vest.crs\n",
    "    \n",
    "     # check if it needs to be smart_repair\n",
    "    if maup.doctor(vest) != True:\n",
    "        vest = do_smart_repair(vest, snap_precision = snap_precision)\n",
    "    \n",
    "    # rename the columns\n",
    "    original_col = vest.columns[start_col:-1]\n",
    "    new_col = [rename(i, year) for i in original_col]\n",
    "    rename_dict = dict(zip(original_col, new_col))\n",
    "    vest = vest.rename(columns=rename_dict)\n",
    "    vest = vest.groupby(level=0, axis=1).sum() # combine all the other party's vote into columns with sufix \"O\"\n",
    "    col_name = list(set(new_col))\n",
    "    col_name.sort()\n",
    "    \n",
    "    # make the blocks from precincts by weight\n",
    "    vest = gpd.GeoDataFrame(vest, crs=vest_crs)\n",
    "    election_in_block = population[[\"VAP\", 'geometry']] # population_df is in block scale\n",
    "    blocks_to_precincts_assignment = maup.assign(election_in_block.geometry, vest.geometry)\n",
    "    weights = election_in_block[\"VAP\"] / blocks_to_precincts_assignment.map(election_in_block[\"VAP\"].groupby(blocks_to_precincts_assignment).sum())\n",
    "    weights = weights.fillna(0)\n",
    "    prorated = maup.prorate(blocks_to_precincts_assignment, vest[col_name], weights)\n",
    "    election_in_block[col_name] = prorated\n",
    "    \n",
    "    # assign blocks to precincts\n",
    "    election_in_block = gpd.GeoDataFrame(election_in_block, crs=vest_crs)\n",
    "    df = gpd.GeoDataFrame(df, crs=df_crs)\n",
    "    block_to_pricinct_assginment = maup.assign(election_in_block.geometry, df.geometry)\n",
    "    df[col_name] = election_in_block[col_name].groupby(block_to_pricinct_assginment).sum()\n",
    "    df = df.groupby(level=0, axis=1).sum()\n",
    "    df = gpd.GeoDataFrame(df, crs = df_crs)\n",
    "    # check if population agrees\n",
    "    check_population(population, df)\n",
    "    \n",
    "    return df"
   ]
  },
  {
   "cell_type": "code",
   "execution_count": 10,
   "id": "0b9a9b59",
   "metadata": {},
   "outputs": [],
   "source": [
    "def add_vest_base(vest, start_col, year, county = None, min_rook_length = None, snap_precision = 10):\n",
    "    vest = vest.to_crs(vest.estimate_utm_crs())\n",
    "    vest_crs = vest.crs\n",
    "    original_col = vest.columns[start_col:-1]\n",
    "    new_col = [rename(i, year) for i in original_col]\n",
    "    rename_dict = dict(zip(original_col, new_col))\n",
    "    vest = vest.rename(columns=rename_dict)\n",
    "    vest = vest.groupby(level=0, axis=1).sum()\n",
    "    vest = gpd.GeoDataFrame(vest, crs=vest_crs)\n",
    "\n",
    "    if county is not None:\n",
    "        county = county.to_crs(county.estimate_utm_crs())\n",
    "        vest = smart_repair(vest, nest_within_regions = county, min_rook_length = min_rook_length, snap_precision = snap_precision) # nest precincts within counties\n",
    "\n",
    "    else:\n",
    "        vest = smart_repair(vest, min_rook_length = min_rook_length, snap_precision = snap_precision) \n",
    "    \n",
    "    return vest"
   ]
  },
  {
   "cell_type": "code",
   "execution_count": 11,
   "id": "1becef79",
   "metadata": {},
   "outputs": [],
   "source": [
    "def check_small_boundary_lengths(vest_base):\n",
    "    import copy\n",
    "    vest_base = vest_base.to_crs(vest_base.estimate_utm_crs())\n",
    "\n",
    "    boundaries = copy.deepcopy(vest_base)\n",
    "    boundaries[\"geometry\"] = boundaries.geometry.boundary  # get boundaries\n",
    "    neighbors = gpd.sjoin(boundaries, vest_base, predicate=\"intersects\") # find boundaries that intersect\n",
    "    neighbors = neighbors[neighbors.index != neighbors.index_right] # remove boundaries of a region with itself\n",
    "\n",
    "    # compute shared border length using intersection\n",
    "    borders = list(neighbors.apply(\n",
    "        lambda row: row.geometry.intersection(vest_base.loc[row.index_right, \"geometry\"]).length, axis=1\n",
    "    ))\n",
    "\n",
    "    borders.sort()\n",
    "    \n",
    "    return borders"
   ]
  },
  {
   "cell_type": "markdown",
   "id": "ab6ce8f5-f237-4d6c-8425-cd8a0b080f65",
   "metadata": {},
   "source": [
    "## Read the census data"
   ]
  },
  {
   "cell_type": "code",
   "execution_count": 12,
   "id": "185d2b84-d37f-4f24-86c1-1bcd0b4347e2",
   "metadata": {},
   "outputs": [],
   "source": [
    "population1_df = gpd.read_file(population1_data)\n",
    "population2_df = gpd.read_file(population2_data)\n",
    "vap_df = gpd.read_file(vap_data)\n",
    "county_df = gpd.read_file(county_data)"
   ]
  },
  {
   "cell_type": "code",
   "execution_count": 13,
   "id": "57b3b9bb-9721-469d-8eee-0dd5eb0e6015",
   "metadata": {},
   "outputs": [],
   "source": [
    "population2_df = population2_df.drop(columns=['SUMLEV', 'LOGRECNO', 'GEOID', 'COUNTY', 'geometry'])\n",
    "vap_df = vap_df.drop(columns=['SUMLEV', 'LOGRECNO', 'GEOID', 'COUNTY', 'geometry'])"
   ]
  },
  {
   "cell_type": "code",
   "execution_count": 14,
   "id": "daa935f7-bc02-4856-adb0-9cc9cf31ffca",
   "metadata": {},
   "outputs": [],
   "source": [
    "population_df = pd.merge(population1_df, population2_df, on='GEOID20')\n",
    "population_df = pd.merge(population_df, vap_df, on='GEOID20')\n",
    "population_df = population_df.to_crs(population_df.estimate_utm_crs())"
   ]
  },
  {
   "cell_type": "code",
   "execution_count": 15,
   "id": "0845f50e-9920-404a-8284-c47df7b0f6ce",
   "metadata": {},
   "outputs": [],
   "source": [
    "rename_dict = {'P0020001': 'TOTPOP', 'P0020002': 'HISP', 'P0020005': 'NH_WHITE', 'P0020006': 'NH_BLACK', 'P0020007': 'NH_AMIN',\n",
    "               'P0020008': 'NH_ASIAN', 'P0020009': 'NH_NHPI', 'P0020010': 'NH_OTHER', 'P0020011': 'NH_2MORE',\n",
    "               'P0040001': 'VAP', 'P0040002': 'HVAP', 'P0040005': 'WVAP', 'P0040006': 'BVAP', 'P0040007': 'AMINVAP',\n",
    "               'P0040008': 'ASIANVAP', 'P0040009': 'NHPIVAP', 'P0040010': 'OTHERVAP', 'P0040011': '2MOREVAP'}"
   ]
  },
  {
   "cell_type": "code",
   "execution_count": 16,
   "id": "4d4f9723-ad23-46ff-bbd0-8d4ab628b69b",
   "metadata": {},
   "outputs": [],
   "source": [
    "population_df.rename(columns=rename_dict, inplace = True)"
   ]
  },
  {
   "cell_type": "code",
   "execution_count": 17,
   "id": "9550a841-5692-4d5f-a7f1-131d53eb9f12",
   "metadata": {},
   "outputs": [],
   "source": [
    "population_df['H_WHITE'] = population_df.apply(lambda t: t['P0010003'] - t['NH_WHITE'], 1)\n",
    "population_df['H_BLACK'] = population_df.apply(lambda t: t['P0010004'] - t['NH_BLACK'], 1)\n",
    "population_df['H_AMIN'] = population_df.apply(lambda t: t['P0010005'] - t['NH_AMIN'], 1)\n",
    "population_df['H_ASIAN'] = population_df.apply(lambda t: t['P0010006'] - t['NH_ASIAN'], 1)\n",
    "population_df['H_NHPI'] = population_df.apply(lambda t: t['P0010007'] - t['NH_NHPI'], 1)\n",
    "population_df['H_OTHER'] = population_df.apply(lambda t: t['P0010008'] - t['NH_OTHER'], 1)\n",
    "population_df['H_2MORE'] = population_df.apply(lambda t: t['P0010009'] - t['NH_2MORE'], 1)"
   ]
  },
  {
   "cell_type": "markdown",
   "id": "a6b7824e",
   "metadata": {},
   "source": [
    "Make sure that the County shapefile is clean:"
   ]
  },
  {
   "cell_type": "code",
   "execution_count": 18,
   "id": "f67bac62",
   "metadata": {},
   "outputs": [
    {
     "name": "stderr",
     "output_type": "stream",
     "text": [
      "100%|██████████████████████████████████████████████████████████████████| 115/115 [00:00<00:00, 1798.79it/s]\n"
     ]
    },
    {
     "data": {
      "text/plain": [
       "True"
      ]
     },
     "execution_count": 18,
     "metadata": {},
     "output_type": "execute_result"
    }
   ],
   "source": [
    "maup.doctor(county_df)"
   ]
  },
  {
   "cell_type": "markdown",
   "id": "e1e89689-06e1-4937-9bee-b0442bfc33d5",
   "metadata": {},
   "source": [
    "# Read the base vest data\n",
    "Now using it as a \"base precinct\", but it could be vest 18 or vest 16 if vest 20 is not working"
   ]
  },
  {
   "cell_type": "markdown",
   "id": "bcfb3af1-db89-4463-98d8-3a0192067bb4",
   "metadata": {},
   "source": [
    "### Check if vest 20 can be used as base"
   ]
  },
  {
   "cell_type": "code",
   "execution_count": 19,
   "id": "397e9936-bfde-4b09-9dcb-207733dfb2dd",
   "metadata": {},
   "outputs": [],
   "source": [
    "vest20 = gpd.read_file(vest20_data)"
   ]
  },
  {
   "cell_type": "code",
   "execution_count": 20,
   "id": "2d744be1-7568-4b94-a383-17d219ac128b",
   "metadata": {},
   "outputs": [
    {
     "data": {
      "text/plain": [
       "Index(['STATEFP', 'COUNTYFP', 'NAME', 'G20PRERTRU', 'G20PREDBID', 'G20PRELJOR',\n",
       "       'G20PREGHAW', 'G20PRECBLA', 'G20GOVRPAR', 'G20GOVDGAL', 'G20GOVLCOM',\n",
       "       'G20GOVGBAU', 'G20LTGRKEH', 'G20LTGDCAN', 'G20LTGLSLA', 'G20LTGGDRA',\n",
       "       'G20ATGRSCH', 'G20ATGDFIN', 'G20ATGLBAB', 'G20SOSRASH', 'G20SOSDFAL',\n",
       "       'G20SOSLFRE', 'G20SOSGLEH', 'G20SOSCVEN', 'G20TRERFIT', 'G20TREDENG',\n",
       "       'G20TRELKAS', 'G20TREGCIV', 'geometry'],\n",
       "      dtype='object')"
      ]
     },
     "execution_count": 20,
     "metadata": {},
     "output_type": "execute_result"
    }
   ],
   "source": [
    "vest20.columns"
   ]
  },
  {
   "cell_type": "markdown",
   "id": "65620cab-599f-4232-818e-e85846d02694",
   "metadata": {},
   "source": [
    "## Parameters that need to be checked"
   ]
  },
  {
   "cell_type": "code",
   "execution_count": 21,
   "id": "4200a0f8-29dd-42f9-96e4-ff27188ce32a",
   "metadata": {},
   "outputs": [],
   "source": [
    "start_col = 3\n",
    "vest_base_data = vest20\n",
    "year = '20'"
   ]
  },
  {
   "cell_type": "code",
   "execution_count": 22,
   "id": "728420ec-9df2-4771-ae4c-1832fe3fb12f",
   "metadata": {},
   "outputs": [
    {
     "name": "stderr",
     "output_type": "stream",
     "text": [
      "100%|██████████████████████████████████████████████████████████████████| 115/115 [00:00<00:00, 2063.22it/s]\n"
     ]
    },
    {
     "name": "stdout",
     "output_type": "stream",
     "text": [
      "Snapping all geometries to a grid with precision 10^( -5 ) to avoid GEOS errors.\n"
     ]
    },
    {
     "name": "stderr",
     "output_type": "stream",
     "text": [
      "100%|██████████████████████████████████████████████████████████████████| 115/115 [00:00<00:00, 1120.04it/s]\n",
      "100%|███████████████████████████████████████████████████████████████████| 115/115 [00:00<00:00, 203.19it/s]\n"
     ]
    },
    {
     "name": "stdout",
     "output_type": "stream",
     "text": [
      "Identifying overlaps...\n"
     ]
    },
    {
     "name": "stderr",
     "output_type": "stream",
     "text": [
      "100%|██████████████████████████████████████████████████████████████| 21731/21731 [00:06<00:00, 3316.74it/s]\n"
     ]
    },
    {
     "name": "stdout",
     "output_type": "stream",
     "text": [
      "Resolving overlaps and filling gaps...\n"
     ]
    },
    {
     "name": "stderr",
     "output_type": "stream",
     "text": [
      "100%|██████████████████████████████████████████████████████████████████| 115/115 [00:00<00:00, 1232.50it/s]\n",
      "100%|███████████████████████████████████████████████████████████████████| 115/115 [00:00<00:00, 196.33it/s]\n",
      "Gaps to simplify in region 0: 100%|██████████████████████████████████████| 221/221 [00:09<00:00, 23.36it/s]\n",
      "Gaps to fill in region 0: 100%|██████████████████████████████████████████████| 6/6 [00:01<00:00,  3.70it/s]\n",
      "Gaps to simplify in region 1: 100%|█████████████████████████████████████| 323/323 [00:02<00:00, 144.27it/s]\n",
      "Gaps to fill in region 1: 100%|██████████████████████████████████████████████| 4/4 [00:00<00:00, 83.61it/s]\n",
      "Gaps to simplify in region 2: 100%|████████████████████████████████████████| 82/82 [00:00<00:00, 96.45it/s]\n",
      "Gaps to fill in region 2: 100%|██████████████████████████████████████████████| 1/1 [00:00<00:00, 36.17it/s]\n",
      "Gaps to simplify in region 3: 100%|██████████████████████████████████████| 193/193 [00:01<00:00, 96.75it/s]\n",
      "Gaps to fill in region 3: 100%|██████████████████████████████████████████████| 1/1 [00:00<00:00, 38.93it/s]\n",
      "Gaps to simplify in region 4: 100%|█████████████████████████████████████| 115/115 [00:00<00:00, 121.58it/s]\n",
      "Gaps to fill: 0it [00:00, ?it/s]\n",
      "Gaps to simplify in region 5: 100%|█████████████████████████████████████| 461/461 [00:04<00:00, 101.50it/s]\n",
      "Gaps to fill in region 5: 100%|██████████████████████████████████████████████| 3/3 [00:00<00:00, 52.54it/s]\n",
      "Gaps to simplify in region 6: 100%|██████████████████████████████████████| 275/275 [00:03<00:00, 90.20it/s]\n",
      "Gaps to fill in region 6: 100%|██████████████████████████████████████████████| 5/5 [00:00<00:00, 59.79it/s]\n",
      "Gaps to simplify in region 7: 100%|██████████████████████████████████████| 150/150 [00:01<00:00, 76.84it/s]\n",
      "Gaps to fill in region 7: 100%|██████████████████████████████████████████████| 8/8 [00:00<00:00, 12.87it/s]\n",
      "Gaps to simplify in region 8: 100%|█████████████████████████████████████| 294/294 [00:02<00:00, 109.13it/s]\n",
      "Gaps to fill in region 8: 100%|██████████████████████████████████████████████| 4/4 [00:00<00:00, 59.78it/s]\n",
      "Gaps to simplify in region 9: 100%|█████████████████████████████████████| 203/203 [00:01<00:00, 146.07it/s]\n",
      "Gaps to fill: 0it [00:00, ?it/s]\n",
      "Gaps to simplify in region 10: 100%|████████████████████████████████████| 344/344 [00:02<00:00, 118.81it/s]\n",
      "Gaps to fill in region 10: 100%|█████████████████████████████████████████████| 4/4 [00:00<00:00, 62.43it/s]\n",
      "Gaps to simplify in region 11: 100%|████████████████████████████████████| 237/237 [00:01<00:00, 130.63it/s]\n",
      "Gaps to fill in region 11: 100%|█████████████████████████████████████████████| 5/5 [00:00<00:00, 51.03it/s]\n",
      "Gaps to simplify in region 12: 100%|██████████████████████████████████████| 79/79 [00:00<00:00, 131.88it/s]\n",
      "Gaps to fill: 0it [00:00, ?it/s]\n",
      "Gaps to simplify in region 13: 100%|███████████████████████████████████████| 63/63 [00:00<00:00, 76.14it/s]\n",
      "Gaps to fill: 0it [00:00, ?it/s]\n",
      "Gaps to simplify in region 14: 100%|█████████████████████████████████████| 262/262 [00:03<00:00, 80.95it/s]\n",
      "Gaps to fill in region 14: 100%|█████████████████████████████████████████████| 3/3 [00:00<00:00, 46.68it/s]\n",
      "Gaps to simplify in region 15: 100%|████████████████████████████████████| 286/286 [00:02<00:00, 112.58it/s]\n",
      "Gaps to fill in region 15: 100%|█████████████████████████████████████████████| 1/1 [00:00<00:00, 29.26it/s]\n",
      "Gaps to simplify in region 16: 100%|████████████████████████████████████| 275/275 [00:02<00:00, 128.39it/s]\n",
      "Gaps to fill: 0it [00:00, ?it/s]\n",
      "Gaps to simplify in region 17: 100%|████████████████████████████████████| 352/352 [00:03<00:00, 104.25it/s]\n",
      "Gaps to fill: 0it [00:00, ?it/s]\n",
      "Gaps to simplify in region 18: 100%|██████████████████████████████████████| 72/72 [00:00<00:00, 134.06it/s]\n",
      "Gaps to fill in region 18: 100%|█████████████████████████████████████████████| 2/2 [00:00<00:00, 54.03it/s]\n",
      "Gaps to simplify in region 19: 100%|████████████████████████████████████| 238/238 [00:01<00:00, 144.16it/s]\n",
      "Gaps to fill in region 19: 100%|█████████████████████████████████████████████| 1/1 [00:00<00:00, 55.38it/s]\n",
      "Gaps to simplify in region 20: 100%|██████████████████████████████████████| 44/44 [00:00<00:00, 142.43it/s]\n",
      "Gaps to fill in region 20: 100%|█████████████████████████████████████████████| 1/1 [00:00<00:00, 63.93it/s]\n",
      "Gaps to simplify in region 21: 100%|████████████████████████████████████| 233/233 [00:02<00:00, 100.58it/s]\n",
      "Gaps to fill in region 21: 100%|█████████████████████████████████████████████| 3/3 [00:00<00:00, 72.27it/s]\n",
      "Gaps to simplify in region 22: 100%|█████████████████████████████████████| 228/228 [00:18<00:00, 12.26it/s]\n",
      "Gaps to fill in region 22: 100%|███████████████████████████████████████████| 57/57 [00:11<00:00,  5.13it/s]\n",
      "Gaps to simplify in region 23: 100%|█████████████████████████████████████| 210/210 [00:02<00:00, 75.40it/s]\n",
      "Gaps to fill in region 23: 100%|█████████████████████████████████████████████| 9/9 [00:00<00:00, 37.23it/s]\n",
      "Gaps to simplify in region 24: 100%|█████████████████████████████████████| 292/292 [00:02<00:00, 97.87it/s]\n",
      "Gaps to fill: 0it [00:00, ?it/s]\n",
      "Gaps to simplify in region 25: 100%|██████████████████████████████████████| 74/74 [00:00<00:00, 152.44it/s]\n",
      "Gaps to fill: 0it [00:00, ?it/s]\n",
      "Gaps to simplify in region 26: 100%|████████████████████████████████████| 222/222 [00:02<00:00, 106.69it/s]\n",
      "Gaps to fill in region 26: 100%|███████████████████████████████████████████| 11/11 [00:00<00:00, 31.42it/s]\n",
      "Gaps to simplify in region 27: 100%|████████████████████████████████████| 156/156 [00:01<00:00, 155.48it/s]\n",
      "Gaps to fill in region 27: 100%|████████████████████████████████████████████| 1/1 [00:00<00:00, 108.35it/s]\n",
      "Gaps to simplify in region 28: 100%|█████████████████████████████████████| 379/379 [00:05<00:00, 73.41it/s]\n",
      "Gaps to fill in region 28: 100%|█████████████████████████████████████████████| 4/4 [00:00<00:00, 35.62it/s]\n",
      "Gaps to simplify in region 29: 100%|█████████████████████████████████████| 329/329 [00:03<00:00, 94.78it/s]\n",
      "Gaps to fill in region 29: 100%|█████████████████████████████████████████████| 2/2 [00:00<00:00, 12.39it/s]\n",
      "Gaps to simplify in region 30: 100%|███████████████████████████████████████| 74/74 [00:00<00:00, 99.00it/s]\n",
      "Gaps to fill in region 30: 100%|█████████████████████████████████████████████| 1/1 [00:00<00:00, 24.35it/s]\n",
      "Gaps to simplify in region 31: 100%|██████████████████████████████████████| 90/90 [00:00<00:00, 144.33it/s]\n",
      "Gaps to fill: 0it [00:00, ?it/s]\n",
      "Gaps to simplify in region 32: 100%|████████████████████████████████████| 150/150 [00:01<00:00, 141.20it/s]\n",
      "Gaps to fill: 0it [00:00, ?it/s]\n",
      "Gaps to simplify in region 33: 100%|██████████████████████████████████████| 88/88 [00:00<00:00, 147.40it/s]\n",
      "Gaps to fill: 0it [00:00, ?it/s]\n",
      "Gaps to simplify in region 34: 100%|████████████████████████████████████| 124/124 [00:01<00:00, 120.97it/s]\n",
      "Gaps to fill: 0it [00:00, ?it/s]\n",
      "Gaps to simplify in region 35: 100%|██████████████████████████████████████| 67/67 [00:00<00:00, 126.90it/s]\n",
      "Gaps to fill in region 35: 100%|█████████████████████████████████████████████| 2/2 [00:00<00:00, 72.73it/s]\n",
      "Gaps to simplify in region 36: 100%|████████████████████████████████████| 133/133 [00:00<00:00, 133.37it/s]\n",
      "Gaps to fill in region 36: 100%|███████████████████████████████████████████| 12/12 [00:00<00:00, 96.59it/s]\n",
      "Gaps to simplify in region 37: 100%|████████████████████████████████████| 125/125 [00:00<00:00, 134.17it/s]\n",
      "Gaps to fill: 0it [00:00, ?it/s]\n",
      "Gaps to simplify in region 38: 100%|██████████████████████████████████████| 58/58 [00:00<00:00, 106.23it/s]\n",
      "Gaps to fill in region 38: 100%|█████████████████████████████████████████████| 1/1 [00:00<00:00, 24.48it/s]\n",
      "Gaps to simplify in region 39: 100%|███████████████████████████████████████| 73/73 [00:00<00:00, 87.50it/s]\n",
      "Gaps to fill in region 39: 100%|█████████████████████████████████████████████| 8/8 [00:00<00:00, 20.78it/s]\n",
      "Gaps to simplify in region 40: 100%|██████████████████████████████████████| 82/82 [00:00<00:00, 147.35it/s]\n",
      "Gaps to fill: 0it [00:00, ?it/s]\n",
      "Gaps to simplify in region 41: 100%|█████████████████████████████████████| 121/121 [00:01<00:00, 83.22it/s]\n",
      "Gaps to fill in region 41: 100%|█████████████████████████████████████████████| 1/1 [00:00<00:00, 87.12it/s]\n",
      "Gaps to simplify in region 42: 100%|███████████████████████████████████████| 97/97 [00:01<00:00, 79.77it/s]\n",
      "Gaps to fill in region 42: 100%|█████████████████████████████████████████████| 1/1 [00:00<00:00, 29.08it/s]\n",
      "Gaps to simplify in region 43: 100%|██████████████████████████████████████| 70/70 [00:00<00:00, 126.97it/s]\n",
      "Gaps to fill: 0it [00:00, ?it/s]\n",
      "Gaps to simplify in region 44: 100%|█████████████████████████████████████| 113/113 [00:01<00:00, 67.10it/s]\n",
      "Gaps to fill in region 44: 100%|█████████████████████████████████████████████| 3/3 [00:00<00:00, 56.04it/s]\n",
      "Gaps to simplify in region 45: 100%|█████████████████████████████████████| 111/111 [00:01<00:00, 80.55it/s]\n",
      "Gaps to fill in region 45: 100%|█████████████████████████████████████████████| 8/8 [00:00<00:00, 38.11it/s]\n",
      "Gaps to simplify in region 46: 100%|████████████████████████████████████| 128/128 [00:01<00:00, 115.56it/s]\n",
      "Gaps to fill in region 46: 100%|█████████████████████████████████████████████| 7/7 [00:00<00:00, 90.06it/s]\n",
      "Gaps to simplify in region 47: 100%|██████████████████████████████████████| 82/82 [00:00<00:00, 131.28it/s]\n",
      "Gaps to fill: 0it [00:00, ?it/s]\n",
      "Gaps to simplify in region 48: 100%|██████████████████████████████████████| 70/70 [00:00<00:00, 100.16it/s]\n",
      "Gaps to fill: 0it [00:00, ?it/s]\n",
      "Gaps to simplify in region 49: 100%|███████████████████████████████████████| 90/90 [00:01<00:00, 80.56it/s]\n",
      "Gaps to fill: 0it [00:00, ?it/s]\n",
      "Gaps to simplify in region 50: 100%|██████████████████████████████████████| 95/95 [00:00<00:00, 143.87it/s]\n",
      "Gaps to fill: 0it [00:00, ?it/s]\n",
      "Gaps to simplify in region 51: 100%|████████████████████████████████████| 193/193 [00:01<00:00, 108.33it/s]\n",
      "Gaps to fill: 0it [00:00, ?it/s]\n",
      "Gaps to simplify in region 52: 100%|████████████████████████████████████| 100/100 [00:00<00:00, 103.11it/s]\n",
      "Gaps to fill in region 52: 100%|█████████████████████████████████████████████| 1/1 [00:00<00:00, 33.05it/s]\n",
      "Gaps to simplify in region 53: 100%|████████████████████████████████████| 114/114 [00:01<00:00, 108.09it/s]\n",
      "Gaps to fill in region 53: 100%|█████████████████████████████████████████████| 2/2 [00:00<00:00, 47.66it/s]\n",
      "Gaps to simplify in region 54: 100%|███████████████████████████████████████| 69/69 [00:00<00:00, 76.49it/s]\n",
      "Gaps to fill in region 54: 100%|█████████████████████████████████████████████| 2/2 [00:00<00:00, 14.21it/s]\n",
      "Gaps to simplify in region 55: 100%|█████████████████████████████████████| 173/173 [00:02<00:00, 74.11it/s]\n",
      "Gaps to fill in region 55: 100%|█████████████████████████████████████████████| 3/3 [00:00<00:00, 60.40it/s]\n",
      "Gaps to simplify in region 56: 100%|███████████████████████████████████████| 77/77 [00:00<00:00, 80.52it/s]\n",
      "Gaps to fill in region 56: 100%|█████████████████████████████████████████████| 2/2 [00:00<00:00, 49.44it/s]\n",
      "Gaps to simplify in region 57: 100%|██████████████████████████████████████| 98/98 [00:00<00:00, 147.46it/s]\n",
      "Gaps to fill in region 57: 100%|█████████████████████████████████████████████| 2/2 [00:00<00:00, 44.69it/s]\n",
      "Gaps to simplify in region 58: 100%|██████████████████████████████████████| 80/80 [00:00<00:00, 116.81it/s]\n",
      "Gaps to fill in region 58: 100%|█████████████████████████████████████████████| 1/1 [00:00<00:00, 51.36it/s]\n",
      "Gaps to simplify in region 59: 100%|█████████████████████████████████████| 115/115 [00:01<00:00, 92.68it/s]\n",
      "Gaps to fill in region 59: 100%|█████████████████████████████████████████████| 4/4 [00:00<00:00, 64.83it/s]\n",
      "Gaps to simplify in region 60: 100%|████████████████████████████████████| 100/100 [00:00<00:00, 121.87it/s]\n",
      "Gaps to fill in region 60: 100%|█████████████████████████████████████████████| 6/6 [00:00<00:00, 58.96it/s]\n",
      "Gaps to simplify in region 61: 100%|████████████████████████████████████| 184/184 [00:01<00:00, 127.65it/s]\n",
      "Gaps to fill in region 61: 100%|█████████████████████████████████████████████| 2/2 [00:00<00:00, 55.59it/s]\n",
      "Gaps to simplify in region 62: 100%|████████████████████████████████████| 106/106 [00:00<00:00, 126.97it/s]\n",
      "Gaps to fill in region 62: 100%|█████████████████████████████████████████████| 2/2 [00:00<00:00, 69.45it/s]\n",
      "Gaps to simplify in region 63: 100%|████████████████████████████████████| 104/104 [00:00<00:00, 133.04it/s]\n",
      "Gaps to fill: 0it [00:00, ?it/s]\n",
      "Gaps to simplify in region 64: 100%|███████████████████████████████████████| 90/90 [00:01<00:00, 86.86it/s]\n",
      "Gaps to fill in region 64: 100%|█████████████████████████████████████████████| 4/4 [00:00<00:00, 83.70it/s]\n",
      "Gaps to simplify in region 65: 100%|████████████████████████████████████| 177/177 [00:01<00:00, 109.71it/s]\n",
      "Gaps to fill in region 65: 100%|█████████████████████████████████████████████| 3/3 [00:00<00:00, 18.65it/s]\n",
      "Gaps to simplify in region 66: 100%|████████████████████████████████████| 152/152 [00:01<00:00, 127.80it/s]\n",
      "Gaps to fill: 0it [00:00, ?it/s]\n",
      "Gaps to simplify in region 67: 100%|████████████████████████████████████| 115/115 [00:00<00:00, 131.27it/s]\n",
      "Gaps to fill: 0it [00:00, ?it/s]\n",
      "Gaps to simplify in region 68: 100%|█████████████████████████████████████| 104/104 [00:01<00:00, 97.00it/s]\n",
      "Gaps to fill: 0it [00:00, ?it/s]\n",
      "Gaps to simplify in region 69: 100%|████████████████████████████████████| 105/105 [00:00<00:00, 134.49it/s]\n",
      "Gaps to fill in region 69: 100%|█████████████████████████████████████████████| 4/4 [00:00<00:00, 84.75it/s]\n",
      "Gaps to simplify in region 70: 100%|█████████████████████████████████████| 159/159 [00:02<00:00, 73.18it/s]\n",
      "Gaps to fill: 0it [00:00, ?it/s]\n",
      "Gaps to simplify in region 71: 100%|████████████████████████████████████| 214/214 [00:01<00:00, 124.76it/s]\n",
      "Gaps to fill in region 71: 100%|█████████████████████████████████████████████| 3/3 [00:00<00:00, 34.03it/s]\n",
      "Gaps to simplify in region 72: 100%|██████████████████████████████████████| 67/67 [00:00<00:00, 163.73it/s]\n",
      "Gaps to fill in region 72: 100%|█████████████████████████████████████████████| 2/2 [00:00<00:00, 86.75it/s]\n",
      "Gaps to simplify in region 73: 100%|████████████████████████████████████| 140/140 [00:01<00:00, 132.93it/s]\n",
      "Gaps to fill: 0it [00:00, ?it/s]\n",
      "Gaps to simplify in region 74: 100%|████████████████████████████████████| 104/104 [00:00<00:00, 149.60it/s]\n",
      "Gaps to fill: 0it [00:00, ?it/s]\n",
      "Gaps to simplify in region 75: 100%|██████████████████████████████████████| 93/93 [00:00<00:00, 154.89it/s]\n",
      "Gaps to fill: 0it [00:00, ?it/s]\n",
      "Gaps to simplify in region 76: 100%|████████████████████████████████████| 101/101 [00:00<00:00, 111.09it/s]\n",
      "Gaps to fill: 0it [00:00, ?it/s]\n",
      "Gaps to simplify in region 77: 100%|██████████████████████████████████████| 82/82 [00:00<00:00, 113.97it/s]\n",
      "Gaps to fill in region 77: 100%|█████████████████████████████████████████████| 4/4 [00:00<00:00, 39.40it/s]\n",
      "Gaps to simplify in region 78: 100%|████████████████████████████████████| 109/109 [00:00<00:00, 124.15it/s]\n",
      "Gaps to fill in region 78: 100%|████████████████████████████████████████████| 1/1 [00:00<00:00, 109.65it/s]\n",
      "Gaps to simplify in region 79: 100%|███████████████████████████████████████| 90/90 [00:00<00:00, 92.66it/s]\n",
      "Gaps to fill: 0it [00:00, ?it/s]\n",
      "Gaps to simplify in region 80: 100%|████████████████████████████████████| 139/139 [00:01<00:00, 117.97it/s]\n",
      "Gaps to fill in region 80: 100%|█████████████████████████████████████████████| 6/6 [00:00<00:00, 63.45it/s]\n",
      "Gaps to simplify in region 81: 100%|███████████████████████████████████████| 96/96 [00:01<00:00, 89.14it/s]\n",
      "Gaps to fill in region 81: 100%|█████████████████████████████████████████████| 2/2 [00:00<00:00, 54.60it/s]\n",
      "Gaps to simplify in region 82: 100%|████████████████████████████████████| 102/102 [00:00<00:00, 118.97it/s]\n",
      "Gaps to fill in region 82: 100%|█████████████████████████████████████████████| 2/2 [00:00<00:00, 62.39it/s]\n",
      "Gaps to simplify in region 83: 100%|██████████████████████████████████████| 78/78 [00:00<00:00, 128.94it/s]\n",
      "Gaps to fill in region 83: 100%|█████████████████████████████████████████████| 7/7 [00:00<00:00, 69.07it/s]\n",
      "Gaps to simplify in region 84: 100%|████████████████████████████████████| 149/149 [00:01<00:00, 100.55it/s]\n",
      "Gaps to fill in region 84: 100%|█████████████████████████████████████████████| 2/2 [00:00<00:00, 52.02it/s]\n",
      "Gaps to simplify in region 85: 100%|████████████████████████████████████| 121/121 [00:00<00:00, 141.94it/s]\n",
      "Gaps to fill: 0it [00:00, ?it/s]\n",
      "Gaps to simplify in region 86: 100%|█████████████████████████████████████| 134/134 [00:02<00:00, 57.17it/s]\n",
      "Gaps to fill in region 86: 100%|█████████████████████████████████████████████| 3/3 [00:00<00:00, 17.06it/s]\n",
      "Gaps to simplify in region 87: 100%|██████████████████████████████████████| 74/74 [00:00<00:00, 156.04it/s]\n",
      "Gaps to fill: 0it [00:00, ?it/s]\n",
      "Gaps to simplify in region 88: 100%|██████████████████████████████████████| 80/80 [00:00<00:00, 114.16it/s]\n",
      "Gaps to fill in region 88: 100%|█████████████████████████████████████████████| 1/1 [00:00<00:00, 25.30it/s]\n",
      "Gaps to simplify in region 89: 100%|█████████████████████████████████████| 153/153 [00:01<00:00, 91.70it/s]\n",
      "Gaps to fill in region 89: 100%|█████████████████████████████████████████████| 7/7 [00:00<00:00, 15.20it/s]\n",
      "Gaps to simplify in region 90: 100%|████████████████████████████████████| 107/107 [00:01<00:00, 100.83it/s]\n",
      "Gaps to fill: 0it [00:00, ?it/s]\n",
      "Gaps to simplify in region 91: 100%|███████████████████████████████████████| 82/82 [00:00<00:00, 97.21it/s]\n",
      "Gaps to fill: 0it [00:00, ?it/s]\n",
      "Gaps to simplify in region 92: 100%|████████████████████████████████████| 104/104 [00:00<00:00, 135.35it/s]\n",
      "Gaps to fill: 0it [00:00, ?it/s]\n",
      "Gaps to simplify in region 93: 100%|█████████████████████████████████████| 116/116 [00:01<00:00, 96.07it/s]\n",
      "Gaps to fill in region 93: 100%|█████████████████████████████████████████████| 4/4 [00:00<00:00, 16.75it/s]\n",
      "Gaps to simplify in region 94: 100%|██████████████████████████████████████| 89/89 [00:00<00:00, 128.91it/s]\n",
      "Gaps to fill: 0it [00:00, ?it/s]\n",
      "Gaps to simplify in region 95: 100%|████████████████████████████████████| 126/126 [00:01<00:00, 121.57it/s]\n",
      "Gaps to fill in region 95: 100%|█████████████████████████████████████████████| 2/2 [00:00<00:00, 69.98it/s]\n",
      "Gaps to simplify in region 96: 100%|███████████████████████████████████████| 79/79 [00:01<00:00, 48.38it/s]\n",
      "Gaps to fill: 0it [00:00, ?it/s]\n",
      "Gaps to simplify in region 97: 100%|██████████████████████████████████████| 47/47 [00:00<00:00, 113.10it/s]\n",
      "Gaps to fill in region 97: 100%|█████████████████████████████████████████████| 1/1 [00:00<00:00, 33.87it/s]\n",
      "Gaps to simplify in region 98: 100%|████████████████████████████████████| 117/117 [00:01<00:00, 102.23it/s]\n",
      "Gaps to fill in region 98: 100%|█████████████████████████████████████████████| 2/2 [00:00<00:00, 65.32it/s]\n",
      "Gaps to simplify in region 99: 100%|██████████████████████████████████████| 90/90 [00:00<00:00, 122.14it/s]\n",
      "Gaps to fill in region 99: 100%|████████████████████████████████████████████| 1/1 [00:00<00:00, 102.98it/s]\n",
      "Gaps to simplify in region 100: 100%|█████████████████████████████████████| 78/78 [00:00<00:00, 116.48it/s]\n",
      "Gaps to fill: 0it [00:00, ?it/s]\n",
      "Gaps to simplify in region 101: 100%|██████████████████████████████████████| 93/93 [00:00<00:00, 94.51it/s]\n",
      "Gaps to fill: 0it [00:00, ?it/s]\n",
      "Gaps to simplify in region 102: 100%|███████████████████████████████████| 101/101 [00:00<00:00, 105.68it/s]\n",
      "Gaps to fill: 0it [00:00, ?it/s]\n",
      "Gaps to simplify in region 103: 100%|████████████████████████████████████| 136/136 [00:01<00:00, 80.11it/s]\n",
      "Gaps to fill: 0it [00:00, ?it/s]\n",
      "Gaps to simplify in region 104: 100%|█████████████████████████████████████| 77/77 [00:00<00:00, 108.58it/s]\n",
      "Gaps to fill in region 104: 100%|████████████████████████████████████████████| 1/1 [00:00<00:00, 36.41it/s]\n",
      "Gaps to simplify in region 105: 100%|██████████████████████████████████████| 91/91 [00:01<00:00, 82.04it/s]\n",
      "Gaps to fill: 0it [00:00, ?it/s]\n",
      "Gaps to simplify in region 106: 100%|█████████████████████████████████████| 84/84 [00:00<00:00, 160.82it/s]\n",
      "Gaps to fill: 0it [00:00, ?it/s]\n",
      "Gaps to simplify in region 107: 100%|████████████████████████████████████| 103/103 [00:01<00:00, 94.45it/s]\n",
      "Gaps to fill in region 107: 100%|████████████████████████████████████████████| 1/1 [00:00<00:00, 20.98it/s]\n",
      "Gaps to simplify in region 108: 100%|████████████████████████████████████| 103/103 [00:01<00:00, 99.02it/s]\n",
      "Gaps to fill: 0it [00:00, ?it/s]\n",
      "Gaps to simplify in region 109: 100%|███████████████████████████████████| 149/149 [00:01<00:00, 103.43it/s]\n",
      "Gaps to fill in region 109: 100%|████████████████████████████████████████████| 3/3 [00:00<00:00, 58.40it/s]\n",
      "Gaps to simplify in region 110: 100%|████████████████████████████████████| 159/159 [00:01<00:00, 96.92it/s]\n",
      "Gaps to fill in region 110: 100%|████████████████████████████████████████████| 2/2 [00:00<00:00, 97.78it/s]\n",
      "Gaps to simplify in region 111: 100%|███████████████████████████████████| 112/112 [00:00<00:00, 138.79it/s]\n",
      "Gaps to fill in region 111: 100%|████████████████████████████████████████████| 2/2 [00:00<00:00, 36.33it/s]\n",
      "Gaps to simplify in region 112: 100%|███████████████████████████████████| 101/101 [00:00<00:00, 128.66it/s]\n",
      "Gaps to fill in region 112: 100%|████████████████████████████████████████████| 1/1 [00:00<00:00, 73.53it/s]\n",
      "Gaps to simplify in region 113: 100%|██████████████████████████████████████| 71/71 [00:00<00:00, 75.73it/s]\n",
      "Gaps to fill in region 113: 100%|████████████████████████████████████████████| 1/1 [00:00<00:00, 22.54it/s]\n",
      "Gaps to simplify in region 114: 100%|█████████████████████████████████████| 84/84 [00:00<00:00, 109.59it/s]\n",
      "Gaps to fill: 0it [00:00, ?it/s]\n"
     ]
    }
   ],
   "source": [
    "# vest_base = add_vest_base(vest_base_data, start_col, year)\n",
    "vest_base = add_vest_base(vest_base_data, start_col, year, county = county_df)"
   ]
  },
  {
   "cell_type": "markdown",
   "id": "674f121d",
   "metadata": {},
   "source": [
    "Let's look at the border lengths.  If there's a clear reasonable cutoff for switching rook adjacencies to queen, we use that.  Otherwise, we can use 30.5 m (which is approximately 100 ft).  This is not a magic number, just a reasonable one."
   ]
  },
  {
   "cell_type": "code",
   "execution_count": 23,
   "id": "252f0d8c",
   "metadata": {},
   "outputs": [
    {
     "name": "stdout",
     "output_type": "stream",
     "text": [
      "[0.0, 0.0, 0.0, 0.0, 0.0, 0.0, 0.0, 0.0, 0.0, 0.0, 0.0, 0.0, 0.0, 0.0, 0.0, 0.0, 0.0, 0.0, 0.0, 0.0, 0.0, 0.0, 0.0, 0.0, 0.0, 0.0, 0.0, 0.0, 0.0, 0.0, 0.0, 0.0, 0.0, 0.0, 0.0, 0.0, 0.0, 0.0, 0.0, 0.0, 0.0, 0.0, 0.0, 0.0, 0.0, 0.0, 0.0, 0.0, 0.0, 0.0, 0.0, 0.0, 0.0, 0.0, 0.0, 0.0, 0.0, 0.0, 0.0, 0.0, 0.0, 0.0, 0.0, 0.0, 0.0, 0.0, 0.0, 0.0, 0.0, 0.0, 0.0, 0.0, 0.0, 0.0, 0.0, 0.0, 0.0, 0.0, 0.0, 0.0, 0.0, 0.0, 0.0, 0.0, 0.0, 0.0, 0.0, 0.0, 0.0, 0.0, 0.0, 0.0, 0.0, 0.0, 0.0, 0.0, 0.0, 0.0, 0.0, 0.0, 0.0, 0.0, 0.0, 0.0, 0.0, 0.0, 0.0, 0.0, 0.0, 0.0, 0.0, 0.0, 0.0, 0.0, 0.0, 0.0, 0.0, 0.0, 0.0, 0.0, 0.0, 0.0, 0.0, 0.0, 0.0, 0.0, 0.0, 0.0, 0.0, 0.0, 0.0, 0.0, 0.0, 0.0, 0.0, 0.0, 0.0, 0.0, 0.0, 0.0, 0.0, 0.0, 0.0, 0.0, 0.0, 0.0, 0.0, 0.0, 0.0, 0.0, 0.0, 0.0, 0.0, 0.0, 0.0, 0.0, 0.0, 0.0, 0.0, 0.0, 0.0, 0.0, 0.0, 0.0, 0.0, 0.0, 0.0, 0.0, 0.0, 0.0, 0.0, 0.0, 0.0, 0.0, 0.0, 0.0, 0.0, 0.0, 0.0, 0.0, 0.0, 0.0, 0.0, 0.0, 0.0, 0.0, 0.0, 0.0, 0.0, 0.0, 0.0, 0.0, 0.0, 0.0, 0.0, 0.0, 0.0, 0.0, 0.0, 0.0, 0.0, 0.0, 0.0, 0.0, 0.0, 0.0, 0.0, 0.0, 0.0, 0.0, 0.0, 0.0, 0.0, 0.0, 0.0, 0.0, 0.0, 0.0, 0.0, 0.0, 0.0, 0.0, 0.0, 0.0, 0.0, 0.0, 0.0, 0.0, 0.0, 0.0, 0.0, 0.0, 0.0, 0.0, 0.0, 0.0, 0.0, 0.0, 0.0, 0.0, 0.0, 0.0, 0.0, 0.0, 0.0, 0.0, 0.0, 0.0, 0.0, 0.0, 0.0, 0.0, 0.0, 0.0, 0.0, 0.0, 0.0, 0.0, 0.0, 0.0, 0.0, 0.0, 0.0, 0.0, 0.0, 0.0, 0.0, 0.0, 0.0, 0.0, 0.0, 0.0, 0.0, 0.0, 0.0, 0.0, 0.0, 0.0, 0.0, 0.0, 0.0, 0.0, 0.0, 0.0, 0.0, 0.0, 0.0, 0.0, 0.0, 0.0, 0.0, 0.0, 0.0, 0.0, 0.0, 0.0, 0.0, 0.0, 0.0, 0.0, 0.0, 0.0, 0.0, 0.0, 0.0, 0.0, 0.0, 0.0, 0.0, 0.0, 0.0, 0.0, 0.0, 0.0, 0.0, 0.0, 0.0, 0.0, 0.0, 0.0, 0.0, 0.0, 0.0, 0.0, 0.0, 0.0, 0.0, 0.0, 0.0, 0.0, 0.0, 0.0, 0.0, 0.0, 0.0, 0.0, 0.0, 0.0, 0.0, 0.0, 0.0, 0.0, 0.0, 0.0, 0.0, 0.0, 0.0, 0.0, 0.0, 0.0, 0.0, 0.0, 0.0, 0.0, 0.0, 0.0, 0.0, 0.0, 0.0, 0.0, 0.0, 0.0, 0.0, 0.0, 0.0, 0.0, 0.0, 0.0, 0.0, 0.0, 0.0, 0.0, 0.0, 0.0, 0.0, 0.0, 0.0, 0.0, 0.0, 0.0, 0.0, 0.0, 0.0, 0.0, 0.0, 0.0, 0.0, 0.0, 0.0, 0.0, 0.0, 0.0, 0.0, 0.0, 0.0, 0.0, 0.0, 0.0, 0.0, 0.0, 0.0, 0.0, 0.0, 0.0, 0.0, 0.0, 0.0, 0.0, 0.0, 0.0, 0.0, 0.0, 0.0, 0.0, 0.0, 0.0, 0.0, 0.0, 0.0, 0.0, 0.0, 0.0, 0.0, 0.0, 0.0, 0.0, 0.0, 0.0, 0.0, 0.0, 0.0, 0.0, 0.0, 0.0, 0.0, 0.0, 0.0, 0.0, 0.0, 0.0, 0.0, 0.0, 0.0, 0.0, 0.0, 0.0, 0.0, 0.0, 0.0, 0.0, 0.0, 0.0, 0.0, 0.0, 0.0, 0.0, 0.0, 0.0, 0.0, 0.0, 0.0, 0.0, 0.0, 0.0, 0.0, 0.0, 0.0, 0.0, 0.0, 0.0, 0.0, 0.0, 0.0, 0.0, 0.0, 0.0, 0.0, 0.0, 0.0, 0.0, 0.0, 0.0, 0.0, 0.0, 0.0, 0.0, 0.0, 0.0, 0.0, 0.0, 0.0, 0.0, 0.0, 0.0, 0.0, 0.0, 0.0, 0.0, 0.0, 0.0, 0.0, 0.0, 0.0, 0.0, 0.0, 0.0, 0.0, 0.0, 0.0, 0.0, 0.0, 0.0, 0.0, 0.0, 0.0, 0.0, 0.0, 0.0, 0.0, 0.0, 0.0, 0.0, 0.0, 0.0, 0.0, 0.0, 0.0, 0.0, 0.0, 0.0, 0.0, 0.0, 0.0, 0.0, 0.0, 0.0, 0.0, 0.0, 0.0, 0.0, 0.0, 0.0, 0.0, 0.0, 0.0, 0.0, 0.0, 0.0, 0.0, 0.0, 0.0, 0.0, 0.0, 0.0, 0.0, 0.0, 0.0, 0.0, 0.0, 0.0, 0.0, 0.0, 0.0, 0.0, 0.0, 0.0, 0.0, 0.0, 0.0, 0.0, 0.0, 0.0, 0.0, 0.0, 0.0, 0.0, 0.0, 0.0, 0.0, 0.0, 0.0, 0.0, 0.0, 0.0, 0.0, 0.0, 0.0, 0.0, 0.0, 0.0, 0.0, 0.0, 0.0, 0.0, 0.0, 0.0, 0.0, 0.0, 0.0, 0.0, 0.0, 0.0, 0.0, 0.0, 0.0, 0.0, 0.0, 0.0, 0.0, 0.0, 0.0, 0.0, 0.0, 0.0, 0.0, 0.0, 0.0, 0.0, 0.0, 0.0, 0.0, 0.0, 0.0, 0.0, 0.0, 0.0, 0.0, 0.0, 0.0, 0.0, 0.0, 0.0, 0.0, 0.0, 0.0, 0.0, 0.0, 0.0, 0.0, 0.0, 0.0, 0.0, 0.0, 0.0, 0.0, 0.0, 0.0, 0.0, 0.0, 0.0, 0.0, 0.0, 0.0, 0.0, 0.0, 0.0, 0.0, 0.0, 0.0, 0.0, 0.0, 0.0, 0.0, 0.0, 0.0, 0.0, 0.0, 0.0, 0.0, 0.0, 0.0, 0.0, 0.0, 0.0, 0.0, 0.0, 0.0, 0.0, 0.0, 0.0, 0.0, 0.0, 0.0, 0.0, 0.0, 0.0, 0.0, 0.0, 0.0, 0.0, 0.0, 0.0, 0.0, 0.0, 0.0, 0.0, 0.0, 0.0, 0.0, 0.0, 0.0, 0.0, 0.0, 0.0, 0.0, 0.0, 0.0, 0.0, 0.0, 0.0, 0.0, 0.0, 0.0, 0.0, 0.0, 0.0, 0.0, 0.0, 0.0, 0.0, 0.0, 0.0, 0.0, 0.0, 0.0, 0.0, 0.0, 0.0, 0.0, 0.0, 0.0, 0.0, 0.0, 0.0, 0.0, 0.0, 0.0, 0.0, 0.0, 0.0, 0.0, 0.0, 0.0, 0.0, 0.0, 0.0, 0.0, 0.0, 0.0, 0.0, 0.0, 0.0, 0.0, 0.0, 0.0, 0.0, 0.0, 0.0, 0.0, 0.0, 0.0, 0.0, 0.0, 0.0, 0.0, 0.0, 0.0, 0.0, 0.0, 0.0, 0.0, 0.0, 0.0, 0.0, 0.0, 0.0, 0.0, 0.0, 0.0, 0.0, 0.0, 0.0, 0.0, 0.0, 0.0, 0.0, 0.0, 0.0, 0.0, 0.0, 0.0, 0.0, 0.0, 0.0, 0.0, 0.0, 0.0, 0.0, 0.0, 0.0, 0.0, 0.0, 0.0, 0.0, 0.0, 0.0, 0.0, 0.0, 0.0, 0.0, 0.0, 0.0, 0.0, 0.0, 0.0, 0.0, 0.0, 0.0, 0.0, 0.0, 0.0, 0.0, 0.0, 0.0, 0.0, 0.0, 0.0, 0.0, 0.0, 0.0, 0.0, 0.0, 0.0, 0.0, 0.0, 0.0, 0.0, 0.0, 0.0, 0.0, 0.0, 0.0, 0.0, 0.0, 0.0, 0.0, 0.0, 0.0, 0.0, 0.0, 0.0, 0.0, 0.0, 0.0, 0.0, 0.0, 0.0, 0.0, 0.0, 0.0, 0.0, 0.0, 0.0, 0.0, 0.0, 0.0, 0.0, 0.0, 0.0, 0.0, 0.0, 0.0, 0.0, 0.0, 0.0, 0.0, 0.0, 0.0, 0.0, 0.0, 0.0, 0.0, 0.0, 0.0, 0.0, 0.0, 0.0, 0.0, 0.0, 0.0, 0.0, 0.0, 0.0, 0.0, 0.0, 0.0, 0.0, 0.0, 0.0, 0.0, 0.0, 0.0, 0.0, 0.0, 0.0, 0.0, 0.0, 0.0, 0.0, 0.0, 0.0, 0.0, 0.0, 0.0, 0.0, 0.0, 0.0, 0.0, 0.0, 0.0, 0.0, 0.0, 0.0, 0.0, 0.0, 0.0, 0.0, 0.0, 0.0, 0.0, 0.0, 0.0, 0.0, 0.0, 0.0, 0.0, 0.0, 0.0, 0.0, 0.0, 0.0, 0.0, 0.0, 0.0, 0.0, 0.0, 0.0, 0.0, 0.0, 0.0, 0.0, 0.0, 0.0, 0.0, 0.0, 0.0, 0.0, 0.0, 0.0, 0.0, 0.0, 0.0, 0.0, 0.0, 0.0, 0.0, 0.0, 0.0, 0.0, 0.0, 0.0, 0.0, 0.0, 0.0, 0.0, 0.0, 0.0, 0.0, 0.0, 0.0, 0.0, 0.0, 0.0, 0.0, 0.0, 0.0, 0.0, 0.0, 0.0, 0.0, 0.0, 0.0, 0.0, 0.0, 0.0, 0.0, 0.0, 0.0, 0.0, 0.0, 0.0, 0.0, 0.0, 0.0, 0.0, 0.0, 0.0, 0.0, 0.0, 0.0, 0.0, 0.0, 0.0, 0.0, 0.0, 0.0, 0.0, 0.0, 0.0, 0.0, 0.0, 0.0, 0.0, 0.0, 0.0, 0.0, 0.0, 0.0, 0.0, 0.0, 0.0, 0.0, 0.0, 0.0, 0.0, 0.0, 0.0, 0.0, 0.0, 0.0, 0.0, 0.0, 0.0, 0.0, 0.0, 0.0, 0.0, 0.0, 0.0, 0.0, 0.0, 0.0, 0.0, 0.0, 0.0, 0.0, 0.0, 0.0, 0.0, 0.0, 0.0, 0.0, 0.0, 0.0, 0.0, 0.0, 0.0, 0.0, 0.0, 0.0, 0.0, 0.0, 0.0, 0.0, 0.0, 0.0, 0.0, 0.0, 0.0, 0.0, 0.0, 0.0, 0.0, 0.0, 0.0, 0.0, 0.0, 0.0, 0.0, 0.0, 0.0, 0.0, 0.0, 0.0, 0.0, 0.0, 0.0, 0.0, 0.0, 0.0, 0.0, 0.0, 0.0, 0.0, 0.0, 0.0, 0.0, 0.0, 0.0, 0.0, 0.0, 0.0, 0.0, 0.0, 0.0, 0.0, 0.0, 0.0, 0.0, 0.0, 0.0, 0.0, 0.0, 0.0, 0.0, 0.0, 0.0, 0.0, 0.0, 0.0, 0.0, 0.0, 0.0, 0.0, 0.0, 0.0, 0.0, 0.0, 0.0, 0.0, 0.0, 0.0, 0.0, 0.0, 0.0, 0.0, 0.0, 0.0, 0.0, 0.0, 0.0, 0.0, 0.0, 0.0, 0.0, 0.0, 0.0, 0.0, 0.0, 0.0, 0.0, 0.0, 0.0, 0.0, 0.0, 0.0, 0.0, 0.0, 0.0, 0.0, 0.0, 0.0, 0.0, 0.0, 0.0, 0.0, 0.0, 0.0, 0.0, 0.0, 0.0, 0.0, 0.0, 0.0, 0.0, 0.0, 0.0, 0.0, 0.0, 0.0, 0.0, 0.0, 0.0, 0.0, 0.0, 0.0, 0.0, 0.0, 0.0, 0.0, 0.0, 0.0, 0.0, 0.0, 0.0, 0.0, 0.0, 0.0, 0.0, 0.0, 0.0, 0.0, 0.0, 0.0, 0.0, 0.0, 0.0, 0.0, 0.0, 0.0, 0.0, 0.0, 0.0, 0.0, 0.0, 0.0, 0.0, 0.0, 0.0, 0.0, 0.0, 0.0, 0.0, 0.0, 0.0, 0.0, 0.0, 0.0, 0.0, 0.0, 0.0, 0.0, 0.0, 0.0, 0.0, 0.0, 0.0, 0.0, 0.0, 0.0, 0.0, 0.0, 0.0, 0.0, 0.0, 0.0, 0.0, 0.0, 0.0, 0.0, 0.0, 0.0, 0.0, 0.0, 0.0, 0.0, 0.0, 0.0, 0.0, 0.0, 0.0, 0.0, 0.0, 0.0, 0.0, 0.0, 0.0, 0.0, 0.0, 0.0, 0.0, 0.0, 0.0, 0.0, 0.0, 0.0, 0.0, 0.0, 0.0, 0.0, 0.0, 0.0, 0.0, 0.0, 0.0, 0.0, 0.0, 0.0, 0.0, 0.0, 0.0, 0.0, 0.0, 0.0, 0.0, 0.0, 0.0, 0.0, 0.0, 0.0, 0.0, 0.0, 0.0, 0.0, 0.0, 0.0, 0.0, 0.0, 0.0, 0.0, 0.0, 0.0, 0.0, 0.0, 0.0, 0.0, 0.0, 0.0, 0.0, 0.0, 0.0, 0.0, 0.0, 0.0, 0.0, 0.0, 0.0, 0.0, 0.0, 0.0, 0.0, 0.0, 0.0, 0.0, 0.0, 0.0, 0.0, 0.0, 0.0, 0.0, 0.0, 0.0, 0.0, 0.0, 0.0, 0.0, 0.0, 0.0, 0.0, 0.0, 0.0, 0.0, 0.0, 0.0, 0.0, 0.0, 0.0, 0.0, 0.0, 0.0, 0.0, 0.0, 0.0, 0.0, 0.0, 0.0, 0.0, 0.0, 0.0, 0.0, 0.0, 0.0, 0.0, 0.0, 0.0, 0.0, 0.0, 0.0, 0.0, 0.0, 0.0, 0.0, 0.0, 0.0, 0.0, 0.0, 0.0, 0.0, 0.0, 0.0, 0.0, 0.0, 0.0, 0.0, 0.0, 0.0, 0.0, 0.0, 0.0, 0.0, 0.0, 0.0, 0.0, 0.0, 0.0, 0.0, 0.0, 0.0, 0.0, 0.0, 0.0, 0.0, 0.0, 0.0, 0.0, 0.0, 0.0, 0.0, 0.0, 0.0, 0.0, 0.0, 0.0, 0.0, 0.0, 0.0, 0.0, 0.0, 0.0, 0.0, 0.0, 0.0, 0.0, 0.0, 0.0, 0.0, 0.0, 0.0, 0.0, 0.0, 0.0, 0.0, 0.0, 0.0, 0.0, 0.0, 0.0, 0.0, 0.0, 0.0, 0.0, 0.0, 0.0, 0.0, 0.0, 0.0, 0.0, 0.0, 0.0, 0.0, 0.0, 0.0, 0.0, 0.0, 0.0, 0.0, 0.0, 0.0, 0.0, 0.0, 0.0, 0.0, 0.0, 0.0, 0.0, 0.0, 0.0, 0.0, 0.0, 0.0, 0.0, 0.0, 0.0, 0.0, 0.0, 0.0, 0.0, 0.0, 0.0, 0.0, 0.0, 0.0, 0.0, 0.0, 0.0, 0.0, 0.0, 0.0, 0.0, 0.0, 0.0, 0.0, 0.0, 0.0, 0.0, 0.0, 0.0, 0.0, 0.0, 0.0, 0.0, 0.0, 0.0, 0.0, 0.0, 0.0, 0.0, 0.0, 0.0, 0.0, 0.0, 0.0, 0.0, 0.0, 0.0, 0.0, 0.0, 0.0, 0.0, 0.0, 0.0, 0.0, 0.0, 0.0, 0.0, 0.0, 0.0, 0.0, 0.0, 0.0, 0.0, 0.0, 0.0, 0.0, 0.0, 0.0, 0.0, 0.0, 0.0, 0.0, 0.0, 0.0, 0.0, 0.0, 0.0, 0.0, 0.0, 0.0, 0.0, 0.0, 0.0, 0.0, 0.0, 0.0, 0.0, 0.0, 0.0, 0.0, 0.0, 0.0, 0.0, 0.0, 0.0, 0.0, 0.0, 0.0, 0.0, 0.0, 0.0, 0.0, 0.0, 0.0, 0.0, 0.0, 0.0, 0.0, 0.0, 0.0, 0.0, 0.0, 0.0, 0.0, 0.0, 0.0, 0.0, 0.0, 0.0, 0.0, 0.0, 0.0, 0.0, 0.0, 0.0, 0.0, 0.0, 0.0, 0.0, 0.0, 0.0, 0.0, 0.0, 0.0, 0.0, 0.0, 0.0, 0.0, 0.0, 0.0, 0.0, 0.0, 0.0, 0.0, 0.0, 0.0, 0.0, 0.0, 0.0, 0.0, 0.0, 0.0, 0.0, 0.0, 0.0, 0.0, 0.0, 0.0, 0.0, 0.0, 0.0, 0.0, 0.0, 0.0, 0.0, 0.0, 0.0, 0.0, 0.0, 0.0, 0.0, 0.0, 0.0, 0.0, 0.0, 0.0, 0.0, 0.0, 0.0, 0.0, 0.0, 0.0, 0.0, 0.0, 0.0, 0.0, 0.0, 0.0, 0.0, 0.0, 0.0, 0.0, 0.0, 0.0, 0.0, 0.0, 0.0, 0.0, 0.0, 0.0, 0.0, 0.0, 0.0, 0.0, 0.0, 0.0, 0.0, 0.0, 0.0, 0.0, 0.0, 0.0]\n"
     ]
    }
   ],
   "source": [
    "borders = check_small_boundary_lengths(vest_base)\n",
    "print(borders[:1700])"
   ]
  },
  {
   "cell_type": "markdown",
   "id": "c9799c84",
   "metadata": {},
   "source": [
    "It's not clear what the cutoff should be here; let's use 30.5."
   ]
  },
  {
   "cell_type": "code",
   "execution_count": 24,
   "id": "5f2d81d8",
   "metadata": {},
   "outputs": [
    {
     "name": "stdout",
     "output_type": "stream",
     "text": [
      "Snapping all geometries to a grid with precision 10^( -5 ) to avoid GEOS errors.\n",
      "Identifying overlaps...\n"
     ]
    },
    {
     "name": "stderr",
     "output_type": "stream",
     "text": [
      "100%|████████████████████████████████████████████████████████████████| 4299/4299 [00:01<00:00, 3940.61it/s]\n"
     ]
    },
    {
     "name": "stdout",
     "output_type": "stream",
     "text": [
      "Resolving overlaps...\n",
      "Filling gaps...\n"
     ]
    },
    {
     "name": "stderr",
     "output_type": "stream",
     "text": [
      "Gaps to simplify: 0it [00:00, ?it/s]\n",
      "Gaps to fill: 0it [00:00, ?it/s]\n"
     ]
    },
    {
     "name": "stdout",
     "output_type": "stream",
     "text": [
      "Converting small rook adjacencies to queen...\n"
     ]
    },
    {
     "name": "stderr",
     "output_type": "stream",
     "text": [
      "100%|████████████████████████████████████████████████████████████████| 3733/3733 [00:02<00:00, 1415.30it/s]\n",
      "100%|██████████████████████████████████████████████████████████████████████| 4/4 [00:00<00:00, 2715.20it/s]\n",
      "100%|██████████████████████████████████████████████████████████████████████| 4/4 [00:00<00:00, 2736.01it/s]\n",
      "100%|██████████████████████████████████████████████████████████████████████| 4/4 [00:00<00:00, 2807.43it/s]\n",
      "100%|██████████████████████████████████████████████████████████████████████| 4/4 [00:00<00:00, 2956.86it/s]\n",
      "100%|██████████████████████████████████████████████████████████████████████| 4/4 [00:00<00:00, 2978.38it/s]\n",
      "100%|██████████████████████████████████████████████████████████████████████| 4/4 [00:00<00:00, 2963.13it/s]\n",
      "100%|██████████████████████████████████████████████████████████████████████| 4/4 [00:00<00:00, 3195.05it/s]\n",
      "100%|██████████████████████████████████████████████████████████████████████| 4/4 [00:00<00:00, 3130.08it/s]\n",
      "100%|██████████████████████████████████████████████████████████████████████| 4/4 [00:00<00:00, 2930.52it/s]\n",
      "100%|██████████████████████████████████████████████████████████████████████| 4/4 [00:00<00:00, 3025.65it/s]\n",
      "100%|██████████████████████████████████████████████████████████████████████| 4/4 [00:00<00:00, 3048.74it/s]\n",
      "100%|██████████████████████████████████████████████████████████████████████| 5/5 [00:00<00:00, 2891.83it/s]\n",
      "100%|██████████████████████████████████████████████████████████████████████| 5/5 [00:00<00:00, 2813.46it/s]\n",
      "100%|██████████████████████████████████████████████████████████████████████| 4/4 [00:00<00:00, 3169.10it/s]\n",
      "100%|██████████████████████████████████████████████████████████████████████| 5/5 [00:00<00:00, 3026.63it/s]\n",
      "100%|██████████████████████████████████████████████████████████████████████| 4/4 [00:00<00:00, 2900.12it/s]\n",
      "100%|██████████████████████████████████████████████████████████████████████| 5/5 [00:00<00:00, 3172.22it/s]\n",
      "100%|██████████████████████████████████████████████████████████████████████| 4/4 [00:00<00:00, 2842.63it/s]\n",
      "100%|██████████████████████████████████████████████████████████████████████| 5/5 [00:00<00:00, 3207.64it/s]\n",
      "100%|██████████████████████████████████████████████████████████████████████| 4/4 [00:00<00:00, 2750.81it/s]\n",
      "100%|██████████████████████████████████████████████████████████████████████| 5/5 [00:00<00:00, 3124.95it/s]\n",
      "100%|██████████████████████████████████████████████████████████████████████| 6/6 [00:00<00:00, 3529.57it/s]\n",
      "100%|██████████████████████████████████████████████████████████████████████| 4/4 [00:00<00:00, 2947.51it/s]\n",
      "100%|██████████████████████████████████████████████████████████████████████| 6/6 [00:00<00:00, 3266.17it/s]\n",
      "100%|██████████████████████████████████████████████████████████████████████| 4/4 [00:00<00:00, 2879.71it/s]\n",
      "100%|██████████████████████████████████████████████████████████████████████| 4/4 [00:00<00:00, 3055.96it/s]\n",
      "100%|██████████████████████████████████████████████████████████████████████| 4/4 [00:00<00:00, 3053.18it/s]\n",
      "100%|██████████████████████████████████████████████████████████████████████| 4/4 [00:00<00:00, 2801.34it/s]\n",
      "100%|██████████████████████████████████████████████████████████████████████| 5/5 [00:00<00:00, 3183.29it/s]\n",
      "100%|██████████████████████████████████████████████████████████████████████| 5/5 [00:00<00:00, 3143.21it/s]\n",
      "100%|██████████████████████████████████████████████████████████████████████| 4/4 [00:00<00:00, 2954.26it/s]\n",
      "100%|██████████████████████████████████████████████████████████████████████| 4/4 [00:00<00:00, 2928.47it/s]\n",
      "100%|██████████████████████████████████████████████████████████████████████| 4/4 [00:00<00:00, 2952.18it/s]\n",
      "100%|██████████████████████████████████████████████████████████████████████| 4/4 [00:00<00:00, 2975.74it/s]\n",
      "100%|██████████████████████████████████████████████████████████████████████| 5/5 [00:00<00:00, 2796.58it/s]\n",
      "100%|██████████████████████████████████████████████████████████████████████| 4/4 [00:00<00:00, 2555.55it/s]\n",
      "100%|██████████████████████████████████████████████████████████████████████| 3/3 [00:00<00:00, 2099.60it/s]\n",
      "100%|██████████████████████████████████████████████████████████████████████| 4/4 [00:00<00:00, 3023.47it/s]\n",
      "100%|██████████████████████████████████████████████████████████████████████| 4/4 [00:00<00:00, 2888.14it/s]\n",
      "100%|██████████████████████████████████████████████████████████████████████| 4/4 [00:00<00:00, 3044.31it/s]\n",
      "100%|██████████████████████████████████████████████████████████████████████| 4/4 [00:00<00:00, 2963.13it/s]\n",
      "100%|██████████████████████████████████████████████████████████████████████| 4/4 [00:00<00:00, 3032.21it/s]\n",
      "100%|██████████████████████████████████████████████████████████████████████| 5/5 [00:00<00:00, 2948.34it/s]\n",
      "100%|██████████████████████████████████████████████████████████████████████| 4/4 [00:00<00:00, 2650.85it/s]\n",
      "100%|██████████████████████████████████████████████████████████████████████| 6/6 [00:00<00:00, 3305.64it/s]\n",
      "100%|██████████████████████████████████████████████████████████████████████| 4/4 [00:00<00:00, 2607.59it/s]\n",
      "100%|██████████████████████████████████████████████████████████████████████| 4/4 [00:00<00:00, 1530.91it/s]\n",
      "100%|██████████████████████████████████████████████████████████████████████| 4/4 [00:00<00:00, 2715.64it/s]\n",
      "100%|██████████████████████████████████████████████████████████████████████| 4/4 [00:00<00:00, 2902.63it/s]\n",
      "100%|██████████████████████████████████████████████████████████████████████| 4/4 [00:00<00:00, 2481.47it/s]\n",
      "100%|██████████████████████████████████████████████████████████████████████| 6/6 [00:00<00:00, 3086.32it/s]\n",
      "100%|██████████████████████████████████████████████████████████████████████| 5/5 [00:00<00:00, 2920.01it/s]\n",
      "100%|██████████████████████████████████████████████████████████████████████| 5/5 [00:00<00:00, 2986.97it/s]\n",
      "100%|██████████████████████████████████████████████████████████████████████| 4/4 [00:00<00:00, 2992.19it/s]\n",
      "100%|██████████████████████████████████████████████████████████████████████| 3/3 [00:00<00:00, 2504.06it/s]\n",
      "100%|██████████████████████████████████████████████████████████████████████| 4/4 [00:00<00:00, 2726.23it/s]\n",
      "100%|██████████████████████████████████████████████████████████████████████| 4/4 [00:00<00:00, 2855.70it/s]\n",
      "100%|██████████████████████████████████████████████████████████████████████| 4/4 [00:00<00:00, 2691.68it/s]\n",
      "100%|██████████████████████████████████████████████████████████████████████| 4/4 [00:00<00:00, 2943.37it/s]\n",
      "100%|██████████████████████████████████████████████████████████████████████| 4/4 [00:00<00:00, 2873.80it/s]\n",
      "100%|██████████████████████████████████████████████████████████████████████| 6/6 [00:00<00:00, 3133.20it/s]\n",
      "100%|██████████████████████████████████████████████████████████████████████| 5/5 [00:00<00:00, 3211.07it/s]\n",
      "100%|██████████████████████████████████████████████████████████████████████| 4/4 [00:00<00:00, 1889.75it/s]\n",
      "100%|██████████████████████████████████████████████████████████████████████| 4/4 [00:00<00:00, 2805.09it/s]\n",
      "100%|██████████████████████████████████████████████████████████████████████| 5/5 [00:00<00:00, 2656.64it/s]\n",
      "100%|███████████████████████████████████████████████████████████████████████| 5/5 [00:00<00:00, 924.91it/s]\n",
      "100%|██████████████████████████████████████████████████████████████████████| 6/6 [00:00<00:00, 1142.40it/s]\n",
      "100%|██████████████████████████████████████████████████████████████████████| 4/4 [00:00<00:00, 1435.79it/s]\n",
      "100%|██████████████████████████████████████████████████████████████████████| 3/3 [00:00<00:00, 2468.69it/s]\n",
      "100%|██████████████████████████████████████████████████████████████████████| 4/4 [00:00<00:00, 2545.09it/s]\n",
      "100%|██████████████████████████████████████████████████████████████████████| 5/5 [00:00<00:00, 2395.92it/s]\n",
      "100%|██████████████████████████████████████████████████████████████████████| 4/4 [00:00<00:00, 2824.45it/s]\n",
      "100%|██████████████████████████████████████████████████████████████████████| 4/4 [00:00<00:00, 2863.01it/s]\n",
      "100%|██████████████████████████████████████████████████████████████████████| 5/5 [00:00<00:00, 3134.76it/s]\n",
      "100%|██████████████████████████████████████████████████████████████████████| 4/4 [00:00<00:00, 2787.84it/s]\n",
      "100%|██████████████████████████████████████████████████████████████████████| 4/4 [00:00<00:00, 2818.75it/s]\n",
      "100%|██████████████████████████████████████████████████████████████████████| 4/4 [00:00<00:00, 2740.03it/s]\n",
      "100%|██████████████████████████████████████████████████████████████████████| 4/4 [00:00<00:00, 3112.66it/s]\n",
      "100%|██████████████████████████████████████████████████████████████████████| 5/5 [00:00<00:00, 1601.00it/s]\n",
      "100%|██████████████████████████████████████████████████████████████████████| 4/4 [00:00<00:00, 2682.64it/s]\n",
      "100%|██████████████████████████████████████████████████████████████████████| 4/4 [00:00<00:00, 2901.13it/s]\n",
      "100%|██████████████████████████████████████████████████████████████████████| 6/6 [00:00<00:00, 2958.25it/s]\n",
      "100%|██████████████████████████████████████████████████████████████████████| 4/4 [00:00<00:00, 2884.17it/s]\n",
      "100%|██████████████████████████████████████████████████████████████████████| 4/4 [00:00<00:00, 2638.76it/s]\n",
      "100%|██████████████████████████████████████████████████████████████████████| 4/4 [00:00<00:00, 2605.97it/s]\n",
      "100%|██████████████████████████████████████████████████████████████████████| 5/5 [00:00<00:00, 2946.27it/s]\n",
      "100%|██████████████████████████████████████████████████████████████████████| 7/7 [00:00<00:00, 3363.90it/s]\n",
      "100%|██████████████████████████████████████████████████████████████████████| 4/4 [00:00<00:00, 2789.23it/s]\n",
      "100%|██████████████████████████████████████████████████████████████████████| 5/5 [00:00<00:00, 2995.93it/s]\n",
      "100%|██████████████████████████████████████████████████████████████████████| 4/4 [00:00<00:00, 2803.21it/s]\n",
      "100%|██████████████████████████████████████████████████████████████████████| 4/4 [00:00<00:00, 2871.83it/s]\n",
      "100%|██████████████████████████████████████████████████████████████████████| 4/4 [00:00<00:00, 2552.44it/s]\n",
      "100%|██████████████████████████████████████████████████████████████████████| 4/4 [00:00<00:00, 2925.92it/s]\n",
      "100%|██████████████████████████████████████████████████████████████████████| 4/4 [00:00<00:00, 2760.77it/s]\n",
      "100%|██████████████████████████████████████████████████████████████████████| 5/5 [00:00<00:00, 3022.70it/s]\n",
      "100%|██████████████████████████████████████████████████████████████████████| 4/4 [00:00<00:00, 2976.27it/s]\n",
      "100%|██████████████████████████████████████████████████████████████████████| 5/5 [00:00<00:00, 3028.38it/s]\n",
      "100%|██████████████████████████████████████████████████████████████████████| 4/4 [00:00<00:00, 2496.98it/s]\n",
      "100%|██████████████████████████████████████████████████████████████████████| 4/4 [00:00<00:00, 2625.95it/s]\n",
      "100%|██████████████████████████████████████████████████████████████████████| 4/4 [00:00<00:00, 2802.74it/s]\n",
      "100%|██████████████████████████████████████████████████████████████████████| 4/4 [00:00<00:00, 2734.23it/s]\n",
      "100%|██████████████████████████████████████████████████████████████████████| 4/4 [00:00<00:00, 3154.20it/s]\n",
      "100%|██████████████████████████████████████████████████████████████████████| 4/4 [00:00<00:00, 2787.84it/s]\n",
      "100%|██████████████████████████████████████████████████████████████████████| 4/4 [00:00<00:00, 2932.57it/s]\n",
      "100%|██████████████████████████████████████████████████████████████████████| 6/6 [00:00<00:00, 3010.63it/s]\n",
      "100%|██████████████████████████████████████████████████████████████████████| 4/4 [00:00<00:00, 2927.96it/s]\n",
      "100%|██████████████████████████████████████████████████████████████████████| 4/4 [00:00<00:00, 3025.65it/s]\n",
      "100%|██████████████████████████████████████████████████████████████████████| 4/4 [00:00<00:00, 2776.31it/s]\n",
      "100%|██████████████████████████████████████████████████████████████████████| 5/5 [00:00<00:00, 3244.36it/s]\n",
      "100%|██████████████████████████████████████████████████████████████████████| 5/5 [00:00<00:00, 2913.93it/s]\n",
      "100%|██████████████████████████████████████████████████████████████████████| 4/4 [00:00<00:00, 2713.88it/s]\n",
      "100%|██████████████████████████████████████████████████████████████████████| 4/4 [00:00<00:00, 2840.71it/s]\n",
      "100%|██████████████████████████████████████████████████████████████████████| 4/4 [00:00<00:00, 3115.55it/s]\n",
      "100%|██████████████████████████████████████████████████████████████████████| 5/5 [00:00<00:00, 3209.60it/s]\n",
      "100%|██████████████████████████████████████████████████████████████████████| 4/4 [00:00<00:00, 3081.22it/s]\n",
      "100%|██████████████████████████████████████████████████████████████████████| 5/5 [00:00<00:00, 3065.56it/s]\n",
      "100%|██████████████████████████████████████████████████████████████████████| 5/5 [00:00<00:00, 2993.79it/s]\n",
      "100%|██████████████████████████████████████████████████████████████████████| 4/4 [00:00<00:00, 3046.53it/s]\n",
      "100%|██████████████████████████████████████████████████████████████████████| 4/4 [00:00<00:00, 2932.57it/s]\n",
      "100%|██████████████████████████████████████████████████████████████████████| 4/4 [00:00<00:00, 2793.41it/s]\n",
      "100%|██████████████████████████████████████████████████████████████████████| 4/4 [00:00<00:00, 2834.47it/s]\n",
      "100%|██████████████████████████████████████████████████████████████████████| 4/4 [00:00<00:00, 3000.75it/s]\n",
      "100%|██████████████████████████████████████████████████████████████████████| 4/4 [00:00<00:00, 1004.74it/s]\n",
      "100%|██████████████████████████████████████████████████████████████████████| 4/4 [00:00<00:00, 2624.72it/s]\n",
      "100%|██████████████████████████████████████████████████████████████████████| 4/4 [00:00<00:00, 2843.11it/s]\n",
      "100%|██████████████████████████████████████████████████████████████████████| 4/4 [00:00<00:00, 2745.41it/s]\n",
      "100%|██████████████████████████████████████████████████████████████████████| 4/4 [00:00<00:00, 2926.43it/s]\n",
      "100%|██████████████████████████████████████████████████████████████████████| 6/6 [00:00<00:00, 3275.09it/s]\n",
      "100%|██████████████████████████████████████████████████████████████████████| 5/5 [00:00<00:00, 3048.19it/s]\n",
      "100%|██████████████████████████████████████████████████████████████████████| 4/4 [00:00<00:00, 2691.68it/s]\n",
      "100%|██████████████████████████████████████████████████████████████████████| 4/4 [00:00<00:00, 2854.72it/s]\n",
      "100%|██████████████████████████████████████████████████████████████████████| 6/6 [00:00<00:00, 3327.93it/s]\n",
      "100%|██████████████████████████████████████████████████████████████████████| 5/5 [00:00<00:00, 2889.83it/s]\n",
      "100%|██████████████████████████████████████████████████████████████████████| 6/6 [00:00<00:00, 3188.37it/s]\n",
      "100%|██████████████████████████████████████████████████████████████████████| 5/5 [00:00<00:00, 3099.54it/s]\n",
      "100%|██████████████████████████████████████████████████████████████████████| 4/4 [00:00<00:00, 2801.34it/s]\n",
      "100%|██████████████████████████████████████████████████████████████████████| 4/4 [00:00<00:00, 2785.06it/s]\n",
      "100%|██████████████████████████████████████████████████████████████████████| 4/4 [00:00<00:00, 2774.01it/s]\n",
      "100%|██████████████████████████████████████████████████████████████████████| 5/5 [00:00<00:00, 2871.63it/s]\n",
      "100%|██████████████████████████████████████████████████████████████████████| 6/6 [00:00<00:00, 3081.78it/s]\n",
      "100%|██████████████████████████████████████████████████████████████████████| 4/4 [00:00<00:00, 2828.73it/s]\n",
      "100%|██████████████████████████████████████████████████████████████████████| 5/5 [00:00<00:00, 2414.40it/s]\n",
      "100%|██████████████████████████████████████████████████████████████████████| 4/4 [00:00<00:00, 2906.66it/s]\n",
      "100%|██████████████████████████████████████████████████████████████████████| 4/4 [00:00<00:00, 2732.00it/s]\n",
      "100%|██████████████████████████████████████████████████████████████████████| 5/5 [00:00<00:00, 2762.32it/s]\n",
      "100%|██████████████████████████████████████████████████████████████████████| 4/4 [00:00<00:00, 2947.51it/s]\n",
      "100%|██████████████████████████████████████████████████████████████████████| 4/4 [00:00<00:00, 2605.56it/s]\n",
      "100%|██████████████████████████████████████████████████████████████████████| 4/4 [00:00<00:00, 2439.26it/s]\n",
      "100%|██████████████████████████████████████████████████████████████████████| 5/5 [00:00<00:00, 2965.43it/s]\n",
      "100%|██████████████████████████████████████████████████████████████████████| 4/4 [00:00<00:00, 2789.23it/s]\n",
      "100%|██████████████████████████████████████████████████████████████████████| 4/4 [00:00<00:00, 2869.37it/s]\n",
      "100%|██████████████████████████████████████████████████████████████████████| 4/4 [00:00<00:00, 2894.12it/s]\n",
      "100%|██████████████████████████████████████████████████████████████████████| 5/5 [00:00<00:00, 3130.54it/s]\n",
      "100%|██████████████████████████████████████████████████████████████████████| 5/5 [00:00<00:00, 3196.88it/s]\n",
      "100%|██████████████████████████████████████████████████████████████████████| 4/4 [00:00<00:00, 2717.40it/s]\n",
      "100%|██████████████████████████████████████████████████████████████████████| 5/5 [00:00<00:00, 3050.85it/s]\n",
      "100%|██████████████████████████████████████████████████████████████████████| 4/4 [00:00<00:00, 3018.57it/s]\n",
      "100%|██████████████████████████████████████████████████████████████████████| 5/5 [00:00<00:00, 3216.98it/s]\n",
      "100%|██████████████████████████████████████████████████████████████████████| 5/5 [00:00<00:00, 3115.20it/s]\n",
      "100%|██████████████████████████████████████████████████████████████████████| 6/6 [00:00<00:00, 3476.42it/s]\n",
      "100%|██████████████████████████████████████████████████████████████████████| 5/5 [00:00<00:00, 2783.95it/s]\n",
      "100%|██████████████████████████████████████████████████████████████████████| 5/5 [00:00<00:00, 3028.82it/s]\n",
      "100%|██████████████████████████████████████████████████████████████████████| 4/4 [00:00<00:00, 2843.11it/s]\n",
      "100%|██████████████████████████████████████████████████████████████████████| 4/4 [00:00<00:00, 2793.41it/s]\n",
      "100%|██████████████████████████████████████████████████████████████████████| 4/4 [00:00<00:00, 2848.91it/s]\n",
      "100%|██████████████████████████████████████████████████████████████████████| 5/5 [00:00<00:00, 3011.85it/s]\n",
      "100%|██████████████████████████████████████████████████████████████████████| 7/7 [00:00<00:00, 3295.56it/s]\n",
      "100%|██████████████████████████████████████████████████████████████████████| 5/5 [00:00<00:00, 3198.83it/s]\n",
      "100%|███████████████████████████████████████████████████████████████████████| 4/4 [00:00<00:00, 843.88it/s]\n",
      "100%|██████████████████████████████████████████████████████████████████████| 4/4 [00:00<00:00, 2805.55it/s]\n",
      "100%|██████████████████████████████████████████████████████████████████████| 6/6 [00:00<00:00, 2970.12it/s]\n",
      "100%|██████████████████████████████████████████████████████████████████████| 4/4 [00:00<00:00, 2945.44it/s]\n",
      "100%|██████████████████████████████████████████████████████████████████████| 4/4 [00:00<00:00, 2825.40it/s]\n",
      "100%|██████████████████████████████████████████████████████████████████████| 5/5 [00:00<00:00, 2918.79it/s]\n",
      "100%|██████████████████████████████████████████████████████████████████████| 4/4 [00:00<00:00, 2726.67it/s]\n",
      "100%|██████████████████████████████████████████████████████████████████████| 4/4 [00:00<00:00, 2947.51it/s]\n",
      "100%|██████████████████████████████████████████████████████████████████████| 4/4 [00:00<00:00, 2689.95it/s]\n",
      "100%|██████████████████████████████████████████████████████████████████████| 5/5 [00:00<00:00, 2900.63it/s]\n",
      "100%|██████████████████████████████████████████████████████████████████████| 5/5 [00:00<00:00, 2899.02it/s]\n",
      "100%|██████████████████████████████████████████████████████████████████████| 4/4 [00:00<00:00, 2859.10it/s]\n",
      "100%|██████████████████████████████████████████████████████████████████████| 5/5 [00:00<00:00, 2837.82it/s]\n",
      "100%|██████████████████████████████████████████████████████████████████████| 4/4 [00:00<00:00, 3103.44it/s]\n",
      "100%|██████████████████████████████████████████████████████████████████████| 4/4 [00:00<00:00, 2679.21it/s]\n",
      "100%|██████████████████████████████████████████████████████████████████████| 4/4 [00:00<00:00, 2850.84it/s]\n",
      "100%|██████████████████████████████████████████████████████████████████████| 4/4 [00:00<00:00, 2724.46it/s]\n",
      "100%|██████████████████████████████████████████████████████████████████████| 4/4 [00:00<00:00, 2952.18it/s]\n",
      "100%|██████████████████████████████████████████████████████████████████████| 5/5 [00:00<00:00, 2375.57it/s]\n",
      "100%|██████████████████████████████████████████████████████████████████████| 5/5 [00:00<00:00, 2346.33it/s]\n",
      "100%|██████████████████████████████████████████████████████████████████████| 4/4 [00:00<00:00, 2478.17it/s]\n",
      "100%|██████████████████████████████████████████████████████████████████████| 5/5 [00:00<00:00, 2813.84it/s]\n",
      "100%|██████████████████████████████████████████████████████████████████████| 4/4 [00:00<00:00, 2843.11it/s]\n",
      "100%|██████████████████████████████████████████████████████████████████████| 4/4 [00:00<00:00, 2898.62it/s]\n",
      "100%|██████████████████████████████████████████████████████████████████████| 4/4 [00:00<00:00, 2827.30it/s]\n",
      "100%|██████████████████████████████████████████████████████████████████████| 4/4 [00:00<00:00, 2930.01it/s]\n",
      "100%|██████████████████████████████████████████████████████████████████████| 4/4 [00:00<00:00, 2976.27it/s]\n",
      "100%|██████████████████████████████████████████████████████████████████████| 4/4 [00:00<00:00, 2762.59it/s]\n",
      "100%|██████████████████████████████████████████████████████████████████████| 5/5 [00:00<00:00, 3026.63it/s]\n",
      "100%|██████████████████████████████████████████████████████████████████████| 5/5 [00:00<00:00, 2986.97it/s]\n",
      "100%|██████████████████████████████████████████████████████████████████████| 6/6 [00:00<00:00, 3382.50it/s]\n",
      "100%|██████████████████████████████████████████████████████████████████████| 6/6 [00:00<00:00, 3139.45it/s]\n",
      "100%|██████████████████████████████████████████████████████████████████████| 4/4 [00:00<00:00, 2771.72it/s]\n",
      "100%|██████████████████████████████████████████████████████████████████████| 4/4 [00:00<00:00, 2732.00it/s]\n",
      "100%|██████████████████████████████████████████████████████████████████████| 4/4 [00:00<00:00, 2809.31it/s]\n",
      "100%|██████████████████████████████████████████████████████████████████████| 4/4 [00:00<00:00, 2739.14it/s]\n",
      "100%|██████████████████████████████████████████████████████████████████████| 5/5 [00:00<00:00, 2600.31it/s]\n",
      "100%|██████████████████████████████████████████████████████████████████████| 5/5 [00:00<00:00, 3001.51it/s]\n",
      "100%|██████████████████████████████████████████████████████████████████████| 4/4 [00:00<00:00, 2686.07it/s]\n",
      "100%|██████████████████████████████████████████████████████████████████████| 5/5 [00:00<00:00, 2954.98it/s]\n",
      "100%|██████████████████████████████████████████████████████████████████████| 5/5 [00:00<00:00, 3249.38it/s]\n",
      "100%|██████████████████████████████████████████████████████████████████████| 4/4 [00:00<00:00, 2863.01it/s]\n",
      "100%|██████████████████████████████████████████████████████████████████████| 4/4 [00:00<00:00, 3128.91it/s]\n",
      "100%|██████████████████████████████████████████████████████████████████████| 5/5 [00:00<00:00, 3040.23it/s]\n",
      "100%|██████████████████████████████████████████████████████████████████████| 4/4 [00:00<00:00, 3025.65it/s]\n",
      "100%|██████████████████████████████████████████████████████████████████████| 4/4 [00:00<00:00, 2896.12it/s]\n",
      "100%|██████████████████████████████████████████████████████████████████████| 4/4 [00:00<00:00, 2923.88it/s]\n",
      "100%|██████████████████████████████████████████████████████████████████████| 4/4 [00:00<00:00, 2838.78it/s]\n",
      "100%|██████████████████████████████████████████████████████████████████████| 5/5 [00:00<00:00, 2756.51it/s]\n",
      "100%|██████████████████████████████████████████████████████████████████████| 4/4 [00:00<00:00, 2943.89it/s]\n",
      "100%|██████████████████████████████████████████████████████████████████████| 4/4 [00:00<00:00, 2133.15it/s]\n",
      "100%|██████████████████████████████████████████████████████████████████████| 6/6 [00:00<00:00, 2994.15it/s]\n",
      "100%|██████████████████████████████████████████████████████████████████████| 4/4 [00:00<00:00, 2659.25it/s]\n",
      "100%|██████████████████████████████████████████████████████████████████████| 5/5 [00:00<00:00, 2959.15it/s]\n",
      "100%|██████████████████████████████████████████████████████████████████████| 5/5 [00:00<00:00, 3216.98it/s]\n",
      "100%|██████████████████████████████████████████████████████████████████████| 4/4 [00:00<00:00, 2819.23it/s]\n",
      "100%|██████████████████████████████████████████████████████████████████████| 5/5 [00:00<00:00, 3039.35it/s]\n",
      "100%|██████████████████████████████████████████████████████████████████████| 4/4 [00:00<00:00, 2857.64it/s]\n",
      "100%|██████████████████████████████████████████████████████████████████████| 4/4 [00:00<00:00, 2907.16it/s]\n",
      "100%|██████████████████████████████████████████████████████████████████████| 4/4 [00:00<00:00, 2814.97it/s]\n",
      "100%|██████████████████████████████████████████████████████████████████████| 5/5 [00:00<00:00, 2857.16it/s]\n",
      "100%|██████████████████████████████████████████████████████████████████████| 5/5 [00:00<00:00, 2839.36it/s]\n",
      "100%|██████████████████████████████████████████████████████████████████████| 4/4 [00:00<00:00, 2873.80it/s]\n",
      "100%|██████████████████████████████████████████████████████████████████████| 4/4 [00:00<00:00, 2896.62it/s]\n",
      "100%|██████████████████████████████████████████████████████████████████████| 4/4 [00:00<00:00, 2840.71it/s]\n",
      "100%|██████████████████████████████████████████████████████████████████████| 4/4 [00:00<00:00, 2803.21it/s]\n",
      "100%|██████████████████████████████████████████████████████████████████████| 4/4 [00:00<00:00, 1958.58it/s]\n",
      "100%|██████████████████████████████████████████████████████████████████████| 6/6 [00:00<00:00, 2491.67it/s]\n",
      "100%|██████████████████████████████████████████████████████████████████████| 5/5 [00:00<00:00, 2958.32it/s]\n",
      "100%|██████████████████████████████████████████████████████████████████████| 6/6 [00:00<00:00, 3213.62it/s]\n",
      "100%|████████████████████████████████████████████████████████████████| 3733/3733 [00:02<00:00, 1424.51it/s]\n"
     ]
    }
   ],
   "source": [
    "vest_base = do_smart_repair(vest_base, min_rook_length = 30.5)"
   ]
  },
  {
   "cell_type": "markdown",
   "id": "9f38f172",
   "metadata": {},
   "source": [
    "### If it is true for maup doctor, we will use it as the base vest data."
   ]
  },
  {
   "cell_type": "code",
   "execution_count": 25,
   "id": "10e48467-d392-4312-b15f-bf18106f354c",
   "metadata": {},
   "outputs": [
    {
     "name": "stderr",
     "output_type": "stream",
     "text": [
      "100%|█████████████████████████████████████████████████████████████████| 3733/3733 [00:03<00:00, 947.93it/s]\n",
      "100%|█████████████████████████████████████████████████████████████████| 3733/3733 [00:17<00:00, 213.28it/s]\n"
     ]
    }
   ],
   "source": [
    "# vap and population have the same GEOID20\n",
    "blocks_to_precincts_assignment = maup.assign(population_df.geometry, vest_base.geometry)"
   ]
  },
  {
   "cell_type": "code",
   "execution_count": 26,
   "id": "ac015a92-391c-48c4-b26a-5c511b58e3ab",
   "metadata": {},
   "outputs": [],
   "source": [
    "pop_col = ['TOTPOP', 'HISP', 'NH_WHITE', 'NH_BLACK', 'NH_AMIN', 'NH_ASIAN', 'NH_NHPI', 'NH_OTHER', 'NH_2MORE', 'H_WHITE', 'H_BLACK', 'H_AMIN', 'H_ASIAN', 'H_NHPI', 'H_OTHER', 'H_2MORE', 'VAP', 'HVAP', 'WVAP', 'BVAP', 'AMINVAP', 'ASIANVAP', 'NHPIVAP', 'OTHERVAP', '2MOREVAP']"
   ]
  },
  {
   "cell_type": "code",
   "execution_count": 27,
   "id": "f91b6866-727d-40c9-9d43-4a0e6ae8c0e2",
   "metadata": {},
   "outputs": [],
   "source": [
    "vest_base[pop_col] = population_df[pop_col].groupby(blocks_to_precincts_assignment).sum()"
   ]
  },
  {
   "cell_type": "code",
   "execution_count": 28,
   "id": "ead5880d-f5f1-44f0-8024-ff4789ff2f15",
   "metadata": {},
   "outputs": [],
   "source": [
    "# election_df = gpd.GeoDataFrame(vest_base, crs=\"EPSG:4269\")\n",
    "election_df = gpd.GeoDataFrame(vest_base)"
   ]
  },
  {
   "cell_type": "markdown",
   "id": "cf1aefdb-30e0-4d1f-9261-01a513f4e1d3",
   "metadata": {},
   "source": [
    "### Check if the population agrees"
   ]
  },
  {
   "cell_type": "code",
   "execution_count": 29,
   "id": "d6ff200d-d1d6-4f7d-ba3b-142cddc0eb85",
   "metadata": {},
   "outputs": [
    {
     "name": "stdout",
     "output_type": "stream",
     "text": [
      "population agrees\n"
     ]
    }
   ],
   "source": [
    "check_population(population_df, vest_base)"
   ]
  },
  {
   "cell_type": "markdown",
   "id": "2b677d1a-cbe3-47aa-ae8a-761d0dfc7ad1",
   "metadata": {},
   "source": [
    "# Add more vest data"
   ]
  },
  {
   "cell_type": "code",
   "execution_count": 30,
   "id": "a404637a-46a1-41f4-bd81-6842a9a7274c",
   "metadata": {},
   "outputs": [],
   "source": [
    "vest18 = gpd.read_file(vest18_data)"
   ]
  },
  {
   "cell_type": "code",
   "execution_count": 31,
   "id": "d94c3765-b784-4e9b-9b29-0c8a3bbdbf0d",
   "metadata": {},
   "outputs": [
    {
     "data": {
      "text/plain": [
       "Index(['STATEFP', 'COUNTYFP', 'NAME', 'G18USSRHAW', 'G18USSDMCC', 'G18USSLCAM',\n",
       "       'G18USSGCRA', 'G18USSIODE', 'G18AUDRMCD', 'G18AUDDGAL', 'G18AUDLOTO',\n",
       "       'G18AUDGFIT', 'G18AUDCLUE', 'geometry'],\n",
       "      dtype='object')"
      ]
     },
     "execution_count": 31,
     "metadata": {},
     "output_type": "execute_result"
    }
   ],
   "source": [
    "vest18.columns"
   ]
  },
  {
   "cell_type": "code",
   "execution_count": 32,
   "id": "5528f64a-1b5c-4b9f-b7cf-aefa45d4d25f",
   "metadata": {},
   "outputs": [
    {
     "name": "stderr",
     "output_type": "stream",
     "text": [
      "100%|████████████████████████████████████████████████████████████████| 3274/3274 [00:02<00:00, 1202.08it/s]\n"
     ]
    },
    {
     "name": "stdout",
     "output_type": "stream",
     "text": [
      "There are 8 overlaps.\n",
      "Snapping all geometries to a grid with precision 10^( -5 ) to avoid GEOS errors.\n",
      "Identifying overlaps...\n"
     ]
    },
    {
     "name": "stderr",
     "output_type": "stream",
     "text": [
      "100%|████████████████████████████████████████████████████████████████| 3974/3974 [00:01<00:00, 3718.63it/s]\n"
     ]
    },
    {
     "name": "stdout",
     "output_type": "stream",
     "text": [
      "Resolving overlaps...\n",
      "Assigning order 2 pieces...\n",
      "Filling gaps...\n"
     ]
    },
    {
     "name": "stderr",
     "output_type": "stream",
     "text": [
      "Gaps to simplify: 100%|██████████████████████████████████████████████████████| 1/1 [00:00<00:00,  4.45it/s]\n",
      "Gaps to fill: 0it [00:00, ?it/s]\n",
      "100%|████████████████████████████████████████████████████████████████| 3274/3274 [00:02<00:00, 1181.34it/s]\n",
      "100%|█████████████████████████████████████████████████████████████████| 3274/3274 [00:04<00:00, 728.01it/s]\n",
      "100%|█████████████████████████████████████████████████████████████████| 3274/3274 [00:18<00:00, 176.36it/s]\n",
      "100%|█████████████████████████████████████████████████████████████████| 3733/3733 [00:04<00:00, 752.88it/s]\n",
      "100%|█████████████████████████████████████████████████████████████████| 3733/3733 [00:15<00:00, 247.73it/s]\n"
     ]
    },
    {
     "name": "stdout",
     "output_type": "stream",
     "text": [
      "population agrees\n"
     ]
    }
   ],
   "source": [
    "# check the result here\n",
    "start_col = 3\n",
    "election_df = add_vest(vest18, election_df, '18', population_df, start_col)"
   ]
  },
  {
   "cell_type": "markdown",
   "id": "404986b1-549a-4014-8d2a-0fefe7c7179a",
   "metadata": {},
   "source": [
    "### vest 16"
   ]
  },
  {
   "cell_type": "code",
   "execution_count": 33,
   "id": "4d7476dd-c003-4fa5-ab9b-8ed6f75bed39",
   "metadata": {
    "tags": []
   },
   "outputs": [
    {
     "data": {
      "text/plain": [
       "Index(['STATEFP', 'COUNTYFP', 'NAME', 'G16PRERTRU', 'G16PREDCLI', 'G16PRELJOH',\n",
       "       'G16PREGSTE', 'G16PRECCAS', 'G16USSRBLU', 'G16USSDKAN', 'G16USSLDIN',\n",
       "       'G16USSGMCF', 'G16USSCRYM', 'G16GOVRGRE', 'G16GOVDKOS', 'G16GOVLSPR',\n",
       "       'G16GOVGFIT', 'G16GOVITUR', 'G16LTGRPAR', 'G16LTGDCAR', 'G16LTGLHED',\n",
       "       'G16LTGGLEA', 'G16ATGRHAW', 'G16ATGDHEN', 'G16TRERSCH', 'G16TREDBAK',\n",
       "       'G16TRELOTO', 'G16TREGHEX', 'G16SOSRASH', 'G16SOSDSMI', 'G16SOSLMOR',\n",
       "       'geometry'],\n",
       "      dtype='object')"
      ]
     },
     "execution_count": 33,
     "metadata": {},
     "output_type": "execute_result"
    }
   ],
   "source": [
    "vest16 = gpd.read_file(vest16_data)\n",
    "vest16.columns"
   ]
  },
  {
   "cell_type": "code",
   "execution_count": 34,
   "id": "579d1844-0a2c-4bf4-889d-a2234738cd2a",
   "metadata": {},
   "outputs": [
    {
     "name": "stderr",
     "output_type": "stream",
     "text": [
      "100%|████████████████████████████████████████████████████████████████| 3324/3324 [00:02<00:00, 1210.69it/s]\n"
     ]
    },
    {
     "name": "stdout",
     "output_type": "stream",
     "text": [
      "There are 83 overlaps.\n",
      "Snapping all geometries to a grid with precision 10^( -5 ) to avoid GEOS errors.\n",
      "Identifying overlaps...\n"
     ]
    },
    {
     "name": "stderr",
     "output_type": "stream",
     "text": [
      "100%|████████████████████████████████████████████████████████████████| 4113/4113 [00:01<00:00, 3584.48it/s]\n"
     ]
    },
    {
     "name": "stdout",
     "output_type": "stream",
     "text": [
      "Resolving overlaps...\n",
      "Assigning order 2 pieces...\n",
      "Assigning order 3 pieces...\n",
      "Filling gaps...\n"
     ]
    },
    {
     "name": "stderr",
     "output_type": "stream",
     "text": [
      "Gaps to simplify: 100%|██████████████████████████████████████████████████████| 1/1 [00:00<00:00,  4.33it/s]\n",
      "Gaps to fill: 0it [00:00, ?it/s]\n",
      "100%|████████████████████████████████████████████████████████████████| 3324/3324 [00:03<00:00, 1006.84it/s]\n",
      "100%|█████████████████████████████████████████████████████████████████| 3324/3324 [00:04<00:00, 770.55it/s]\n",
      "100%|█████████████████████████████████████████████████████████████████| 3324/3324 [00:16<00:00, 201.01it/s]\n",
      "100%|█████████████████████████████████████████████████████████████████| 3733/3733 [00:04<00:00, 898.64it/s]\n",
      "100%|█████████████████████████████████████████████████████████████████| 3733/3733 [00:14<00:00, 250.80it/s]\n"
     ]
    },
    {
     "name": "stdout",
     "output_type": "stream",
     "text": [
      "population agrees\n"
     ]
    }
   ],
   "source": [
    "start_col = 3\n",
    "election_df = add_vest(vest16, election_df, '16', population_df, start_col)"
   ]
  },
  {
   "cell_type": "markdown",
   "id": "10cf83d4-6005-485b-8193-c0149869a97e",
   "metadata": {},
   "source": [
    "## Add the district data"
   ]
  },
  {
   "cell_type": "code",
   "execution_count": 35,
   "id": "a0ccb606-7fe4-4b0a-998b-337d31f4abc5",
   "metadata": {},
   "outputs": [],
   "source": [
    "cong_df = gpd.read_file(cd_data)\n",
    "cong_df = cong_df.to_crs(cong_df.estimate_utm_crs())\n",
    "send = gpd.read_file(send_data)\n",
    "send = send.to_crs(send.estimate_utm_crs())\n",
    "hdist = gpd.read_file(hdist_data)\n",
    "hdist = hdist.to_crs(hdist.estimate_utm_crs())"
   ]
  },
  {
   "cell_type": "code",
   "execution_count": 36,
   "id": "dd5dba22-3d02-4361-9408-db49f0a1ac4d",
   "metadata": {},
   "outputs": [
    {
     "data": {
      "text/html": [
       "<div>\n",
       "<style scoped>\n",
       "    .dataframe tbody tr th:only-of-type {\n",
       "        vertical-align: middle;\n",
       "    }\n",
       "\n",
       "    .dataframe tbody tr th {\n",
       "        vertical-align: top;\n",
       "    }\n",
       "\n",
       "    .dataframe thead th {\n",
       "        text-align: right;\n",
       "    }\n",
       "</style>\n",
       "<table border=\"1\" class=\"dataframe\">\n",
       "  <thead>\n",
       "    <tr style=\"text-align: right;\">\n",
       "      <th></th>\n",
       "      <th>ID</th>\n",
       "      <th>AREA</th>\n",
       "      <th>DISTRICT</th>\n",
       "      <th>MEMBERS</th>\n",
       "      <th>LOCKED</th>\n",
       "      <th>NAME</th>\n",
       "      <th>POPULATION</th>\n",
       "      <th>IDEAL_VALU</th>\n",
       "      <th>DEVIATION</th>\n",
       "      <th>F_DEVIATIO</th>\n",
       "      <th>DISTRICT_L</th>\n",
       "      <th>geometry</th>\n",
       "    </tr>\n",
       "  </thead>\n",
       "  <tbody>\n",
       "    <tr>\n",
       "      <th>0</th>\n",
       "      <td>1</td>\n",
       "      <td>258.333252</td>\n",
       "      <td>1</td>\n",
       "      <td>1.0</td>\n",
       "      <td>None</td>\n",
       "      <td>None</td>\n",
       "      <td>769364</td>\n",
       "      <td>769364.0</td>\n",
       "      <td>0.0</td>\n",
       "      <td>0.0</td>\n",
       "      <td>1|0%</td>\n",
       "      <td>POLYGON ((724277.586 4283686.068, 724274.779 4...</td>\n",
       "    </tr>\n",
       "    <tr>\n",
       "      <th>1</th>\n",
       "      <td>2</td>\n",
       "      <td>1819.885010</td>\n",
       "      <td>2</td>\n",
       "      <td>1.0</td>\n",
       "      <td>None</td>\n",
       "      <td>None</td>\n",
       "      <td>769364</td>\n",
       "      <td>769364.0</td>\n",
       "      <td>0.0</td>\n",
       "      <td>0.0</td>\n",
       "      <td>2|0%</td>\n",
       "      <td>POLYGON ((701455.029 4293272.208, 701452.376 4...</td>\n",
       "    </tr>\n",
       "    <tr>\n",
       "      <th>2</th>\n",
       "      <td>3</td>\n",
       "      <td>7692.436030</td>\n",
       "      <td>3</td>\n",
       "      <td>1.0</td>\n",
       "      <td>None</td>\n",
       "      <td>None</td>\n",
       "      <td>769364</td>\n",
       "      <td>769364.0</td>\n",
       "      <td>0.0</td>\n",
       "      <td>0.0</td>\n",
       "      <td>3|0%</td>\n",
       "      <td>POLYGON ((702548.398 4312073.906, 702579.992 4...</td>\n",
       "    </tr>\n",
       "    <tr>\n",
       "      <th>3</th>\n",
       "      <td>4</td>\n",
       "      <td>14654.767500</td>\n",
       "      <td>4</td>\n",
       "      <td>1.0</td>\n",
       "      <td>None</td>\n",
       "      <td>None</td>\n",
       "      <td>769364</td>\n",
       "      <td>769364.0</td>\n",
       "      <td>0.0</td>\n",
       "      <td>0.0</td>\n",
       "      <td>4|0%</td>\n",
       "      <td>POLYGON ((526619.724 4230493.997, 526488.229 4...</td>\n",
       "    </tr>\n",
       "    <tr>\n",
       "      <th>4</th>\n",
       "      <td>5</td>\n",
       "      <td>431.047668</td>\n",
       "      <td>5</td>\n",
       "      <td>1.0</td>\n",
       "      <td>None</td>\n",
       "      <td>None</td>\n",
       "      <td>769364</td>\n",
       "      <td>769364.0</td>\n",
       "      <td>0.0</td>\n",
       "      <td>0.0</td>\n",
       "      <td>5|0%</td>\n",
       "      <td>POLYGON ((389062.782 4299248.855, 388244.676 4...</td>\n",
       "    </tr>\n",
       "  </tbody>\n",
       "</table>\n",
       "</div>"
      ],
      "text/plain": [
       "   ID          AREA DISTRICT  MEMBERS LOCKED  NAME  POPULATION  IDEAL_VALU  \\\n",
       "0   1    258.333252        1      1.0   None  None      769364    769364.0   \n",
       "1   2   1819.885010        2      1.0   None  None      769364    769364.0   \n",
       "2   3   7692.436030        3      1.0   None  None      769364    769364.0   \n",
       "3   4  14654.767500        4      1.0   None  None      769364    769364.0   \n",
       "4   5    431.047668        5      1.0   None  None      769364    769364.0   \n",
       "\n",
       "   DEVIATION  F_DEVIATIO DISTRICT_L  \\\n",
       "0        0.0         0.0       1|0%   \n",
       "1        0.0         0.0       2|0%   \n",
       "2        0.0         0.0       3|0%   \n",
       "3        0.0         0.0       4|0%   \n",
       "4        0.0         0.0       5|0%   \n",
       "\n",
       "                                            geometry  \n",
       "0  POLYGON ((724277.586 4283686.068, 724274.779 4...  \n",
       "1  POLYGON ((701455.029 4293272.208, 701452.376 4...  \n",
       "2  POLYGON ((702548.398 4312073.906, 702579.992 4...  \n",
       "3  POLYGON ((526619.724 4230493.997, 526488.229 4...  \n",
       "4  POLYGON ((389062.782 4299248.855, 388244.676 4...  "
      ]
     },
     "execution_count": 36,
     "metadata": {},
     "output_type": "execute_result"
    }
   ],
   "source": [
    "cong_df.head()"
   ]
  },
  {
   "cell_type": "code",
   "execution_count": 37,
   "id": "72749f5b-c569-4a6b-a068-663267c845e6",
   "metadata": {},
   "outputs": [
    {
     "data": {
      "text/html": [
       "<div>\n",
       "<style scoped>\n",
       "    .dataframe tbody tr th:only-of-type {\n",
       "        vertical-align: middle;\n",
       "    }\n",
       "\n",
       "    .dataframe tbody tr th {\n",
       "        vertical-align: top;\n",
       "    }\n",
       "\n",
       "    .dataframe thead th {\n",
       "        text-align: right;\n",
       "    }\n",
       "</style>\n",
       "<table border=\"1\" class=\"dataframe\">\n",
       "  <thead>\n",
       "    <tr style=\"text-align: right;\">\n",
       "      <th></th>\n",
       "      <th>ID</th>\n",
       "      <th>AREA</th>\n",
       "      <th>DISTRICT</th>\n",
       "      <th>MEMBERS</th>\n",
       "      <th>LOCKED</th>\n",
       "      <th>NAME</th>\n",
       "      <th>POPULATION</th>\n",
       "      <th>IDEAL_VALU</th>\n",
       "      <th>DEVIATION</th>\n",
       "      <th>F_DEVIATIO</th>\n",
       "      <th>...</th>\n",
       "      <th>F_PERFINDE</th>\n",
       "      <th>PERFINDEX1</th>\n",
       "      <th>F_PERFIND1</th>\n",
       "      <th>PERFINDEX2</th>\n",
       "      <th>PERFINDEX3</th>\n",
       "      <th>F_PERFIND2</th>\n",
       "      <th>PERFINDEX4</th>\n",
       "      <th>F_PERFIND3</th>\n",
       "      <th>PERFINDEX5</th>\n",
       "      <th>geometry</th>\n",
       "    </tr>\n",
       "  </thead>\n",
       "  <tbody>\n",
       "    <tr>\n",
       "      <th>0</th>\n",
       "      <td>2</td>\n",
       "      <td>80.03</td>\n",
       "      <td>SD14</td>\n",
       "      <td>1.0</td>\n",
       "      <td>None</td>\n",
       "      <td>None</td>\n",
       "      <td>185861</td>\n",
       "      <td>181027.0</td>\n",
       "      <td>4834.0</td>\n",
       "      <td>0.0267</td>\n",
       "      <td>...</td>\n",
       "      <td>0.7887</td>\n",
       "      <td>160258.5738</td>\n",
       "      <td>0.2113</td>\n",
       "      <td>758581.3127</td>\n",
       "      <td>376688.6996</td>\n",
       "      <td>0.7817</td>\n",
       "      <td>105199.5418</td>\n",
       "      <td>0.2183</td>\n",
       "      <td>481888.2414</td>\n",
       "      <td>POLYGON ((736396.121 4288963.569, 736373.196 4...</td>\n",
       "    </tr>\n",
       "    <tr>\n",
       "      <th>1</th>\n",
       "      <td>4</td>\n",
       "      <td>83.23</td>\n",
       "      <td>SD13</td>\n",
       "      <td>1.0</td>\n",
       "      <td>None</td>\n",
       "      <td>None</td>\n",
       "      <td>185863</td>\n",
       "      <td>181027.0</td>\n",
       "      <td>4836.0</td>\n",
       "      <td>0.0267</td>\n",
       "      <td>...</td>\n",
       "      <td>0.8166</td>\n",
       "      <td>140598.1802</td>\n",
       "      <td>0.1834</td>\n",
       "      <td>766789.8417</td>\n",
       "      <td>393529.0964</td>\n",
       "      <td>0.8131</td>\n",
       "      <td>90441.8049</td>\n",
       "      <td>0.1869</td>\n",
       "      <td>483970.9013</td>\n",
       "      <td>POLYGON ((736264.894 4288133.156, 736233.396 4...</td>\n",
       "    </tr>\n",
       "    <tr>\n",
       "      <th>2</th>\n",
       "      <td>8</td>\n",
       "      <td>45.07</td>\n",
       "      <td>SD5</td>\n",
       "      <td>1.0</td>\n",
       "      <td>None</td>\n",
       "      <td>None</td>\n",
       "      <td>180730</td>\n",
       "      <td>181027.0</td>\n",
       "      <td>-297.0</td>\n",
       "      <td>-0.0016</td>\n",
       "      <td>...</td>\n",
       "      <td>0.9115</td>\n",
       "      <td>57341.6639</td>\n",
       "      <td>0.0885</td>\n",
       "      <td>647598.4425</td>\n",
       "      <td>363370.7868</td>\n",
       "      <td>0.9035</td>\n",
       "      <td>38809.0459</td>\n",
       "      <td>0.0965</td>\n",
       "      <td>402179.8327</td>\n",
       "      <td>POLYGON ((746182.472 4295370.706, 746174.577 4...</td>\n",
       "    </tr>\n",
       "    <tr>\n",
       "      <th>3</th>\n",
       "      <td>10</td>\n",
       "      <td>34.31</td>\n",
       "      <td>SD4</td>\n",
       "      <td>1.0</td>\n",
       "      <td>None</td>\n",
       "      <td>None</td>\n",
       "      <td>184241</td>\n",
       "      <td>181027.0</td>\n",
       "      <td>3214.0</td>\n",
       "      <td>0.0178</td>\n",
       "      <td>...</td>\n",
       "      <td>0.7292</td>\n",
       "      <td>217849.0733</td>\n",
       "      <td>0.2708</td>\n",
       "      <td>804505.1674</td>\n",
       "      <td>395167.0106</td>\n",
       "      <td>0.7315</td>\n",
       "      <td>145053.8345</td>\n",
       "      <td>0.2685</td>\n",
       "      <td>540220.8451</td>\n",
       "      <td>POLYGON ((740384.202 4276517.298, 740467.557 4...</td>\n",
       "    </tr>\n",
       "    <tr>\n",
       "      <th>4</th>\n",
       "      <td>12</td>\n",
       "      <td>59.94</td>\n",
       "      <td>SD1</td>\n",
       "      <td>1.0</td>\n",
       "      <td>None</td>\n",
       "      <td>None</td>\n",
       "      <td>184853</td>\n",
       "      <td>181027.0</td>\n",
       "      <td>3826.0</td>\n",
       "      <td>0.0211</td>\n",
       "      <td>...</td>\n",
       "      <td>0.5449</td>\n",
       "      <td>374550.2798</td>\n",
       "      <td>0.4551</td>\n",
       "      <td>823017.8952</td>\n",
       "      <td>301769.0488</td>\n",
       "      <td>0.5374</td>\n",
       "      <td>259731.8251</td>\n",
       "      <td>0.4626</td>\n",
       "      <td>561500.8739</td>\n",
       "      <td>POLYGON ((728278.587 4263539.062, 728280.525 4...</td>\n",
       "    </tr>\n",
       "  </tbody>\n",
       "</table>\n",
       "<p>5 rows × 25 columns</p>\n",
       "</div>"
      ],
      "text/plain": [
       "   ID   AREA DISTRICT  MEMBERS LOCKED  NAME  POPULATION  IDEAL_VALU  \\\n",
       "0   2  80.03     SD14      1.0   None  None      185861    181027.0   \n",
       "1   4  83.23     SD13      1.0   None  None      185863    181027.0   \n",
       "2   8  45.07      SD5      1.0   None  None      180730    181027.0   \n",
       "3  10  34.31      SD4      1.0   None  None      184241    181027.0   \n",
       "4  12  59.94      SD1      1.0   None  None      184853    181027.0   \n",
       "\n",
       "   DEVIATION  F_DEVIATIO  ...  F_PERFINDE   PERFINDEX1  F_PERFIND1  \\\n",
       "0     4834.0      0.0267  ...      0.7887  160258.5738      0.2113   \n",
       "1     4836.0      0.0267  ...      0.8166  140598.1802      0.1834   \n",
       "2     -297.0     -0.0016  ...      0.9115   57341.6639      0.0885   \n",
       "3     3214.0      0.0178  ...      0.7292  217849.0733      0.2708   \n",
       "4     3826.0      0.0211  ...      0.5449  374550.2798      0.4551   \n",
       "\n",
       "    PERFINDEX2   PERFINDEX3  F_PERFIND2   PERFINDEX4  F_PERFIND3   PERFINDEX5  \\\n",
       "0  758581.3127  376688.6996      0.7817  105199.5418      0.2183  481888.2414   \n",
       "1  766789.8417  393529.0964      0.8131   90441.8049      0.1869  483970.9013   \n",
       "2  647598.4425  363370.7868      0.9035   38809.0459      0.0965  402179.8327   \n",
       "3  804505.1674  395167.0106      0.7315  145053.8345      0.2685  540220.8451   \n",
       "4  823017.8952  301769.0488      0.5374  259731.8251      0.4626  561500.8739   \n",
       "\n",
       "                                            geometry  \n",
       "0  POLYGON ((736396.121 4288963.569, 736373.196 4...  \n",
       "1  POLYGON ((736264.894 4288133.156, 736233.396 4...  \n",
       "2  POLYGON ((746182.472 4295370.706, 746174.577 4...  \n",
       "3  POLYGON ((740384.202 4276517.298, 740467.557 4...  \n",
       "4  POLYGON ((728278.587 4263539.062, 728280.525 4...  \n",
       "\n",
       "[5 rows x 25 columns]"
      ]
     },
     "execution_count": 37,
     "metadata": {},
     "output_type": "execute_result"
    }
   ],
   "source": [
    "send.head()"
   ]
  },
  {
   "cell_type": "code",
   "execution_count": 38,
   "id": "9d988b70-56a2-4b00-9b81-36384c278f37",
   "metadata": {},
   "outputs": [
    {
     "data": {
      "text/html": [
       "<div>\n",
       "<style scoped>\n",
       "    .dataframe tbody tr th:only-of-type {\n",
       "        vertical-align: middle;\n",
       "    }\n",
       "\n",
       "    .dataframe tbody tr th {\n",
       "        vertical-align: top;\n",
       "    }\n",
       "\n",
       "    .dataframe thead th {\n",
       "        text-align: right;\n",
       "    }\n",
       "</style>\n",
       "<table border=\"1\" class=\"dataframe\">\n",
       "  <thead>\n",
       "    <tr style=\"text-align: right;\">\n",
       "      <th></th>\n",
       "      <th>ID</th>\n",
       "      <th>AREA</th>\n",
       "      <th>DISTRICT</th>\n",
       "      <th>MEMBERS</th>\n",
       "      <th>LOCKED</th>\n",
       "      <th>NAME</th>\n",
       "      <th>POPULATION</th>\n",
       "      <th>IDEAL_VALU</th>\n",
       "      <th>DEVIATION</th>\n",
       "      <th>F_DEVIATIO</th>\n",
       "      <th>DISTRICT_L</th>\n",
       "      <th>Dist_Num</th>\n",
       "      <th>Class</th>\n",
       "      <th>geometry</th>\n",
       "    </tr>\n",
       "  </thead>\n",
       "  <tbody>\n",
       "    <tr>\n",
       "      <th>0</th>\n",
       "      <td>1</td>\n",
       "      <td>2387.352050</td>\n",
       "      <td>1</td>\n",
       "      <td>1.0</td>\n",
       "      <td>None</td>\n",
       "      <td>None</td>\n",
       "      <td>36931</td>\n",
       "      <td>37760.0</td>\n",
       "      <td>-829.0</td>\n",
       "      <td>-0.021954</td>\n",
       "      <td>1|-2.2%</td>\n",
       "      <td>1</td>\n",
       "      <td>1</td>\n",
       "      <td>POLYGON ((361855.540 4492456.329, 361830.526 4...</td>\n",
       "    </tr>\n",
       "    <tr>\n",
       "      <th>1</th>\n",
       "      <td>2</td>\n",
       "      <td>23.070000</td>\n",
       "      <td>10</td>\n",
       "      <td>1.0</td>\n",
       "      <td>None</td>\n",
       "      <td>None</td>\n",
       "      <td>37451</td>\n",
       "      <td>37760.0</td>\n",
       "      <td>-309.0</td>\n",
       "      <td>-0.008200</td>\n",
       "      <td>10|-0.82%</td>\n",
       "      <td>10</td>\n",
       "      <td>2</td>\n",
       "      <td>POLYGON ((339394.602 4409561.901, 339518.218 4...</td>\n",
       "    </tr>\n",
       "    <tr>\n",
       "      <th>2</th>\n",
       "      <td>3</td>\n",
       "      <td>11.047083</td>\n",
       "      <td>100</td>\n",
       "      <td>1.0</td>\n",
       "      <td>None</td>\n",
       "      <td>None</td>\n",
       "      <td>37955</td>\n",
       "      <td>37760.0</td>\n",
       "      <td>195.0</td>\n",
       "      <td>0.005164</td>\n",
       "      <td>100|0.52%</td>\n",
       "      <td>100</td>\n",
       "      <td>1</td>\n",
       "      <td>POLYGON ((712638.891 4274406.918, 712624.069 4...</td>\n",
       "    </tr>\n",
       "    <tr>\n",
       "      <th>3</th>\n",
       "      <td>4</td>\n",
       "      <td>26.420000</td>\n",
       "      <td>101</td>\n",
       "      <td>1.0</td>\n",
       "      <td>None</td>\n",
       "      <td>None</td>\n",
       "      <td>37597</td>\n",
       "      <td>37760.0</td>\n",
       "      <td>-163.0</td>\n",
       "      <td>-0.004300</td>\n",
       "      <td>101|-0.43%</td>\n",
       "      <td>101</td>\n",
       "      <td>2</td>\n",
       "      <td>POLYGON ((701966.660 4282321.634, 701979.733 4...</td>\n",
       "    </tr>\n",
       "    <tr>\n",
       "      <th>4</th>\n",
       "      <td>5</td>\n",
       "      <td>201.246994</td>\n",
       "      <td>102</td>\n",
       "      <td>1.0</td>\n",
       "      <td>None</td>\n",
       "      <td>None</td>\n",
       "      <td>36867</td>\n",
       "      <td>37760.0</td>\n",
       "      <td>-893.0</td>\n",
       "      <td>-0.023649</td>\n",
       "      <td>102|-2.36%</td>\n",
       "      <td>102</td>\n",
       "      <td>1</td>\n",
       "      <td>POLYGON ((705493.564 4292427.049, 705595.415 4...</td>\n",
       "    </tr>\n",
       "  </tbody>\n",
       "</table>\n",
       "</div>"
      ],
      "text/plain": [
       "   ID         AREA DISTRICT  MEMBERS LOCKED  NAME  POPULATION  IDEAL_VALU  \\\n",
       "0   1  2387.352050        1      1.0   None  None       36931     37760.0   \n",
       "1   2    23.070000       10      1.0   None  None       37451     37760.0   \n",
       "2   3    11.047083      100      1.0   None  None       37955     37760.0   \n",
       "3   4    26.420000      101      1.0   None  None       37597     37760.0   \n",
       "4   5   201.246994      102      1.0   None  None       36867     37760.0   \n",
       "\n",
       "   DEVIATION  F_DEVIATIO  DISTRICT_L  Dist_Num  Class  \\\n",
       "0     -829.0   -0.021954     1|-2.2%         1      1   \n",
       "1     -309.0   -0.008200   10|-0.82%        10      2   \n",
       "2      195.0    0.005164   100|0.52%       100      1   \n",
       "3     -163.0   -0.004300  101|-0.43%       101      2   \n",
       "4     -893.0   -0.023649  102|-2.36%       102      1   \n",
       "\n",
       "                                            geometry  \n",
       "0  POLYGON ((361855.540 4492456.329, 361830.526 4...  \n",
       "1  POLYGON ((339394.602 4409561.901, 339518.218 4...  \n",
       "2  POLYGON ((712638.891 4274406.918, 712624.069 4...  \n",
       "3  POLYGON ((701966.660 4282321.634, 701979.733 4...  \n",
       "4  POLYGON ((705493.564 4292427.049, 705595.415 4...  "
      ]
     },
     "execution_count": 38,
     "metadata": {},
     "output_type": "execute_result"
    }
   ],
   "source": [
    "hdist.head()"
   ]
  },
  {
   "cell_type": "code",
   "execution_count": 39,
   "id": "2b8fbf45-f392-4996-9dc6-e9ee67d0e715",
   "metadata": {
    "tags": []
   },
   "outputs": [
    {
     "name": "stderr",
     "output_type": "stream",
     "text": [
      "100%|███████████████████████████████████████████████████████████████████████| 8/8 [00:00<00:00, 117.96it/s]\n",
      "100%|████████████████████████████████████████████████████████████████████████| 8/8 [00:00<00:00, 61.15it/s]\n",
      "100%|████████████████████████████████████████████████████████████████████████| 8/8 [00:00<00:00, 14.44it/s]\n"
     ]
    }
   ],
   "source": [
    "election_df = add_district(cong_df, \"CD\", election_df, \"DISTRICT\")"
   ]
  },
  {
   "cell_type": "code",
   "execution_count": 40,
   "id": "a9fe98af-f37e-4200-835e-f96695f68e41",
   "metadata": {
    "tags": []
   },
   "outputs": [
    {
     "name": "stderr",
     "output_type": "stream",
     "text": [
      "100%|█████████████████████████████████████████████████████████████████████| 34/34 [00:00<00:00, 192.03it/s]\n",
      "100%|█████████████████████████████████████████████████████████████████████| 34/34 [00:00<00:00, 388.99it/s]\n",
      "100%|██████████████████████████████████████████████████████████████████████| 34/34 [00:00<00:00, 38.18it/s]\n"
     ]
    }
   ],
   "source": [
    "election_df = add_district(send, \"SEND\", election_df, \"DISTRICT\")"
   ]
  },
  {
   "cell_type": "code",
   "execution_count": 41,
   "id": "da4c6235-1028-43d0-adde-affe669c3f20",
   "metadata": {
    "tags": []
   },
   "outputs": [
    {
     "name": "stderr",
     "output_type": "stream",
     "text": [
      "100%|███████████████████████████████████████████████████████████████████| 163/163 [00:00<00:00, 281.66it/s]\n",
      "100%|██████████████████████████████████████████████████████████████████| 163/163 [00:00<00:00, 1180.65it/s]\n",
      "100%|███████████████████████████████████████████████████████████████████| 163/163 [00:01<00:00, 110.45it/s]\n"
     ]
    }
   ],
   "source": [
    "election_df = add_district(hdist, \"HDIST\", election_df, \"DISTRICT\")"
   ]
  },
  {
   "cell_type": "code",
   "execution_count": 42,
   "id": "aaee6a30-6a18-473e-bd02-7881c1e94e68",
   "metadata": {},
   "outputs": [
    {
     "data": {
      "text/plain": [
       "['2MOREVAP',\n",
       " 'AMINVAP',\n",
       " 'ASIANVAP',\n",
       " 'ATG16D',\n",
       " 'ATG16R',\n",
       " 'ATG20D',\n",
       " 'ATG20O',\n",
       " 'ATG20R',\n",
       " 'AUD18D',\n",
       " 'AUD18O',\n",
       " 'AUD18R',\n",
       " 'BVAP',\n",
       " 'COUNTYFP',\n",
       " 'GOV16D',\n",
       " 'GOV16O',\n",
       " 'GOV16R',\n",
       " 'GOV20D',\n",
       " 'GOV20O',\n",
       " 'GOV20R',\n",
       " 'HISP',\n",
       " 'HVAP',\n",
       " 'H_2MORE',\n",
       " 'H_AMIN',\n",
       " 'H_ASIAN',\n",
       " 'H_BLACK',\n",
       " 'H_NHPI',\n",
       " 'H_OTHER',\n",
       " 'H_WHITE',\n",
       " 'LTG16D',\n",
       " 'LTG16O',\n",
       " 'LTG16R',\n",
       " 'LTG20D',\n",
       " 'LTG20O',\n",
       " 'LTG20R',\n",
       " 'NAME',\n",
       " 'NHPIVAP',\n",
       " 'NH_2MORE',\n",
       " 'NH_AMIN',\n",
       " 'NH_ASIAN',\n",
       " 'NH_BLACK',\n",
       " 'NH_NHPI',\n",
       " 'NH_OTHER',\n",
       " 'NH_WHITE',\n",
       " 'OTHERVAP',\n",
       " 'PRE16D',\n",
       " 'PRE16O',\n",
       " 'PRE16R',\n",
       " 'PRE20D',\n",
       " 'PRE20O',\n",
       " 'PRE20R',\n",
       " 'SOS16D',\n",
       " 'SOS16O',\n",
       " 'SOS16R',\n",
       " 'SOS20D',\n",
       " 'SOS20O',\n",
       " 'SOS20R',\n",
       " 'STATEFP',\n",
       " 'TOTPOP',\n",
       " 'TRE16D',\n",
       " 'TRE16O',\n",
       " 'TRE16R',\n",
       " 'TRE20D',\n",
       " 'TRE20O',\n",
       " 'TRE20R',\n",
       " 'USS16D',\n",
       " 'USS16O',\n",
       " 'USS16R',\n",
       " 'USS18D',\n",
       " 'USS18O',\n",
       " 'USS18R',\n",
       " 'VAP',\n",
       " 'WVAP',\n",
       " 'geometry',\n",
       " 'CD',\n",
       " 'SEND',\n",
       " 'HDIST']"
      ]
     },
     "execution_count": 42,
     "metadata": {},
     "output_type": "execute_result"
    }
   ],
   "source": [
    "list(election_df.columns)"
   ]
  },
  {
   "cell_type": "markdown",
   "id": "0bba365b-7d46-45ea-9b8b-400fc162a82f",
   "metadata": {},
   "source": [
    "### Put the base precinct year after the precinct information column"
   ]
  },
  {
   "cell_type": "code",
   "execution_count": 43,
   "id": "7086205b-49f4-44a7-be19-9eeac924e07b",
   "metadata": {},
   "outputs": [],
   "source": [
    "base_columns = {}\n",
    "if 'COUNTYFP' + year not in election_df.columns:\n",
    "    base_columns = {\n",
    "        'STATEFP':'STATEFP'+year,\n",
    "        'COUNTYFP':'COUNTYFP'+year,\n",
    "        'PRECINCT':'PRECINCT'+year,\n",
    "        'GEOID':'GEOID'+year,\n",
    "        'NAME':'NAME'+year}\n",
    "election_df.rename(columns=base_columns, inplace = True)"
   ]
  },
  {
   "cell_type": "code",
   "execution_count": 44,
   "id": "3ea62760-cc32-4fcc-8475-c3ba956cb901",
   "metadata": {},
   "outputs": [],
   "source": [
    "# reorder the columns\n",
    "fixed_columns = [\n",
    "    'STATEFP'+year,\n",
    "    'COUNTYFP'+year,\n",
    "    # 'PRECINCT'+year,\n",
    "    # 'GEOID'+year,\n",
    "    'NAME'+year,\n",
    "    'CD',\n",
    "    'SEND',\n",
    "    'HDIST',\n",
    "    'TOTPOP',\n",
    "    'NH_2MORE',\n",
    "    'NH_AMIN',\n",
    "    'NH_ASIAN',\n",
    "    'NH_BLACK',\n",
    "    'NH_NHPI',\n",
    "    'NH_OTHER',\n",
    "    'NH_WHITE',\n",
    "    'HISP',\n",
    "    'H_AMIN',\n",
    "    'H_ASIAN',\n",
    "    'H_BLACK',\n",
    "    'H_NHPI',\n",
    "    'H_OTHER',\n",
    "    'H_WHITE',\n",
    "    'H_2MORE',\n",
    "    'VAP',\n",
    "    'HVAP',\n",
    "    'WVAP',\n",
    "    'BVAP',\n",
    "    'AMINVAP',\n",
    "    'ASIANVAP',\n",
    "    'NHPIVAP',\n",
    "    'OTHERVAP',\n",
    "    '2MOREVAP']\n",
    "\n",
    "election_columns = [col for col in election_df.columns if col not in fixed_columns]\n",
    "final_col = fixed_columns + election_columns\n",
    "election_df = election_df[final_col]"
   ]
  },
  {
   "cell_type": "code",
   "execution_count": 45,
   "id": "fd2b8af8-fac1-44f2-84eb-b2870384daaf",
   "metadata": {},
   "outputs": [
    {
     "data": {
      "text/plain": [
       "['STATEFP20',\n",
       " 'COUNTYFP20',\n",
       " 'NAME20',\n",
       " 'CD',\n",
       " 'SEND',\n",
       " 'HDIST',\n",
       " 'TOTPOP',\n",
       " 'NH_2MORE',\n",
       " 'NH_AMIN',\n",
       " 'NH_ASIAN',\n",
       " 'NH_BLACK',\n",
       " 'NH_NHPI',\n",
       " 'NH_OTHER',\n",
       " 'NH_WHITE',\n",
       " 'HISP',\n",
       " 'H_AMIN',\n",
       " 'H_ASIAN',\n",
       " 'H_BLACK',\n",
       " 'H_NHPI',\n",
       " 'H_OTHER',\n",
       " 'H_WHITE',\n",
       " 'H_2MORE',\n",
       " 'VAP',\n",
       " 'HVAP',\n",
       " 'WVAP',\n",
       " 'BVAP',\n",
       " 'AMINVAP',\n",
       " 'ASIANVAP',\n",
       " 'NHPIVAP',\n",
       " 'OTHERVAP',\n",
       " '2MOREVAP',\n",
       " 'ATG16D',\n",
       " 'ATG16R',\n",
       " 'ATG20D',\n",
       " 'ATG20O',\n",
       " 'ATG20R',\n",
       " 'AUD18D',\n",
       " 'AUD18O',\n",
       " 'AUD18R',\n",
       " 'GOV16D',\n",
       " 'GOV16O',\n",
       " 'GOV16R',\n",
       " 'GOV20D',\n",
       " 'GOV20O',\n",
       " 'GOV20R',\n",
       " 'LTG16D',\n",
       " 'LTG16O',\n",
       " 'LTG16R',\n",
       " 'LTG20D',\n",
       " 'LTG20O',\n",
       " 'LTG20R',\n",
       " 'PRE16D',\n",
       " 'PRE16O',\n",
       " 'PRE16R',\n",
       " 'PRE20D',\n",
       " 'PRE20O',\n",
       " 'PRE20R',\n",
       " 'SOS16D',\n",
       " 'SOS16O',\n",
       " 'SOS16R',\n",
       " 'SOS20D',\n",
       " 'SOS20O',\n",
       " 'SOS20R',\n",
       " 'TRE16D',\n",
       " 'TRE16O',\n",
       " 'TRE16R',\n",
       " 'TRE20D',\n",
       " 'TRE20O',\n",
       " 'TRE20R',\n",
       " 'USS16D',\n",
       " 'USS16O',\n",
       " 'USS16R',\n",
       " 'USS18D',\n",
       " 'USS18O',\n",
       " 'USS18R',\n",
       " 'geometry']"
      ]
     },
     "execution_count": 45,
     "metadata": {},
     "output_type": "execute_result"
    }
   ],
   "source": [
    "list(election_df.columns)"
   ]
  },
  {
   "cell_type": "code",
   "execution_count": 47,
   "id": "1b198042-dbd4-408e-bfd4-4494f2b49245",
   "metadata": {
    "tags": []
   },
   "outputs": [],
   "source": [
    "# store the result in directory \"mo\"\n",
    "os.makedirs(\"./{}\".format(state_ab), exist_ok=True)\n",
    "election_df.to_file(\"./{}/{}.shp\".format(state_ab, state_ab))\n",
    "election_df.to_file('./{}/{}.geojson'.format(state_ab, state_ab), driver='GeoJSON')\n",
    "\n",
    "# Only do once to build json and read from file when generating ensembles\n",
    "graph = Graph.from_file(\"./{}/{}.shp\".format(state_ab, state_ab), ignore_errors=True)\n",
    "graph.to_json(\"./{}/{}.json\".format(state_ab, state_ab))"
   ]
  },
  {
   "cell_type": "code",
   "execution_count": null,
   "id": "a8ba4789-8282-428a-90d4-e59ee50f4064",
   "metadata": {},
   "outputs": [],
   "source": []
  }
 ],
 "metadata": {
  "kernelspec": {
   "display_name": "gerry",
   "language": "python",
   "name": "gerry"
  },
  "language_info": {
   "codemirror_mode": {
    "name": "ipython",
    "version": 3
   },
   "file_extension": ".py",
   "mimetype": "text/x-python",
   "name": "python",
   "nbconvert_exporter": "python",
   "pygments_lexer": "ipython3",
   "version": "3.11.4"
  }
 },
 "nbformat": 4,
 "nbformat_minor": 5
}
